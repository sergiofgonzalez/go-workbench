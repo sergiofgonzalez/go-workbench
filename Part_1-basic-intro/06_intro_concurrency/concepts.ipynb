{
 "cells": [
  {
   "attachments": {},
   "cell_type": "markdown",
   "metadata": {},
   "source": [
    "# 06: Go capabilities: Intro to concurrency\n",
    "\n",
    "This section is a summary of https://go.dev/tour/\n",
    "\n",
    "## Objectives\n",
    "+ goroutines\n",
    "+ channels \n"
   ]
  },
  {
   "attachments": {},
   "cell_type": "markdown",
   "metadata": {},
   "source": [
    "## Summary\n",
    "\n",
    "Go provides concurrency features as part of the core language.\n",
    "\n",
    "This modules teaches you goroutines and channels, and how they are used to implement different concurrency patterns."
   ]
  },
  {
   "attachments": {},
   "cell_type": "markdown",
   "metadata": {},
   "source": [
    "## Goroutines\n",
    "\n",
    "A *goroutine* is a lightweight thread managed by the Go runtime.\n",
    "\n",
    "It's started using the syntax:\n",
    "\n",
    "```go\n",
    "func f(x, y, z) { ... }\n",
    "\n",
    "go f(x, y, z)\n",
    "```\n",
    "\n",
    "The evaluation of `f`, `x`, `y`, and `z` happens in the current goroutine and the execution of `f` happens in the new goroutine.\n",
    "\n",
    "Goroutines run in the same address space, so access to shared memory must be synchronized.\n",
    "\n",
    "The `sync` package provides useful primitives, although in practice you won't need to use them much."
   ]
  },
  {
   "attachments": {},
   "cell_type": "markdown",
   "metadata": {},
   "source": [
    "### Lab\n",
    "\n",
    "Write a program that defines a function `say(s string)` that sleeps for 100 millis and print `s` for 5 times.\n",
    "\n",
    "Then in your main function do:\n",
    "\n",
    "```go\n",
    "go say(\"world\")\n",
    "say(\"hello\")\n",
    "```\n",
    "\n",
    "Notice how the two words get alternated because they run in different threads.\n",
    "\n",
    "| EXAMPLE: |\n",
    "| :------- |\n",
    "| See [01_goroutines-hello](01_goroutines-hello/) for a runnable example. |"
   ]
  },
  {
   "attachments": {},
   "cell_type": "markdown",
   "metadata": {},
   "source": [
    "## Channels\n",
    "\n",
    "Channels are type conduit through which you can send and receive values with the channel operator `<-` (the data flows in the direction of the arrow).\n",
    "\n",
    "```go\n",
    "ch <- v     // Send v to channel ch\n",
    "v := <- ch  // Receive from channel ch and assign to v\n",
    "```\n",
    "\n",
    "Like maps and slices, channels must be created before use:\n",
    "\n",
    "```go\n",
    "ch := make(chan int)\n",
    "```\n",
    "\n",
    "By default, send and receive operation are blocking operations until the other side is ready. This allows goroutines to synchronize without explicit locks or condition variables, and allows for a very simple approach to concurrency."
   ]
  },
  {
   "attachments": {},
   "cell_type": "markdown",
   "metadata": {},
   "source": [
    "### Lab\n",
    "\n",
    "Write a program that sums the numbers in a slice by distributing the work between two goroutines. Once both goroutines have completed their computation, it calculates the final result.\n",
    "\n",
    "Hints:\n",
    "+ Define a function `sum()` that receives a slice and a channel. The function should compute the sum of the slice elements and send the result to the received channel.\n",
    "+ Note that the channel definition is `c chan type` with type identifying the type of elements that can be send and received in the channel.\n",
    "+ In main(), define a int slide and then invoke `sum()` as two goroutines the get assigned half of the slice each.\n",
    "+ Then, receive both results from the channel and print the result.\n",
    "\n",
    "| EXAMPLE: |\n",
    "| :------- |\n",
    "| See [02_goroutines-channels](02_goroutines-channels/) for a runnable example. |"
   ]
  },
  {
   "attachments": {},
   "cell_type": "markdown",
   "metadata": {},
   "source": [
    "## Buffered channels\n",
    "\n",
    "Channels can be buffered by providing a second argument to `make()` when initializing the channel that sets the buffer length:\n",
    "\n",
    "```go\n",
    "ch := make(chan int, 100)\n",
    "```\n",
    "\n",
    "In a buffered channel:\n",
    "+ the send operation is blocking only when the buffer is full\n",
    "+ the receive operation is blocking only when the buffer is empty"
   ]
  },
  {
   "attachments": {},
   "cell_type": "markdown",
   "metadata": {},
   "source": [
    "### Lab\n",
    "\n",
    "Write a program that initializes an int buffered channel with length 2. Then, send two ints to the channel and then receive twice from it. What happens if you make an additional send? What happens if you make an additional receive?\n",
    "\n",
    "| EXAMPLE: |\n",
    "| :------- |\n",
    "| See [03_goroutines-buffered-channels](03_goroutines-buffered-channels/) for a runnable example. |"
   ]
  },
  {
   "attachments": {},
   "cell_type": "markdown",
   "metadata": {},
   "source": [
    "## Range and Close\n",
    "\n",
    "A sender can `close` a channel to indicate that no more values will be sent. Receivers can test whether a channel has been closed by assigning a second parameter to the receive expression:\n",
    "\n",
    "```go\n",
    "v, ok := <- ch\n",
    "```\n",
    "\n",
    "`ok` will be false if there are no more values to receive and the channel is closed.\n",
    "\n",
    "The loop `for i := range c` will receive values from the channel repeatedly until it is closed.\n",
    "\n",
    "| NOTE: |\n",
    "| :---- |\n",
    "| Only the sender should close a channel, never the receiver. Sending on a closed channel will cause a panic. |\n",
    "\n",
    "Note also that channels aren't like files. As a result, you should only close the channel when you explicitly want to tell the receiver that no more values will be sent (e.g., when you want the receiver to terminate a `range` loop)."
   ]
  },
  {
   "attachments": {},
   "cell_type": "markdown",
   "metadata": {},
   "source": [
    "### Lab\n",
    "\n",
    "Write a program that defines a function to calculate the fibonacci sequence as a go routine with the signature `fibonacci(n int, c chan int)`, where n is the number of elements to calculate. Then in the main, define a channel with capacity 10 and use the function as a goroutine. Receive the calculated elements with a `for` loop that ranges over the channel.\n",
    "\n",
    "| EXAMPLE: |\n",
    "| :------- |\n",
    "| See [04_goroutines-range-and-close](04_goroutines-range-and-close/) for a runnable example. |"
   ]
  },
  {
   "attachments": {},
   "cell_type": "markdown",
   "metadata": {},
   "source": [
    "## Select\n",
    "\n",
    "The `select` statement lets a goroutine wait on multiple communication operations.\n",
    "\n",
    "A `select` blocks until one of its cases run, then it executes that case. It chooses one at random if multiple are ready:\n",
    "\n",
    "```go\n",
    "select {\n",
    "  case val1 <- x:\n",
    "    // ... do something\n",
    "  case val2 <- y:\n",
    "    // ... do some other thing\n",
    "}\n",
    "```"
   ]
  },
  {
   "attachments": {},
   "cell_type": "markdown",
   "metadata": {},
   "source": [
    "### Lab\n",
    "\n",
    "Write a program that defines a function `fibonacci()` that receives two channels `c` and `quit`. Within the function, implement an infinite loop that includes a `select` statement. In the first case, of the `select` you use the first channel as an outbound channel in which you write the fibonacci sequence. In the second case, you break out of the infinite loop if you receive something on the second channel (`quit`).\n",
    "\n",
    "HINT: you can use the syntax `<-quit` to detect when some information is available in the `quit` channel.\n",
    "\n",
    "Then, in the main, initialize both channels as `int` channels. Then define an *anonymous goroutine* that writes the numbers 0 through 9 to the first channel and then sends a `0` to the `quit` channel.\n",
    "\n",
    "```go\n",
    "go func () {\n",
    "  //... this is an anonymous goroutine\n",
    "}()\n",
    "```\n",
    "\n",
    "Finally, invoke the `fibonacci()` sequence with both channels. Try to predict what is going to be the result before running it.\n",
    "\n",
    "| EXAMPLE: |\n",
    "| :------- |\n",
    "| See [05_goroutines-select](05_goroutines-select/) for a runnable example. |"
   ]
  },
  {
   "attachments": {},
   "cell_type": "markdown",
   "metadata": {},
   "source": [
    "The `default` case in a `select` is run if no other case is ready.\n",
    "\n",
    "You can use it to try a send or receive without blocking.\n",
    "\n",
    "```go\n",
    "select {\n",
    "case i := <- c:   // blocks until something is ready on c  \n",
    "  // ... use i in here, \n",
    "default:\n",
    "  // executed if c is blocking\n",
    "}\n",
    "```"
   ]
  },
  {
   "attachments": {},
   "cell_type": "markdown",
   "metadata": {},
   "source": [
    "### Lab\n",
    "\n",
    "Write a program that defines the following values:\n",
    "\n",
    "```go\n",
    "tick := time.Tick(100 * time.Millisecond)\n",
    "boom := time.After(500 * time.Millisecond)\n",
    "```\n",
    "\n",
    "The first one would write to a channel `tick` every 100 millis, and the second will write something to a `boom` channel after 500 millis. That is, `time.Tick` and `time.After` return channels.\n",
    "\n",
    "Then, use an infinite loop `for {...}` that wraps `select` that writes `\"tick\"` everytime you get a signal on `tick`, `\"Boom\"` when you get the signal on `boom` after 0.5 seconds, and use return to break out of the infinite loop; and a default case so that you can write `\"...\"` followed by a 50millis sleep when the other operations are blocked because both channels are empty.\n",
    "\n",
    "| EXAMPLE: |\n",
    "| :------- |\n",
    "| See [06_goroutines-select-default](06_goroutines-select-default/) for a runnable example. |"
   ]
  },
  {
   "attachments": {},
   "cell_type": "markdown",
   "metadata": {},
   "source": [
    "### Lab\n",
    "\n",
    "There can be many different binary trees with the same sequence of values stored in it.\n",
    "\n",
    "For example, the following picture shows two binary trees storing the Fibonacci sequence: 1, 1, 2, 3, 5, 8, 13. Even when the shape of the tree is different, when you walk it, you'll get the same sequence:\n",
    "\n",
    "![Tree](./images/tree.png)\n",
    "\n",
    "In this lab, we'll write a function to check whether two binary trees store the same sequence using goroutines and channels.\n",
    "\n",
    "In the lab, you'll use the `tree` package (`golang.org/x/tour/tree`), which defines the `tree.Tree` type as a struct:\n",
    "\n",
    "```go\n",
    "type Tree struct {\n",
    "  Left *Tree\n",
    "  value int\n",
    "  Right *Tree\n",
    "}\n",
    "```\n",
    "\n",
    "1. Implement the `Walk(t *tree.Tree, ch chan int)` function that walks the tree t sending all values from the tree to the channel ch.\n",
    "\n",
    "2. Test the `Walk()` function. The function `tree.new(k)` constructs a randomly structured, but sorted, binary tree holding the values k, 2k, 3k, ...10k. In order to test it, create a new channel ch and trigger the walker using a goroutine `go Walk(tree.New(1), ch)`. Then read and print 10 values from the channel. Those should be the numbers from 1 to 10.\n",
    "\n",
    "3. Implement a `Same(t1, t2 *tree.Tree) bool` the determines whether the trees t1 and t2 contain the same values. In the implementation, use the `Walk()` function.\n",
    "\n",
    "4. Test the `Same()` function. `Same(tree.New(1), tree.New(1))` should return true while `Same(tree.New(1), tree.New(2))` should return false.\n",
    "\n",
    "| EXAMPLE: |\n",
    "| :------- |\n",
    "| See [07_goroutines-equivalent-bin-trees](07_goroutines-equivalent-bin-trees/) for a runnable example. |"
   ]
  },
  {
   "attachments": {},
   "cell_type": "markdown",
   "metadata": {},
   "source": [
    "## Mutex\n",
    "\n",
    "Channels are a great way for communicating among goroutines.\n",
    "\n",
    "However, you might need other constructs if you just want to make sure that only one goroutine can access a variable at a time to avoid conflicts.\n",
    "\n",
    "Go provides a construct for implementing *mutual exclusion* in your applications using a data structure conventionally called *mutex*.\n",
    "\n",
    "The `sync.Mutex` structure provides two methods:\n",
    "+ `Lock`\n",
    "+ `Unlock`\n",
    "\n",
    "You can define a block to be executed in mutual exclusion by surrounding it with a call to `Lock` and `Unlock`:\n",
    "\n",
    "```go\n",
    "func myFunc() {\n",
    "  mu.Lock()\n",
    "  // ... this block is executed in mutual exclusion\n",
    "  mu.Unlock()\n",
    "}\n",
    "```\n",
    "\n",
    "| NOTE: |\n",
    "| :---- |\n",
    "| `defer` keyword is a great way to ensure the mutex will be unlocked once the function has been executed.<br>Remember that `defer` statement schedules the execution of a function until the surrounding function returns. |"
   ]
  },
  {
   "attachments": {},
   "cell_type": "markdown",
   "metadata": {},
   "source": [
    "### Lab\n",
    "\n",
    "Implement a counter `SafeCounter` that is safe to use concurrently by multiple goroutines.\n",
    "\n",
    "Start by defining the `SafeCounter` struct which should include a mutex and a map that associates strings to ints.\n",
    "\n",
    "Then, define the methods `Inc()` and `Value()` on `SafeCounter`. `Inc()` will receive a `key` and will increment the value of the corresponding key in the `SafeCounter` map in a concurrent-safe fashion. Similarly, `Value()` will receive a key and will return the existing value, also in a concurrent-safe fashion.\n",
    "\n",
    "In `main()` initialize a `SafeCounter` value and then implement a loop that increments the key `someKey` 1000 times using go routines for each increment in the iteration.\n",
    "\n",
    "Then, sleep your program for one second and use `Value()` to retrieve the value of the key.\n",
    "\n",
    "| EXAMPLE: |\n",
    "| :------- |\n",
    "| See [08_mutex-safe-counter](08_mutex-safe-counter/) for a runnable example. |"
   ]
  },
  {
   "attachments": {},
   "cell_type": "markdown",
   "metadata": {},
   "source": [
    "### Lab\n",
    "\n",
    "Use Go's concurrency features to parallelize a web crawler.\n",
    "\n",
    "Consider the following program that gives you the scaffolding for a web crawler.\n",
    "\n",
    "Modify the `Crawl` function to fetch URLs in parallel without fetching the same URL twice.\n",
    "\n",
    "Hint: you can keep a cache of the URLs that have been fetches on a map, but maps alone are not safe for concurrent use, so you'll need to synchronize its access.\n",
    "\n",
    "| EXAMPLE: |\n",
    "| :------- |\n",
    "| See [09_goroutines-web-crawler](09_goroutines-web-crawler/) for a runnable example, but please note that it doesn't work well (I need to practice more on concurrency topics). |"
   ]
  }
 ],
 "metadata": {
  "kernelspec": {
   "display_name": "base",
   "language": "python",
   "name": "python3"
  },
  "language_info": {
   "codemirror_mode": {
    "name": "ipython",
    "version": 3
   },
   "file_extension": ".py",
   "mimetype": "text/x-python",
   "name": "python",
   "nbconvert_exporter": "python",
   "pygments_lexer": "ipython3",
   "version": "3.9.13"
  },
  "orig_nbformat": 4,
  "vscode": {
   "interpreter": {
    "hash": "7a2c4b191d1ae843dde5cb5f4d1f62fa892f6b79b0f9392a84691e890e33c5a4"
   }
  }
 },
 "nbformat": 4,
 "nbformat_minor": 2
}
