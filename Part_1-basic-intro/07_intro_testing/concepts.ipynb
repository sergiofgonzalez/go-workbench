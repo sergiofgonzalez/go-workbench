{
 "cells": [
  {
   "attachments": {},
   "cell_type": "markdown",
   "metadata": {},
   "source": [
    "# 07: Go capabilities: Intro to testing\n",
    "\n",
    "## Objectives\n",
    "+ testing approaches and conventions\n"
   ]
  },
  {
   "attachments": {},
   "cell_type": "markdown",
   "metadata": {},
   "source": [
    "## Summary\n",
    "\n",
    "Go provides a lot of built-in capabilities for testing your code.\n",
    "\n",
    "As a convention, Go test files should end in `<name>_test.go`.\n",
    "\n",
    "In the case that we're testing from the user's PoV we should test only what is exposed (that is the uppercase functions) and by convention these tests should go on a `<package-name>_test` package. Alternatively, if we want to test also the unexposed functions the test file should be in the same package as the source and we could use the name `<xyz>_internal_test.go` name."
   ]
  },
  {
   "attachments": {},
   "cell_type": "markdown",
   "metadata": {},
   "source": [
    "## Testing that a function writes something to stdout\n",
    "\n",
    "Go provides a specific tool based on a test function's name which can be used to test that what a function sends to the standard output is according to your expectations.\n",
    "\n",
    "In order to use use, in your test file, you have to define a function named `Example_<func-name-to-test>()` and use the following syntax including comments:\n",
    "\n",
    "```go\n",
    "// Checking main output to stdout\n",
    "func Example_main() {\n",
    "  main()\n",
    "  // Output:\n",
    "  // Hello world\n",
    "}\n",
    "```"
   ]
  },
  {
   "attachments": {},
   "cell_type": "markdown",
   "metadata": {},
   "source": [
    "### Lab\n",
    "\n",
    "Write an internal test file for the *\"Hello, world!\"* program that uses the `Example_<func-name-to-test>()` approach to validate the output is the one expected."
   ]
  },
  {
   "attachments": {},
   "cell_type": "markdown",
   "metadata": {},
   "source": [
    "Most of the times, you will need to test functions that return some values. In those cases, the approach will be different from the one used in the previous example.\n",
    "\n",
    "In those scenarios you need to use the `testing` package.\n",
    "\n",
    "Those test cases should be named `Test<func-name-to-test>(t *testing.T)`. That function should be used to run one or more tests on a function.\n",
    "\n",
    "Every test function should feature the usual four steps:\n",
    "+ arrange: where we set up everything we need to run the test\n",
    "+ act: where we call the tested function\n",
    "+ assert: where we check that the actual output meets our expectations. When it doesn't, we can use the `t.ErrorF()` function that lets you craft an error message and signal the execution of the test as failed.\n",
    "+ teardown: where we clean back and revert the state of the system to how it was before we began the test.\n"
   ]
  },
  {
   "attachments": {},
   "cell_type": "markdown",
   "metadata": {},
   "source": [
    "### Lab\n",
    "\n",
    "Write a program that displays a \"Hello, world\" message in a `main()` function by delegating the message to a `greet()` function that returns the greeting message.\n",
    "\n",
    "Then create a `TestGreet()` function that validates that the `greet()` function works as expected. Change the expected error message to see the test fail to familiarize yourself with that situation.\n",
    "\n",
    "| EXAMPLE: |\n",
    "| :------- |\n",
    "| See [02_test-hello-test](02_test-hello-test/) for a runnable example. |"
   ]
  },
  {
   "attachments": {},
   "cell_type": "markdown",
   "metadata": {},
   "source": [
    "## Test-Driven Design (TDD) in Go\n",
    "\n",
    "TDD (Test-Driven Design) is a discipline that promotes a development control loop consisting of:\n",
    "\n",
    "1. Write a test\n",
    "\n",
    "2. Write code in your program to make the compiler pass\n",
    "\n",
    "3. Make it fail, and confirm that the error messages help identify the problem.\n",
    "\n",
    "4. Write enough code to make the test pass\n",
    "\n",
    "5. Refactor\n",
    "\n",
    "In the following subsections, we'll create several examples that illustrate certain TDD techniques for Go."
   ]
  },
  {
   "attachments": {},
   "cell_type": "markdown",
   "metadata": {},
   "source": [
    "### Setting up shop when doing TDD with Go\n",
    "\n",
    "When writing test, it's quite common to find repeatable patterns that could be refactored in helper functions.\n",
    "\n",
    "For example:\n",
    "\n",
    "```go\n",
    "func TestHello(t *testing.T) {\n",
    "  t.Run(\"sending empty name\", t.Run(t *testing.T) {\n",
    "    want := \"Hello, World!\"\n",
    "    got := Hello(\"\")\n",
    "    if got != want {\n",
    "      t.Errorf(\"got %q, but wanted %q\", got, want)\n",
    "    }\n",
    "  })\n",
    "\n",
    "  t.Run(\"sending name\", t.Run(t *testing.T) {\n",
    "    want := \"Hello, Jason!\"\n",
    "    got := Hello(\"Jason\")\n",
    "    if got != want {\n",
    "      t.Errorf(\"got %q, but wanted %q\", got, want)\n",
    "    }\n",
    "  })  \n",
    "}\n",
    "```\n",
    "\n",
    "| NOTE: |\n",
    "| :---- |\n",
    "| For now, it's enough to know that `t *testing.T` is your hook into the testing framework that provides convenieve methods such as `t.Errorf`. |\n",
    "\n",
    "Note how the assertion code is the same in both subtests. In such cases, we can refactor by creating a helper function `assertCorrectMessage`:\n",
    "\n",
    "```go\n",
    "func assertCorrectMessage(t testing.TB, got, want string) {\n",
    "    t.Helper()\n",
    "    if got != want {\n",
    "      t.Errorf(\"got %q, but wanted %q\", got, want)\n",
    "    }  \n",
    "}\n",
    "```\n",
    "\n",
    "For helper functions, it's a good idea to accept a `testing.TB`, which is an interface that both `testing.B` and `testing.T` satisfy, so that you can call helper functions from a test.\n",
    "\n",
    "The call `t.Helper()` is needed to tell the test suite that this method is a helper. For example, this will report the correct line numbers when the test fails."
   ]
  },
  {
   "attachments": {},
   "cell_type": "markdown",
   "metadata": {},
   "source": [
    "#### Lab\n",
    "\n",
    "Create a Go project for a Hello, world application that delivers the message through a function `Hello` that can receive a named individual and generate either the message \"Hello to {{name}}!\" or \"Hello, World!\" depending on whether a name is given to the function or not.\n",
    "\n",
    "You should create a function that validates what's written on stdout, and another function that validates the different scenarios of the `Hello` function. Write a helper to reduce the boilerplate code used when checking the results.\n",
    "\n",
    "| EXAMPLE: |\n",
    "| :------- |\n",
    "| See [03_tdd-hello-world](03_tdd-hello-world/) for a runnable example. |"
   ]
  },
  {
   "attachments": {},
   "cell_type": "markdown",
   "metadata": {},
   "source": [
    "### Examples\n",
    "\n",
    "Go examples are executed just like tests, so that you can have examples that reflect what the code actually does.\n",
    "\n",
    "Examples reside in a package's test file (e.g., `hello_test.go`) and have the following shape:\n",
    "\n",
    "```go\n",
    "func ExampleAdd() {\n",
    "  sum := Add(1, 5)\n",
    "  fmt.Println(sum)\n",
    "  // Output: 6\n",
    "}\n",
    "```"
   ]
  },
  {
   "attachments": {},
   "cell_type": "markdown",
   "metadata": {},
   "source": [
    "### Benchmarks\n",
    "\n",
    "Benchmarks are another first-class feature of the language, and it is very similar to writing tests.\n",
    "\n",
    "```go\n",
    "func BenchmarkRepeat(b *testing.B) {\n",
    "\tfor i := 0; i < b.N; i++ {\n",
    "\t\titeration.Repeat(\"a\")\n",
    "\t}\n",
    "}\n",
    "```\n",
    "\n",
    "The function is named `BenchmarkXyz(b *testing.B)`.\n",
    "\n",
    "`testing.B` gives you access to `b.N` and within the benchmark function code, we run `Repeat(\"a\")` *b.N* times and measure how long it takes."
   ]
  },
  {
   "attachments": {},
   "cell_type": "markdown",
   "metadata": {},
   "source": [
    "You can run a benchmark test running:\n",
    "\n",
    "```bash\n",
    "# when in the directory with the benchmark tests\n",
    "go test -bench=.\n",
    "\n",
    "# when in the root of the project\n",
    "go test <package>/<test_file>_test.go -bench=.\n",
    "```"
   ]
  },
  {
   "attachments": {},
   "cell_type": "markdown",
   "metadata": {},
   "source": [
    "#### Labs\n",
    "\n",
    "Create a test file with benchmarks for a function `Repeat` that concatenates 5 times a string passed as an argument and implemented in three different ways:\n",
    "+ using a for loop and `+` to concatenate\n",
    "+ using a `strings.Builder`\n",
    "+ using `strings.Repeat`\n",
    "\n",
    "| EXAMPLE: |\n",
    "| :------- |\n",
    "| See [04_tdd-benchmarks](04_tdd-benchmarks/) for a runnable example. |"
   ]
  },
  {
   "attachments": {},
   "cell_type": "markdown",
   "metadata": {},
   "source": [
    "### Variadic functions refresh\n",
    "\n",
    "Go allows you to pass a variable number of arguments to a function using `...`.\n",
    "\n",
    "```go\n",
    "func SumAll(vectorsToSum ...[]int) {\n",
    "  ...\n",
    "}\n",
    "```"
   ]
  },
  {
   "attachments": {},
   "cell_type": "markdown",
   "metadata": {},
   "source": [
    "#### Labs\n",
    "\n",
    "Using TDD, write a function `SumAll` which takes a varying number of slices and returns a new slice containing the totals for each slice passed in.\n",
    "\n",
    "For example:\n",
    "+ `SumAll([]int{1, 2}, []int{0, 9})` would return `[]int{3, 9}`.\n",
    "+ `SumAll([]int{1, 1, 1})` would return `[]int{3}`.\n",
    "\n",
    "Once your tests pass, confirm there you get 100% coverage by running `go test -cover`.\n",
    "\n",
    "| EXAMPLE: |\n",
    "| :------- |\n",
    "| See [05_tdd-cover-variadic-slices](05_tdd-cover-variadic-slices/) for a runnable example. |"
   ]
  },
  {
   "attachments": {},
   "cell_type": "markdown",
   "metadata": {},
   "source": [
    "### Refresh on methods and interfaces\n",
    "\n",
    "You can use almost any named typed as a receiver for a method, except for pointers and interfaces."
   ]
  },
  {
   "attachments": {},
   "cell_type": "markdown",
   "metadata": {},
   "source": [
    "#### Lab\n",
    "\n",
    "This lab illustrates some basic ideas on structs, methods, and interfaces using a TDD approach.\n",
    "\n",
    "The details for the different stages can be found in [06_tdd-structs-methods-interfaces](06_tdd-structs-methods-interfaces/README.md).\n"
   ]
  },
  {
   "attachments": {},
   "cell_type": "markdown",
   "metadata": {},
   "source": [
    "### Refresh on pointers\n",
    "\n",
    "In Go, when you call a function or a method, the arguments are passed by value, and therefore, copied.\n",
    "\n",
    "That is, when you pass a value to a function or method, or use a value as a method receiver, the function or method gets a copy of the value you're passing. As a result, any modifications you make in the copy won't be reflected on the original value.\n",
    "\n",
    "Once you need to use a pointer as a receiver in a particular method, it is a common convention to also change the ones that wouldn't require a pointer for consistency."
   ]
  },
  {
   "attachments": {},
   "cell_type": "markdown",
   "metadata": {},
   "source": [
    "### Refresh on errors\n",
    "\n",
    "Methods and functions should return a value of type `error` to signal error conditions found in your application code.\n",
    "\n",
    "To signal the absence of error, you should return `nil`.\n",
    "\n",
    "Errors can be created using `errors.New(errMsg string)` or `fmt.Errorf(format str, args ...any)`.\n",
    "\n",
    "The `func (e error) Error() string` method defined on errors can be used to get the string representation of an error.\n",
    "\n",
    "When you want to check in a conditional statement for an specific error, you will have to define a *sentinel error*:\n",
    "\n",
    "```go\n",
    "// first alias a string to the new type\n",
    "type conditionErr string\n",
    "\n",
    "// then implement the Error method\n",
    "func (e conditionErr) Error() string {\n",
    "  return string(e)\n",
    "}\n",
    "\n",
    "// finally, define your method as a const\n",
    "const ErrCondition = conditionErr(\"description of the err\")\n",
    "```\n",
    "\n",
    "When creating several sentinel errors, you can create a generic alias and use it as a sort of constructor for the different sentinel errors:\n",
    "\n",
    "```go\n",
    "type libErr string\n",
    "\n",
    "func (e libErr) Error() string {\n",
    "  return string(e)\n",
    "}\n",
    "\n",
    "const (\n",
    "  ErrLibCondition1 = libErr(\"description for cond 1\")\n",
    "  ErrLibCondition2 = libErr(\"description for cond 2\")\n",
    "  ...\n",
    ")\n",
    "```\n",
    "\n",
    "| EXAMPLE: |\n",
    "| :------- |\n",
    "| See [dictionary-v3](./08_tdd-maps/dictionary-v3/) for a runnable example. |"
   ]
  },
  {
   "attachments": {},
   "cell_type": "markdown",
   "metadata": {},
   "source": [
    "#### Lab\n",
    "\n",
    "This lab illustrates the basics of pointers and errors.\n",
    "\n",
    "The details for the different stages of the project can be found in [07_tdd-pointers-errors](07_tdd-pointers-errors/README.md)."
   ]
  },
  {
   "attachments": {},
   "cell_type": "markdown",
   "metadata": {},
   "source": [
    "### Refresh on maps\n",
    "\n",
    "You optionally receive an `ok` signal from a map when trying to retrieve the value associated to a key:\n",
    "\n",
    "```go\n",
    "value, ok := myMap[key]\n",
    "if !ok {\n",
    "  // key was not present in the map\n",
    "}\n",
    "```\n",
    "\n",
    "Maps (as well as slices), allow their elements to be modified without using a pointer to them. This is because maps (and slices) are actually pointers to more complex underlying data structures. Maps (and slices) surface a very simple interface that provides a better DX than we would have if interacting with the underlying representation.\n",
    "\n",
    "Maps can be `nil`. A `nil` map behaves like an empty map when accessing it, but if you try to add a new entry into a map you'll get a runtime panic.\n",
    "\n",
    "As a result, it is considered a good practice to either do:\n",
    "\n",
    "```go\n",
    "var m = map[string]string{} // empty map, won't panic when adding items\n",
    "\n",
    "var m = make(map[string]string, mapLen)\n",
    "```\n",
    "\n",
    "Entries can be removed from maps doing:\n",
    "\n",
    "```go\n",
    "delete(m, k) // removes the key-value identified by k from the map m\n",
    "```\n",
    "\n",
    "Note that delete does not fail if `k` is not found in the map."
   ]
  },
  {
   "attachments": {},
   "cell_type": "markdown",
   "metadata": {},
   "source": [
    "#### Lab\n",
    "\n",
    "This lab illustrates the basics of maps through an example leveraging a TDD approach.\n",
    "\n",
    "The details for the different stages of the project can be found in [08_tdd-maps](08_tdd-maps/README.md)."
   ]
  },
  {
   "attachments": {},
   "cell_type": "markdown",
   "metadata": {},
   "source": [
    "### Dependency Injection\n",
    "\n",
    "Dependency Injection (DI) is a great pattern to use, especially when you are following TDD, as it will facilitate testing by injecting certain dependencies needed by our code.\n",
    "\n",
    "| NOTE: |\n",
    "| :---- |\n",
    "| It is a general misconception to think that you always need a framework when using DI. In its most simple form is just a simple design pattern that helps us with the wiring of the dependencies of a software component. |\n",
    "\n",
    "> **Dependency Injection** is a pattern in which the dependencies of a component are provided as inputs by an external entity, often referred to as the **injector**.\n",
    "\n",
    "The main advantage of this approach is improved decoupling, especially for modules depending on stateful instances.\n",
    "\n",
    "When using DI, each dependency is received from the outside. In practice, it means that the dependent component can be configured to use any compatible dependency, and therefore, the component can be reused in different contexts with minimal effort.\n",
    "\n",
    "\n",
    "The following diagram describes the elements in play when using this design pattern:\n",
    "\n",
    "![Dependency Injection](images/dependency-injection.png)\n",
    "\n",
    "+ A *Service* expects a dependency with a predetermined interface\n",
    "\n",
    "+ An *Injector* retrieves and creates an actual concrete instance that implements such an interface and passes it (*inject it*) into the *Service*. That is, the *Injector* is responsible for providing an instance that fulfills the *Service* dependency."
   ]
  },
  {
   "attachments": {},
   "cell_type": "markdown",
   "metadata": {},
   "source": [
    "There are some disadvantages associated to the *Dependency Injection* pattern.\n",
    "\n",
    "+ It makes the application more difficult to understand, as dependencies are not resolved at coding time.\n",
    "\n",
    "    This becomes especially evident in large applications with a big and complex dependency graph.\n",
    "\n",
    "+ The dependencies must be ready and available when we inject them into the dependent objects, and before we invoke any of the methods of the dependent object that used *DI*.\n",
    "\n",
    "Another pattern related to *DI* is the **Inversion of Control** pattern.\n",
    "\n",
    "> The **Inversion of Control** pattern allows you to shift the responsibility of wiring the modules of an application to a 3rd party entity.\n",
    "\n",
    "This entity can be a **service locator**, that is, a component which will servce a dependency through a method invocation (as in `serviceLocator.get('db')`) or a **dependency injection container**, a system that injects the dependencies into a component based on some metadata specified in code or in a configuration file."
   ]
  },
  {
   "attachments": {},
   "cell_type": "markdown",
   "metadata": {},
   "source": [
    "Getting back to our Go world.\n",
    "\n",
    "Imagine that we want to test a function such as:\n",
    "\n",
    "```go\n",
    "func Greet(name string) {\n",
    "  fmt.Printf(\"Hello to %s!\", name)\n",
    "}\n",
    "```\n",
    "\n",
    "Because `fmt.Print` writes the output to stdout, it makes the function pretty hard to test.\n",
    "\n",
    "If we could *inject* into the component the dependency of printing so that the function wouldn't depend directly on `fmt.Printf` that will simplify things a lot. In non-testing scenarios, we would still inject the dependency that writes the message to stdout, but we could use a different dependency for our tests."
   ]
  },
  {
   "attachments": {},
   "cell_type": "markdown",
   "metadata": {},
   "source": [
    "In particular, for the scenario presented above, we can see that `fmt.Printf` is actually an invocation of `fmt.Fprintf` on which the first argument is `os.Stdout`.\n",
    "\n",
    "This first argument is an `io.Writer`, which is defined as:\n",
    "\n",
    "```go\n",
    "type Writer interface {\n",
    "  Write(p []byte) (n int, err error)\n",
    "}\n",
    "```\n",
    "\n",
    "That is, `io.Writer` is an interface with a single method `Write` that receives a slice of bytes to write, and returns how many bytes were written and an error.\n",
    "\n",
    "We can deduce at this point that `os.Stdout` is a value implementing the `Writer` interface."
   ]
  },
  {
   "attachments": {},
   "cell_type": "markdown",
   "metadata": {},
   "source": [
    "With all the previous information in place, it seems that it'll be great to have our function defined as:\n",
    "\n",
    "```go\n",
    "func Greet(w io.Writer, name string)\n",
    "```"
   ]
  },
  {
   "attachments": {},
   "cell_type": "markdown",
   "metadata": {},
   "source": [
    "#### Lab\n",
    "\n",
    "This lab illustrates the basics of DI.\n",
    "\n",
    "The details for the different stages of the project can be found in [09_tdd-di](09_tdd-di/README.md)."
   ]
  },
  {
   "attachments": {},
   "cell_type": "markdown",
   "metadata": {},
   "source": [
    "### Mocking\n",
    "\n",
    "As it happens with *DI*, it is a misconception that you need a framework to use mocking.\n",
    "\n",
    "In Go, it is extremely easy to create mocks, stubs, and spies just by leveraging *DI*, interfaces, and methods.\n",
    "\n",
    "In the [10_tdd-mocking](10_tdd-mocking/README.md) lab you will have a very comprehensive and step-by-step guide about it."
   ]
  },
  {
   "attachments": {},
   "cell_type": "markdown",
   "metadata": {},
   "source": [
    "#### Lab\n",
    "\n",
    "This lab illustrates the basics of mocking in Go. You will be asked to use DI, interfaces, and methods to properly test a simple application.\n",
    "\n",
    "In the process you will have to create mock implementations for certain areas of your code, so that they can be properly tested.\n",
    "\n",
    "In the [10_tdd-mocking](10_tdd-mocking/README.md) lab you will have a very comprehensive and step-by-step guide about it."
   ]
  },
  {
   "attachments": {},
   "cell_type": "markdown",
   "metadata": {},
   "source": [
    "#### Concurrency\n",
    "\n",
    "In Go most operations are blocking, meaning that it has to finish before Go handles the next operation.\n",
    "\n",
    "If you want to implement a non-blocking operation, you need to run it in a separate *process* called *goroutine*.\n",
    "\n",
    "Using concurrency naively can lead to bugs that are extremely difficult to fix, because they might only show up when certain sequence of calls are give (race conditions).\n",
    "\n",
    "Go tooling can help you identify those using:\n",
    "\n",
    "```bash\n",
    "$ go test -race\n",
    "==================\n",
    "WARNING: DATA RACE\n",
    "Write at 0x00c000016510 by goroutine 9:\n",
    "  runtime.mapassign_faststr()\n",
    ".../concurrency-v1/concurrency.go:15 +0x78\n",
    "\n",
    "Previous write at 0x00c000016510 by goroutine 8:\n",
    "...\n",
    "```\n",
    "\n",
    "Go promotes the use of channels for coordinating routines. Channels are nothing more than concurrent-safe data structures that can both send and receive values."
   ]
  },
  {
   "attachments": {},
   "cell_type": "markdown",
   "metadata": {},
   "source": [
    "#### Lab\n",
    "\n",
    "This lab illustrates the basics and pitfalls of applying concurrency to an existing project. Goroutines, channels, and race conditions are introduced.\n",
    "\n",
    "You can find all the details in [11_tdd-concurrency](11_tdd-concurrency/README.md)"
   ]
  },
  {
   "attachments": {},
   "cell_type": "markdown",
   "metadata": {},
   "source": [
    "### Using `select` to synchronize concurrent processes\n",
    "\n",
    "The `select` statement lets a goroutine wait on multiple communication operations in a clear and succinct way.\n",
    "\n",
    "A `select` statement blocks until one of its cases run, and then it executes that case. It chooses one at random it multiple are ready:\n",
    "\n",
    "```go\n",
    "select {\n",
    "case val1 <- chanX:\n",
    "  // ... do something ...\n",
    "case val2 <- chanY:\n",
    "  // ... do something else ...\n",
    "}\n",
    "```\n",
    "\n",
    "Aditionally, you can include a `default` case, which will run if no other case is ready.\n",
    "\n",
    "```go\n",
    "select {\n",
    "case i := <-c:  // blocks until something is ready on c\n",
    "  // ... do something with i ...\n",
    "default:\n",
    "  // ... do something if c is blocking ...\n",
    "}\n",
    "```"
   ]
  },
  {
   "attachments": {},
   "cell_type": "markdown",
   "metadata": {},
   "source": [
    "### Lab\n",
    "\n",
    "This lab illustrates how to use `select` to synchronize multiple goroutines. Additionally, mocking HTTP servers with the `net/http/httptest` package is also introduced.\n",
    "\n",
    "You can find all the details in [12_tdd-concurrency-select](12_tdd-concurrency-select/README.md)"
   ]
  },
  {
   "attachments": {},
   "cell_type": "markdown",
   "metadata": {},
   "source": [
    "## Reflection"
   ]
  }
 ],
 "metadata": {
  "kernelspec": {
   "display_name": "base",
   "language": "python",
   "name": "python3"
  },
  "language_info": {
   "codemirror_mode": {
    "name": "ipython",
    "version": 3
   },
   "file_extension": ".py",
   "mimetype": "text/x-python",
   "name": "python",
   "nbconvert_exporter": "python",
   "pygments_lexer": "ipython3",
   "version": "3.9.13"
  },
  "orig_nbformat": 4,
  "vscode": {
   "interpreter": {
    "hash": "7a2c4b191d1ae843dde5cb5f4d1f62fa892f6b79b0f9392a84691e890e33c5a4"
   }
  }
 },
 "nbformat": 4,
 "nbformat_minor": 2
}
