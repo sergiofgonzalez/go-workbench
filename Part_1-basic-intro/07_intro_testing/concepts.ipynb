{
 "cells": [
  {
   "attachments": {},
   "cell_type": "markdown",
   "metadata": {},
   "source": [
    "# 07: Go capabilities: Intro to testing\n",
    "\n",
    "## Objectives\n",
    "+ testing approaches and conventions\n"
   ]
  },
  {
   "attachments": {},
   "cell_type": "markdown",
   "metadata": {},
   "source": [
    "## Summary\n",
    "\n",
    "Go provides a lot of built-in capabilities for testing your code.\n",
    "\n",
    "As a convention, Go test files should end in `<name>_test.go`.\n",
    "\n",
    "In the case that we're testing from the user's PoV we should test only what is exposed (that is the uppercase functions) and by convention these tests should go on a `<package-name>_test` package. Alternatively, if we want to test also the unexposed functions the test file should be in the same package as the source and we could use the name `<xyz>_internal_test.go` name."
   ]
  },
  {
   "attachments": {},
   "cell_type": "markdown",
   "metadata": {},
   "source": [
    "## Testing that a function writes something to stdout\n",
    "\n",
    "Go provides a specific tool based on a test function's name which can be used to test that what a function sends to the standard output is according to your expectations.\n",
    "\n",
    "In order to use use, in your test file, you have to define a function named `Example_<func-name-to-test>()` and use the following syntax including comments:\n",
    "\n",
    "```go\n",
    "// Checking main output to stdout\n",
    "func Example_main() {\n",
    "  main()\n",
    "  // Output:\n",
    "  // Hello world\n",
    "}\n",
    "```"
   ]
  },
  {
   "attachments": {},
   "cell_type": "markdown",
   "metadata": {},
   "source": [
    "### Lab\n",
    "\n",
    "Write an internal test file for the *\"Hello, world!\"* program that uses the `Example_<func-name-to-test>()` approach to validate the output is the one expected."
   ]
  },
  {
   "attachments": {},
   "cell_type": "markdown",
   "metadata": {},
   "source": [
    "Most of the times, you will need to test functions that return some values. In those cases, the approach will be different from the one used in the previous example.\n",
    "\n",
    "In those scenarios you need to use the `testing` package.\n",
    "\n",
    "Those test cases should be named `Test<func-name-to-test>(t *testing.T)`. That function should be used to run one or more tests on a function.\n",
    "\n",
    "Every test function should feature the usual four steps:\n",
    "+ arrange: where we set up everything we need to run the test\n",
    "+ act: where we call the tested function\n",
    "+ assert: where we check that the actual output meets our expectations. When it doesn't, we can use the `t.ErrorF()` function that lets you craft an error message and signal the execution of the test as failed.\n",
    "+ teardown: where we clean back and revert the state of the system to how it was before we began the test.\n"
   ]
  },
  {
   "attachments": {},
   "cell_type": "markdown",
   "metadata": {},
   "source": [
    "### Lab\n",
    "\n",
    "Write a program that displays a \"Hello, world\" message in a `main()` function by delegating the message to a `greet()` function that returns the greeting message.\n",
    "\n",
    "Then create a `TestGreet()` function that validates that the `greet()` function works as expected. Change the expected error message to see the test fail to familiarize yourself with that situation.\n",
    "\n",
    "| EXAMPLE: |\n",
    "| :------- |\n",
    "| See [02_test-hello-test](02_test-hello-test/) for a runnable example. |"
   ]
  }
 ],
 "metadata": {
  "kernelspec": {
   "display_name": "base",
   "language": "python",
   "name": "python3"
  },
  "language_info": {
   "codemirror_mode": {
    "name": "ipython",
    "version": 3
   },
   "file_extension": ".py",
   "mimetype": "text/x-python",
   "name": "python",
   "nbconvert_exporter": "python",
   "pygments_lexer": "ipython3",
   "version": "3.9.13"
  },
  "orig_nbformat": 4,
  "vscode": {
   "interpreter": {
    "hash": "7a2c4b191d1ae843dde5cb5f4d1f62fa892f6b79b0f9392a84691e890e33c5a4"
   }
  }
 },
 "nbformat": 4,
 "nbformat_minor": 2
}
