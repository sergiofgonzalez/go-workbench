{
 "cells": [
  {
   "attachments": {},
   "cell_type": "markdown",
   "metadata": {},
   "source": [
    "# 05: Go capabilities: Intro to flow control\n",
    "> loops, conditionals, and defer\n",
    "\n",
    "This section is a summary of https://go.dev/tour/\n",
    "\n",
    "## Objectives \n",
    "+ Learn the basics of Go flow control\n",
    "+ for\n",
    "+ if - else\n",
    "+ switch\n",
    "+ defer"
   ]
  },
  {
   "attachments": {},
   "cell_type": "markdown",
   "metadata": {},
   "source": [
    "## Summary\n",
    "\n",
    "This section is about introducing the basics of the Go flow control statements with conditionals, loops, switches and defers."
   ]
  },
  {
   "attachments": {},
   "cell_type": "markdown",
   "metadata": {},
   "source": [
    "## For\n",
    "\n",
    "Go has only one looping construct, the `for` loop.\n",
    "\n",
    "The basic `for` loop has three components separated by semicolons:\n",
    "+ the init statement, executed before the first iteration\n",
    "+ the condition expression, evaluated before every iteration\n",
    "+ the post statement evaluated at the end of every iteration\n",
    "\n",
    "Typically, the init statement will be a short variable declaration, and those variables will only be visible in the scope of the `for` statement.\n",
    "\n",
    "The loop will stop iterating once the boolean condition evaluated before every iteration is false.\n",
    "\n",
    "Unlike other languages, the `for` statement has no parenthesis, and the curly braces are always required."
   ]
  },
  {
   "attachments": {},
   "cell_type": "markdown",
   "metadata": {},
   "source": [
    "### Lab 1\n",
    "\n",
    "Write a for loop that calculates the sum of the nums 0 through 9 and print the result.\n",
    "\n",
    "| EXAMPLE: |\n",
    "| :------- |\n",
    "| See [01_for-loop](01_for-loop/) for a runnable example. |"
   ]
  },
  {
   "attachments": {},
   "cell_type": "markdown",
   "metadata": {},
   "source": [
    "The init and post statements are optional. This lets you use a for loop for what you would typically implement using a while loop in other programming languages.\n",
    "\n",
    "The syntax in those cases is:\n",
    "\n",
    "```go\n",
    "for ; condition; {\n",
    "  //...loop\n",
    "}\n",
    "```\n",
    "\n",
    "or even simpler:\n",
    "\n",
    "```go\n",
    "for condition {\n",
    "  //...loop body\n",
    "}\n",
    "```"
   ]
  },
  {
   "attachments": {},
   "cell_type": "markdown",
   "metadata": {},
   "source": [
    "### Lab 2\n",
    "\n",
    "Write a program that computes the Fibonacci sequence until you reach the value 21.\n",
    "\n",
    "| EXAMPLE: |\n",
    "| :------- |\n",
    "| See [02_for-while] for a runnable example. |"
   ]
  },
  {
   "attachments": {},
   "cell_type": "markdown",
   "metadata": {},
   "source": [
    "An infinite loop can be compactly expressed as:\n",
    "\n",
    "```go\n",
    "// equivalent to while (true) { ... } in other languages\n",
    "for {\n",
    "\n",
    "}\n",
    "```"
   ]
  },
  {
   "attachments": {},
   "cell_type": "markdown",
   "metadata": {},
   "source": [
    "## If\n",
    "\n",
    "If statements in Go don't require parentheses, but the braces are required.\n",
    "\n",
    "```go\n",
    "if condition {\n",
    "\n",
    "}\n",
    "```"
   ]
  },
  {
   "attachments": {},
   "cell_type": "markdown",
   "metadata": {},
   "source": [
    "### Lab 3\n",
    "\n",
    "Write a program that returns the sqrt of the given float argument as a string, no matter whether the given number is positive or not.\n",
    "\n",
    "Check that it correctly calculates the sqrt of 2 (as 1.41...) and -1 as i.\n",
    "\n",
    "| EXAMPLE: |\n",
    "| :------- |\n",
    "| See [03_if](03_if/) for a runnable example. |"
   ]
  },
  {
   "attachments": {},
   "cell_type": "markdown",
   "metadata": {},
   "source": [
    "In Go, the `if` statement can start with a short statement to execute before the condition. Those variables declared in this way will only be visible in the scope of the if body."
   ]
  },
  {
   "attachments": {},
   "cell_type": "markdown",
   "metadata": {},
   "source": [
    "### Lab 4\n",
    "\n",
    "Write a function `pow()` that takes three floats x, n, lim. If $ x^n \\lt lim $ the function should return $ x^n $. Otherwise, it should return lim.\n",
    "\n",
    "Validate the function with the following arguments:\n",
    "+ `pow(3, 2, 10)` should return 9\n",
    "+ `pow(3, 3, 20)` should return 20\n",
    "\n",
    "| EXAMPLE: |\n",
    "| :------- |\n",
    "| See [04_if-short-stmt](04_if-short-stmt/) for a runnable example. |"
   ]
  },
  {
   "attachments": {},
   "cell_type": "markdown",
   "metadata": {},
   "source": [
    "Variables declared inside an if short statement will also be available inside any of the `else` blocks that are executed if the condition is not met."
   ]
  },
  {
   "attachments": {},
   "cell_type": "markdown",
   "metadata": {},
   "source": [
    "### Lab 5 \n",
    "\n",
    "Write a function `pow()` that takes three floats x, n, lim. If $ x^n \\lt lim $ the function should return $ x^n $. Otherwise, it should return lim and print a message signalling that the limit has been hit.\n",
    "\n",
    "| EXAMPLE: |\n",
    "| :------- |\n",
    "| See [05_if-else](05_if-else/) for a runnable example. |"
   ]
  },
  {
   "attachments": {},
   "cell_type": "markdown",
   "metadata": {},
   "source": [
    "### Lab 6\n",
    "\n",
    "Write a square root function using loops. We want to find the number z for which $ z^2 $ is most nearly x.\n",
    "\n",
    "Computers typically compute the square root of x using a loop. Starting with some guess z, we can adjust z based on how close $ z^2 $ is to x, producing a better guess:\n",
    "\n",
    "```\n",
    "z -= (z*z - x) / (2*z)\n",
    "```\n",
    "\n",
    "Repeating this adjustment makes the guess better and better until we reach an answer that is as close to the actual square root as can be.\n",
    "\n",
    "Implement this in a func `Sqrt()`. A decent starting guess for z is 1, no matter th input. To begin with , repeat the calculation 10 times and print each z along the way. See how close you get to the answer for various values of x (1, 2, 3, ...) and how quickly the guess improves.\n",
    "\n",
    "Next, change the loop condition to stop once the value has stopped changing (or only changes by a very small amount). See if that's more or fewere than 10 iterations. Try other initial guesses for z like x, or x/2 and see if that improves.\n",
    "\n",
    "How close is your function's result with respect to `math.Sqrt`?\n",
    "\n",
    "| EXAMPLE: |\n",
    "| :------- |\n",
    "| See [06_loops-and-funcs](06_loops-and-funcs/) for a runnable example. |\n"
   ]
  },
  {
   "attachments": {},
   "cell_type": "markdown",
   "metadata": {},
   "source": [
    "### Switch\n",
    "\n",
    "The `switch` statement is a shorter way to write a sequence of if - else statements. It will run the first case whose value is equal to the condition expression.\n",
    "\n",
    "In Go, only the selected case will run, and not the rest of the cases that follow. Also, there is no need to break out of the switch, as it will happen automatically in Go.\n",
    "\n",
    "Additionally, in Go switch cases need not to be constants, and the values need to be integers.\n",
    "\n",
    "The syntax is also a bit particular:\n",
    "\n",
    "```go\n",
    "switch os := runtime.GOOS; os {\n",
    "case \"darwin\":\n",
    "  fmt.Println(\"OS X\")\n",
    "case \"linux\":\n",
    "  fmt.Println(\"Linux\")\n",
    "default:\n",
    "  fmt.Printf(\"%s.\\n\", os)\n",
    "}\n",
    "```"
   ]
  },
  {
   "attachments": {},
   "cell_type": "markdown",
   "metadata": {},
   "source": [
    "### Labs 7\n",
    "\n",
    "Write a program that relies on `runtime.GOOS` value to print:\n",
    "+ \"OS X\" if the value is \"Darwin\"\n",
    "+ \"Linux\" if the value is \"linux\"\n",
    "+ Prints the value of that env var if other than Darwin or Linux\n",
    "\n",
    "using a `switch` statement.\n",
    "\n",
    "| EXAMPLE: |\n",
    "| :------- |\n",
    "| See [07_switch](07_switch/) for a runnable example. |"
   ]
  },
  {
   "attachments": {},
   "cell_type": "markdown",
   "metadata": {},
   "source": [
    "Switch cases are evaluated from top to bottom, stopping when a case succeeds.\n",
    "\n",
    "For example, in the following example `f()` won't be called.\n",
    "\n",
    "```go\n",
    "i := 0\n",
    "switch i {\n",
    "case 0:\n",
    "case f():\n",
    "}\n",
    "```"
   ]
  },
  {
   "attachments": {},
   "cell_type": "markdown",
   "metadata": {},
   "source": [
    "### Labs 8\n",
    "\n",
    "Write a program that gets the current day of the week using `time.Now().Weekday()` and prints:\n",
    "+ \"Today\" if the current day of the week is Saturday\n",
    "+ \"Tomorrow\" if the next day of the week is Saturday\n",
    "+ \"In two days time\" if the day after next is Saturday\n",
    "+ \"Too far away\" otherwise\n",
    "\n",
    "Hint: You can add integers to the result of `time.Now().Weekday()` to compare.\n",
    "\n",
    "| EXAMPLE: |\n",
    "| :------- |\n",
    "| See [08_switch-evaluation-order] for a runnable example. |"
   ]
  },
  {
   "attachments": {},
   "cell_type": "markdown",
   "metadata": {},
   "source": [
    "In Go you can write a switch without a condition, and it is equivalent as a switch true. That it, you can write boolean cases and it will be executed the first one to be found true.\n",
    "\n",
    "That option is a clean way to write long if-then-else chains.\n",
    "\n",
    "```go\n",
    "switch {\n",
    "case now.Hour() < 12:\n",
    "  fmt.Println(\"Good morning!\")\n",
    "case now.Hour() < 17:\n",
    "  fmt.Println(\"Good afternoon!\")\n",
    "default:\n",
    "  fmt.Println(\"Good evening!\")\n",
    "}\n",
    "```"
   ]
  },
  {
   "attachments": {},
   "cell_type": "markdown",
   "metadata": {},
   "source": [
    "### Labs 9\n",
    "\n",
    "Write a program that greets:\n",
    "+ Good morning if it's before 12 am\n",
    "+ Good afternoon it it's before 5 pm\n",
    "+ Good evening otherwise\n",
    "\n",
    "| EXAMPLE: |\n",
    "| :------- |\n",
    "| See [09_switch-no-condition](09_switch-no-condition/) for a runnable example. |"
   ]
  },
  {
   "attachments": {},
   "cell_type": "markdown",
   "metadata": {},
   "source": [
    "## Defer\n",
    "\n",
    "The `defer` statement defers the execution of a function until the surrounding function returns.\n",
    "\n",
    "Note that the deferred call's arguments are evaluated immediately, but the function call is not executed until the surrounding function returns:\n",
    "\n",
    "```go\n",
    "// Prints Hello, world! in a contrived way\n",
    "func main() {\n",
    "  defer fmt.Println(\"world!\")\n",
    "  fmt.Println(\"Hello,\")\n",
    "}\n",
    "```"
   ]
  },
  {
   "attachments": {},
   "cell_type": "markdown",
   "metadata": {},
   "source": [
    "### Labs 10\n",
    "\n",
    "Write a function that prints the message Hello to Jason Isaacs! using defer as seen on the snippet above.\n",
    "\n",
    "| EXAMPLE: |\n",
    "| :------- |\n",
    "| See [10_defer](10_defer/) for a runnable example. |"
   ]
  },
  {
   "attachments": {},
   "cell_type": "markdown",
   "metadata": {},
   "source": [
    "Deferred function calls are pushed onto a stack. When a function returns, its deferred calls are executed in a last-in-first-out order."
   ]
  },
  {
   "attachments": {},
   "cell_type": "markdown",
   "metadata": {},
   "source": [
    "### Labs 11\n",
    "\n",
    "Write a function that uses `defer` to print the numbers from 9 to 0 (that is in reverse order) but using an ascending loop.\n",
    "\n",
    "| EXAMPLE: |\n",
    "| :------- |\n",
    "| See [11_defer-order](11_defer-order/) for a runnable example. |"
   ]
  }
 ],
 "metadata": {
  "kernelspec": {
   "display_name": "base",
   "language": "python",
   "name": "python3"
  },
  "language_info": {
   "codemirror_mode": {
    "name": "ipython",
    "version": 3
   },
   "file_extension": ".py",
   "mimetype": "text/x-python",
   "name": "python",
   "nbconvert_exporter": "python",
   "pygments_lexer": "ipython3",
   "version": "3.9.13"
  },
  "orig_nbformat": 4,
  "vscode": {
   "interpreter": {
    "hash": "7a2c4b191d1ae843dde5cb5f4d1f62fa892f6b79b0f9392a84691e890e33c5a4"
   }
  }
 },
 "nbformat": 4,
 "nbformat_minor": 2
}
