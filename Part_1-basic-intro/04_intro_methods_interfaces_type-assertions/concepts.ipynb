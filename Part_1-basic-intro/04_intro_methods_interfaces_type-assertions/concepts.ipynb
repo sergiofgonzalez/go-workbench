{
 "cells": [
  {
   "attachments": {},
   "cell_type": "markdown",
   "metadata": {},
   "source": [
    "# 04: Go capabilities: Intro to methods, interfaces, and type assertions\n",
    "\n",
    "This section is a summary of https://go.dev/tour/\n",
    "\n",
    "## Objectives\n",
    "+ methods \n",
    "+ interfaces\n",
    "+ type assertions"
   ]
  },
  {
   "attachments": {},
   "cell_type": "markdown",
   "metadata": {},
   "source": [
    "## Summary\n",
    "\n",
    "This section teaches you methods and interfaces, the constructs that defines objects and their behaviors."
   ]
  },
  {
   "attachments": {},
   "cell_type": "markdown",
   "metadata": {},
   "source": [
    "## Methods\n",
    "\n",
    "Go does not have classes, but it allows you to define methods on types.\n",
    "\n",
    "A method is a function with a special *receiver* argument. This *receiver* appears in its own argument list between the `func` keyword and the method name.\n",
    "\n",
    "In the example below, a `Vertex` type is defined. On it, and `Dist()` method is declared:\n",
    "\n",
    "```go\n",
    "type Vertex {\n",
    "  X, Y float64\n",
    "}\n",
    "\n",
    "func (v Vertex) Dist() float64 {\n",
    "  return math.Sqrt(v.X * v.X + v.Y * v.Y)\n",
    "}\n",
    "\n",
    "func main() {\n",
    "  v := Vertex(3, 4)\n",
    "  fmt.Println(v.Dist()) // -> 5\n",
    "}\n",
    "```"
   ]
  },
  {
   "attachments": {},
   "cell_type": "markdown",
   "metadata": {},
   "source": [
    "## Lab\n",
    "\n",
    "Create a Vector2D struct and define a method Length() that returns the length of the vector.\n",
    "\n",
    "| EXAMPLE: |\n",
    "| :------- |\n",
    "| See [01_methods](01_methods/) for a runnable example. |"
   ]
  },
  {
   "attachments": {},
   "cell_type": "markdown",
   "metadata": {},
   "source": [
    "You can declare a method on non-struct types too.\n",
    "\n",
    "However, you can only declare a method with a receiver whose type is defined in the same package as the method, which means you cannot define methods on built-in types (such as `int`) because those are defined on other packages."
   ]
  },
  {
   "attachments": {},
   "cell_type": "markdown",
   "metadata": {},
   "source": [
    "### Lab\n",
    "\n",
    "Write a program that defines a type `MyFloat` which is an alias of the `float64` type. Then define a method `MyFloat.Abs()` that returns the absolute value $  | f | $ of a float.\n",
    "\n",
    "| EXAMPLE: |\n",
    "| :------- |\n",
    "| See [02_methods-on-non-structs](02_methods-on-non-structs/) for a runnable example. |"
   ]
  },
  {
   "attachments": {},
   "cell_type": "markdown",
   "metadata": {},
   "source": [
    "You can declare methods with pointer receivers.\n",
    "\n",
    "This means the receiver type has the literal syntax `*T` for some type T. Note that T cannot be a pointer (e.g., T cannot be something like `*int`).\n",
    "\n",
    "Methods with pointer receivers can modify the value which the receiver point to. Since methods often need to modify their receiver, pointer receivers are more common than value receivers.\n",
    "\n",
    "| NOTE: |\n",
    "| :---- |\n",
    "| With a value receiver, a method operate on a copy of the original value (as it happens with value arguments in regular functions). If you want to change the underlying value in methods (or in regular functions) use a pointer. |"
   ]
  },
  {
   "attachments": {},
   "cell_type": "markdown",
   "metadata": {},
   "source": [
    "### Lab\n",
    "\n",
    "Write a program that defines a `Vertex` type with fields `X` and `Y` as `float64` values. Then define on it a `Scale` method that scales both coordinates using pointer receivers.\n",
    "What happens if you remove the pointer?\n",
    "Define also an `Abs()` function on Vertex that returns the result of $ \\sqrt{X^2 + Y^2} $. Is a pointer receiver needed in this case?\n",
    "\n",
    "| EXAMPLE: |\n",
    "| :------- |\n",
    "| See [03_method-pointers](03_method-pointers/) for a runnable example. |"
   ]
  },
  {
   "attachments": {},
   "cell_type": "markdown",
   "metadata": {},
   "source": [
    "Methods can always be rewritten as standalone functions, and this approach is very common in Go."
   ]
  },
  {
   "attachments": {},
   "cell_type": "markdown",
   "metadata": {},
   "source": [
    "### Lab\n",
    "\n",
    "Rewrite [03_method-pointers](03_method-pointers/) using standalone functions.\n",
    "\n",
    "| EXAMPLE: |\n",
    "| :------- |\n",
    "| See [04_functions-standalone](04_functions-standalone/) for a runnable example. |"
   ]
  },
  {
   "attachments": {},
   "cell_type": "markdown",
   "metadata": {},
   "source": [
    "If you compare the syntax used for [03_method-pointers](03_method-pointers/) and [04_functions-standalone](04_functions-standalone/) labs, you'll see that functions with a pointer argument require a pointer, while methods won't:\n",
    "\n",
    "```go\n",
    "// method\n",
    "v.Scale(2)    // Scale is defined as func (v *Vertex) Scale(s float64)\n",
    "\n",
    "Scale(&v, 2)  // Scale is defined as func Scale(v *Vertex, s float64)\n",
    "```\n",
    "\n",
    "Note however that methods with a pointer receiver can be applied to pointers too:\n",
    "\n",
    "```go\n",
    "v := Vertex{3, 4}\n",
    "p := &v\n",
    "p.Scale(10)  // OK\n",
    "```"
   ]
  },
  {
   "attachments": {},
   "cell_type": "markdown",
   "metadata": {},
   "source": [
    "There are two reasons to use a pointer receiver:\n",
    "+ To enable to the method to modify the value its receiver points to.\n",
    "+ To avoid copying the value on each method call, which will have performance benefits especially on large structs.\n",
    "\n",
    "| NOTE: |\n",
    "| :---- |\n",
    "| In general, all methods on a given type should have either value or pointer receivers, but not a mixture of both. |"
   ]
  },
  {
   "attachments": {},
   "cell_type": "markdown",
   "metadata": {},
   "source": [
    "### Lab\n",
    "\n",
    "Repeat [03_method-pointers](03_method-pointers/) but defining all the method with pointer receivers.\n",
    "\n",
    "| EXAMPLE: |\n",
    "| :------- |\n",
    "| See [05_methods-pointer-receives](05_methods-pointer-receivers/) for a runnable example. |"
   ]
  },
  {
   "attachments": {},
   "cell_type": "markdown",
   "metadata": {},
   "source": [
    "## Interfaces\n",
    "\n",
    "An interface type is defines as set of method signatures.\n",
    "\n",
    "A value of a given interface type can hold any value that implements those methods.\n",
    "\n",
    "You can define an interface using the following syntax:\n",
    "\n",
    "```go\n",
    "type Abser interface {\n",
    "  Abs() float64\n",
    "}\n",
    "```\n",
    "\n",
    "Through an interface value you can call the corresponding method:\n",
    "\n",
    "```go\n",
    "var a Abser\n",
    "v := Vertex{3, 4}\n",
    "a = &v\n",
    "a.Abs() // -> will call func (v Vertex) Abs() float 64\n",
    "```"
   ]
  },
  {
   "attachments": {},
   "cell_type": "markdown",
   "metadata": {},
   "source": [
    "### Lab\n",
    "\n",
    "Write a program that defines an interface `Abser` for an `Abs()` method that takes no parameters and returns a `float64`.\n",
    "\n",
    "Then, define a `MyFloat` type which wraps a `float64` and a `Vertex` type which is a struct with `X` and `Y` fields, boths `float64`.\n",
    "\n",
    "Then define an `Abs()` method for `MyFloat` that calculates the absolute value of the float, and an `Abs()` method for a `*Vertex` that returns $ \\sqrt{x^2 + y^2} $.\n",
    "\n",
    "Then in main, define one value for `MyFloat` named `f` (`-math.Sqrt2`) and one value for a `Vertex` initialized to `(3, 4)` named `v`.\n",
    "\n",
    "Then define a value for the `Abser` interface named `a` and do the following assignments:\n",
    "\n",
    "```go\n",
    "a = f\n",
    "a = &v\n",
    "```\n",
    "\n",
    "Why does that assignment work?\n",
    "\n",
    "Then do:\n",
    "\n",
    "```go\n",
    "a = v\n",
    "```\n",
    "\n",
    "Why does that assignment fails?\n",
    "\n",
    "| EXAMPLE: |\n",
    "| :------- |\n",
    "| See [06_interfaces-hello](06_interfaces-hello/) for a runnable example. |\n"
   ]
  },
  {
   "attachments": {},
   "cell_type": "markdown",
   "metadata": {},
   "source": [
    "In Go, interfaces are implemented implicitly &mdash; there is no \"implements\" keyword in Go.\n",
    "\n",
    "Implicit interfaces decouple the definition of an interface from its implementation, which could then appear in any package without prearrangement.\n",
    "\n",
    "| NOTE: |\n",
    "| :---- |\n",
    "| Remember that methods can only be defined in the same package as the type in which it is defined. |"
   ]
  },
  {
   "attachments": {},
   "cell_type": "markdown",
   "metadata": {},
   "source": [
    "### Lab\n",
    "\n",
    "Define an interface `I` that declares a function `M()`. Then define a struct `T` that contains a string `S` as its field.\n",
    "Then define a method `M()` on the struct that prints the content of `S`. In the `main()` function, define a value of the interface and initialize it to a value of `T`. Confirm that you can call `M()`.\n",
    "\n",
    "| EXAMPLE: |\n",
    "| :------- |\n",
    "| See [07_interfaces-implicit-impl](07_interfaces-implicit-impl/) for a runnable example. |"
   ]
  },
  {
   "attachments": {},
   "cell_type": "markdown",
   "metadata": {},
   "source": [
    "Under the hood, interface values can be thought of as a tuple of a value and a concrete type:\n",
    "\n",
    "```\n",
    "(value, type)\n",
    "```\n",
    "\n",
    "That is, an interface value is tightly associated to a value of a concrete type.\n",
    "\n",
    "As a result, calling a method on an interface value executed the method of the same name on its underlying type."
   ]
  },
  {
   "attachments": {},
   "cell_type": "markdown",
   "metadata": {},
   "source": [
    "### Lab\n",
    "\n",
    "Write a program that defines an interface `I` with an `M()` method. Then define a struct `T` with a field `S` of type string. Define a method on `*T` called `M()` that prints the content of the string. Then define a type `F` that aliases a `float64` and define a method `M()` on `F` that prints the float. In main, declare a value of the interface and validate that you can use it to call `M()` on both types.\n",
    "Additionally, define a function `describe(i I)` that prints the tuple `(value, type)`. HINT: you can use the format specifier `%T` to print the type of a value.\n",
    "\n",
    "| EXAMPLE: |\n",
    "| :------- |\n",
    "| See [08_interfaces-interface-values](08_interfaces-interface-value/) for a runnable example. |"
   ]
  },
  {
   "attachments": {},
   "cell_type": "markdown",
   "metadata": {},
   "source": [
    "If the concrete value inside the interface itself is ´nil`, the method will be called with a nil receiver.\n",
    "\n",
    "While this would trigger a null pointer exception in some languages, in Go it is common to write methods that gracefully handle being called with a nil receiver.\n",
    "\n",
    "Note that an interface value that holds a nil concrete value is itself *non-nil*."
   ]
  },
  {
   "attachments": {},
   "cell_type": "markdown",
   "metadata": {},
   "source": [
    "### Labs\n",
    "\n",
    "Write a program the defines an interface `I` with a method `M()`, and a struct `T` with a string field `S`. Then define an implementation of the `M()` method on `*T` that includes a guard to gracefully handle the situation that it is called with a `nil` argument by printing `\"<nil>\"`. In the main function, create code that checks that the `M()` method works well on nin and non-nil concrete types. Additionally, define a function `describe(i I)` that prints the tuple `(value, type)` and use it to get instrospection on both cases.\n",
    "\n",
    "| EXAMPLE: |\n",
    "| :------- |\n",
    "| See [09_interfaces-interface-nil-value](09_interfaces-interface-nil-value/) for a runnable example. |"
   ]
  },
  {
   "attachments": {},
   "cell_type": "markdown",
   "metadata": {},
   "source": [
    "Calling a method on a nil interface value (one that has not been assigned to any concrete type) is a run-time error because there is no type inside the interface type to indicate which concrete method should be called.\n",
    "\n",
    "Those run-time errors will look something like:\n",
    "\n",
    "```\n",
    "panic: runtime error: invalid memory address or nil pointer dereference\n",
    "[signal SIGSEGV: segmentation violation code=0x1 addr=0x0 pc=0x481ce1]\n",
    "```\n",
    "\n",
    "Calling a method that doesn't include the necessary guardrails on a non-nil interface that holds a nil concrete value won't trigger a run-time error. It will use the zero-value of the type instead.\n"
   ]
  },
  {
   "attachments": {},
   "cell_type": "markdown",
   "metadata": {},
   "source": [
    "### Lab\n",
    "\n",
    "Modify [09_interfaces-interface-nil-value](09_interfaces-interface-nil-value/) code to illustrate that you get a run-time errors when you call a method on a nil interface, and when you call a method on a non-nil interface that holds a nil value, and that method hasn't taken the necessary precautions to handle the problem gracefully.\n",
    "\n",
    "| EXAMPLE: |\n",
    "| :------- |\n",
    "| See [10_interface-nil-interface-values](10_interface-nil-interface-values/) for a runnable example. |\n"
   ]
  },
  {
   "attachments": {},
   "cell_type": "markdown",
   "metadata": {},
   "source": [
    "The empty interface is an interface that specifies zeero methods in its definition:\n",
    "\n",
    "```go\n",
    "interface{}\n",
    "```\n",
    "\n",
    "An empty interface may hold values of any type, because every type implements at least zero methods.\n",
    "\n",
    "This construct is used by code that handles values of unknown type. For example, `fmt.Print()` takes arguments of type `interface{}` because it cannot predict the type of arguments it'll receive."
   ]
  },
  {
   "attachments": {},
   "cell_type": "markdown",
   "metadata": {},
   "source": [
    "### Lab\n",
    "\n",
    "Write a program the declares a function `describe()` that can take an argument of any kind. The function should print the tuple `(value, type)` for any argument it receives.\n",
    "\n",
    "| EXAMPLE: |\n",
    "| :------- |\n",
    "| See [11_interface-empty-interface](11_interface-empty-interface/) for a runnable example. |"
   ]
  },
  {
   "attachments": {},
   "cell_type": "markdown",
   "metadata": {},
   "source": [
    "## Type assertions\n",
    "\n",
    "A type assertion provides access to an interface value's underlying concrete value:\n",
    "\n",
    "```go\n",
    "// asserts that the interface value `i` holds\n",
    "// the concrete type T and assigns the underlying\n",
    "// T value to the variable t\n",
    "t := i.(T)\n",
    "```\n",
    "\n",
    "If `i` does not hold a `T`, the statement will trigger a panic.\n",
    "\n",
    "\n",
    "In order to test whether an interface value holds a specific type, a type assertion can return two values: the underlying value and a boolean value indicating whether the assertion succeeded:\n",
    "\n",
    "```go\n",
    "// if ok == true, t will hold the T value\n",
    "// otherwise, the t will be the zero value\n",
    "t, ok := i.(T)\n",
    "```\n",
    "\n",
    "\n",
    "| NOTE: |\n",
    "| :---- |\n",
    "| Note the similarity between the expression above and the one used when checking if a given key is available in a map `val, ok := myMap[key]`. |"
   ]
  },
  {
   "attachments": {},
   "cell_type": "markdown",
   "metadata": {},
   "source": [
    "### Lab\n",
    "\n",
    "Write a program that defines an interface value `i` of type `interface{}` and value `\"Hello\"`.\n",
    "Then, in the program, check that you can access the underlying string value from the interface using type assertion, and also, that when testing the assertion, the value of `ok` is true.\n",
    "\n",
    "Finally, use the test assertion syntax to check if you can read the underlying value as a `float64` and how a panic is triggered when you try to do directly the assertion.\n",
    "\n",
    "| EXAMPLE: |\n",
    "| :------- |\n",
    "| See [12_type_assertions-hello](12_type_assertions-hello/) for a runnable example. |"
   ]
  },
  {
   "attachments": {},
   "cell_type": "markdown",
   "metadata": {},
   "source": [
    "## Type switches\n",
    "\n",
    "A type switch is a construct that permits several type assertions in series.\n",
    "\n",
    "The syntax is similar to a regular switch statement, but the cases are compared against the type of value held and not the value itself:\n",
    "\n",
    "```go\n",
    "switch v := i.(type) {\n",
    "  case T:\n",
    "    // logic to apply when i holds a T value\n",
    "  case S:\n",
    "    // logic to apply when i holds an S value\n",
    "  default:\n",
    "    // no match, v has the same type as i\n",
    "}\n",
    "```\n",
    "\n",
    "Note that `type` is a keyword, and it replaces the specific type used in type assertions."
   ]
  },
  {
   "attachments": {},
   "cell_type": "markdown",
   "metadata": {},
   "source": [
    "### Lab\n",
    "\n",
    "Write a program that defines a function `do()` that receives an argument `i` of type `interface{}`.\n",
    "In the function body, implement a type switch to detect whether `i` holds an `int`, a `string`, or something different from an `int` or a `string`.\n",
    "+ When it is an int, use the underlying value to multiply it by 2 and print it.\n",
    "+ When it is a string, calculate its length and print it using quotes (HINT: use `%q`).\n",
    "+ In any other case, just type the underlying value (HINT: use `%T`)\n",
    "\n",
    "Then in the main function try the three cases.\n",
    "\n",
    "| EXAMPLE: |\n",
    "| :------- |\n",
    "| See [13_type_switches-hello](13_type_switches-hello/) for a runnable example. |"
   ]
  },
  {
   "attachments": {},
   "cell_type": "markdown",
   "metadata": {},
   "source": [
    "## Stringers\n",
    "\n",
    "One of the most ubiquitous interfaces is `Stringer` defined in the `fmt` package:\n",
    "\n",
    "```go\n",
    "type Stringer interface {\n",
    "  String() string\n",
    "}\n",
    "```\n",
    "\n",
    "A `Stringer` is a type that can describe itself as a string.\n",
    "\n",
    "Many packages look for this interface to print values, so you should implement it in your types to make well behave with `fmt` packages and others.\n",
    "\n",
    "For example, when implementing that method in one of your types, your `String()` implementation will be called when `fmt.Println()` is called."
   ]
  },
  {
   "attachments": {},
   "cell_type": "markdown",
   "metadata": {},
   "source": [
    "### Lab\n",
    "\n",
    "Create a struct type `Person` defined by a string and an int identifying the person's name and age.\n",
    "\n",
    "Then, implement the `Stringer` interface in the struct with a function that reports the person's name and age in the format `name (age)`.\n",
    "\n",
    "In the main function, invoke `fmt.Println()` on a Person value. What happens if you don't implement the `Stringer()` interface?\n",
    "\n",
    "| EXAMPLE: |\n",
    "| :------- |\n",
    "| See [14_stringer-hello](14_stringer-hello/) for a runnable example. |"
   ]
  },
  {
   "attachments": {},
   "cell_type": "markdown",
   "metadata": {},
   "source": [
    "### Lab\n",
    "\n",
    "Write a program that makes the `IPAddr` type defined as below implement `fmt.Stringer` to print the content of an `IPAddr` value shown as a dotted quad (x.y.z.w).\n",
    "\n",
    "```go\n",
    "type IPAddr [4]byte\n",
    "```\n",
    "\n",
    "| EXAMPLE: |\n",
    "| :------- |\n",
    "| See [15_stringer-ipaddr](15_stringer-ipaddr/) for a runnable example. |"
   ]
  },
  {
   "attachments": {},
   "cell_type": "markdown",
   "metadata": {},
   "source": [
    "## Errors\n",
    "\n",
    "Go programs express error state with `error` interface values.\n",
    "\n",
    "The `error` type is a built-in interface similar to `fmt.Stringer`:\n",
    "\n",
    "```go\n",
    "type error interface {\n",
    "  Error() string\n",
    "}\n",
    "```\n",
    "\n",
    "Many packages look for the `error` interface when dealing with errors, like `fmt` does for printing errors.\n",
    "\n",
    "Functions often return an `error` value, and your functions should handle errors by testing whether that error equals `nil`:\n",
    "\n",
    "```go\n",
    "i, err := strconv.Atoi(\"42\")\n",
    "if err != nil {\n",
    "  fmt.Printf(\"Couldn't convert number: %v\\n\", err)\n",
    "  return\n",
    "}\n",
    "fmt.Println(\"Converted integer:\", i)\n",
    "```"
   ]
  },
  {
   "attachments": {},
   "cell_type": "markdown",
   "metadata": {},
   "source": [
    "### Lab\n",
    "\n",
    "Write a program that defines a `MyError` struct with fields `When` of type `time.Time` and `What` of type `string`.\n",
    "Then define an implementation of the `Error()` function of the `error` interface that returns the error string as \"at when, what\".\n",
    "Also define a `run()` function that returns a pointer to an instance of &MyError.\n",
    "\n",
    "Finally, invoke the `run()` function and print the error if not nil.\n",
    "\n",
    "HINT: you can do very succinctly:\n",
    "\n",
    "```go\n",
    "if err := run(); err != nil {\n",
    "  fmt.Println(err)\n",
    "}\n",
    "```\n",
    "\n",
    "| EXAMPLE: |\n",
    "| :------- |\n",
    "| See [16_errors-hello](16_errors-hello/) for a runnable example. |"
   ]
  },
  {
   "attachments": {},
   "cell_type": "markdown",
   "metadata": {},
   "source": [
    "### Lab\n",
    "\n",
    "Using the `Sqrt()` function from [06_loops-and-funcs](../05_go_tour_002/06_loops-and-funcs/sqrt-loops-and-funcs/) modify it so that it returns an `error` value.\n",
    "\n",
    "`Sqrt` should return a non-nil error value when given a negative number, as roots of negative numbers are not supported by the algorithm.\n",
    "\n",
    "In order to so so, create a new type `type ErrNegativeSqrt float64` and make it an error by implementing the `error` interface such that `ErrNegativeSqrt(-2).Error()` returns the message `\"cannot Sqrt negative number: -2\"`.\n",
    "\n",
    "| NOTE: |\n",
    "| :---- |\n",
    "| A call to `fmt.Sprint(e)` inside the `Error()` method will send the program into an infinite loop. Can you explain why?<br>It can be avoided by converting `e` first using `fmt.Sprint(float64(e))`. |\n",
    "\n",
    "Change your `Sqrt` function to return an `ErrNegativeSqrt` value when given a negative number.\n",
    "\n",
    "| EXAMPLE: |\n",
    "| :------- |\n",
    "| See [17_errors-sqrt](17_errors-sqrt/) for a runnable example. |"
   ]
  },
  {
   "attachments": {},
   "cell_type": "markdown",
   "metadata": {},
   "source": [
    "## Readers\n",
    "\n",
    "The `io` package specifies the `io.Reader` interface, which represents the read end of a stream of data.\n",
    "\n",
    "The Go standard library contains many implementations of this interface, including files, network connections, compressors, ciphers...\n",
    "\n",
    "The `io.Reader` interface has a `Read` method:\n",
    "\n",
    "```go\n",
    "func (T) Read(b []byte) (n int, err error)\n",
    "```\n",
    "\n",
    "`Read()` populates the given byte slice with data and returns the number of bytes populated and an error value. It returns an `io.EOF` error when the stream ends."
   ]
  },
  {
   "attachments": {},
   "cell_type": "markdown",
   "metadata": {},
   "source": [
    "### Lab\n",
    "\n",
    "Write a program that creates a `strings.Reader`, an implementation of the `io.Reader` interface, that is backed by a string using `strings.NewReader()`.\n",
    "Then define a byte slice of length 8, and read from the Reader, consuming 8 bytes at a time, until the stream is exhausted.\n",
    "\n",
    "While reading, print two lines for every read operation:\n",
    "+ The first one must show the values returned by `Read()`, as well as the byte slice contents.\n",
    "+ The second should print the contents of the slice from the beginning to the number of bytes returned by the `Read()` operation.\n",
    "\n",
    "| EXAMPLE: |\n",
    "| :------- |\n",
    "| See [18_reader-hello](18_reader-hello/) for a runnable example. |"
   ]
  },
  {
   "attachments": {},
   "cell_type": "markdown",
   "metadata": {},
   "source": [
    "### Lab\n",
    "\n",
    "Implement a `Reader` type that emits an infinite stream of ASCII character `'A'`.\n",
    "\n",
    "| EXAMPLE: |\n",
    "| :------- |\n",
    "| See [19_reader-custom-reader](19_reader-custom-reader/) for a runnable example. |"
   ]
  },
  {
   "attachments": {},
   "cell_type": "markdown",
   "metadata": {},
   "source": [
    "### Lab\n",
    "\n",
    "A common pattern is an `io.Reader` that wraps another `io.Reader` modifying the stream in some way.\n",
    "\n",
    "For example, the `gzip.NewReader()` function takes an `io.Reader` that is a stream of compressed data and returns a `*gzip.Reader` which is another type that implements `io.Reader` but represents the stream of decompressed data.\n",
    "\n",
    "Implement a `rot13Reader` that implements `ioReader` and reads from an `ioReader` modifying the stream by applying the [rot13](https://en.wikipedia.org/wiki/ROT13) to all alphabetical characters.\n",
    "\n",
    "The `rot13Reader` struct should be defined as:\n",
    "\n",
    "```go\n",
    "type rot13Reader struct {\n",
    "  r io.Reader\n",
    "}\n",
    "```\n",
    "\n",
    "| EXAMPLE: |\n",
    "| :------- |\n",
    "| See [20_reader-rot-reader] for a runnable example. |"
   ]
  },
  {
   "attachments": {},
   "cell_type": "markdown",
   "metadata": {},
   "source": [
    "## Images\n",
    "\n",
    "The package `Image` defines the `Image` interface:\n",
    "\n",
    "```go\n",
    "type Image interface {\n",
    "  ColorModel()  color.Model\n",
    "  Bounds()      Rectangle\n",
    "  At(x, y int)  color.Color\n",
    "}\n",
    "```\n",
    "\n",
    "The `color.Color` and `color.Model` are also interfaces, but the following predefined implementations are available `color.RGBA` and `color.RGBAModel`. The `Rectangle` is an `image.Rectangle` that is defined by the four coordinates of the top left and bottom right vertices."
   ]
  },
  {
   "attachments": {},
   "cell_type": "markdown",
   "metadata": {},
   "source": [
    "### Lab\n",
    "\n",
    "Write a program that creates a new RGBA image for the Rectangle with top-left vertex (0, 0) and bottom-right vertex (100, 100) using the function `image.newRGBA()`.\n",
    "\n",
    "Then validate it implements the interface by accessing the `Bounds()` and `At` functions.\n",
    "\n",
    "| EXAMPLE: |\n",
    "| :------- |\n",
    "| See [21_image-hello](21_image-hello/) for a runnable example. |"
   ]
  },
  {
   "attachments": {},
   "cell_type": "markdown",
   "metadata": {},
   "source": [
    "### Lab\n",
    "\n",
    "Let's write an image generator similar to the one created in [pic-slice](../06_go_tour_003/15_pic-slice/pic-slice) that returns an implementation of `image.Image` instead of 2D matrix (2D slice).\n",
    "\n",
    "Define your own `Image` type, and implement the necessary methods, and call `pic.ShowImage`. `Bounds` should return an `image.Rectangle` like `image.Rect(0, 0, w, h)`, and `ColorModel` should return `color.RGBAModel`. `At` should return a color; the value `v` in the previous implementation of the last picture generator corresponds to the `color.RGBA{v, v, 255, 255}`.\n",
    "\n",
    "| EXAMPLE: |\n",
    "| :------- |\n",
    "| See [22_image-pic-generator](22_image-pic-generator/) for a runnable example. |"
   ]
  }
 ],
 "metadata": {
  "kernelspec": {
   "display_name": "base",
   "language": "python",
   "name": "python3"
  },
  "language_info": {
   "codemirror_mode": {
    "name": "ipython",
    "version": 3
   },
   "file_extension": ".py",
   "mimetype": "text/x-python",
   "name": "python",
   "nbconvert_exporter": "python",
   "pygments_lexer": "ipython3",
   "version": "3.9.13"
  },
  "orig_nbformat": 4,
  "vscode": {
   "interpreter": {
    "hash": "7a2c4b191d1ae843dde5cb5f4d1f62fa892f6b79b0f9392a84691e890e33c5a4"
   }
  }
 },
 "nbformat": 4,
 "nbformat_minor": 2
}
