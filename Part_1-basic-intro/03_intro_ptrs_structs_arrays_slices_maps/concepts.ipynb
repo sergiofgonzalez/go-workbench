{
 "cells": [
  {
   "attachments": {},
   "cell_type": "markdown",
   "metadata": {},
   "source": [
    "# 03: Go capabilities: Intro to pointers, structs, arrays, slices and maps\n",
    "\n",
    "This section is a summary of https://go.dev/tour/\n",
    "\n",
    "## Objectives\n",
    "+ Introduce pointers \n",
    "+ Learn how to define types based on existing ones\n",
    "+ structs\n",
    "+ arrays\n",
    "+ slices\n",
    "+ maps"
   ]
  },
  {
   "attachments": {},
   "cell_type": "markdown",
   "metadata": {},
   "source": [
    "## Summary\n",
    "\n",
    "This section teaches you about types, structs, slices, and maps."
   ]
  },
  {
   "attachments": {},
   "cell_type": "markdown",
   "metadata": {},
   "source": [
    "## Pointers\n",
    "\n",
    "Go has pointers! A pointer is nothing more that variable that holds the memory address of another value.\n",
    "\n",
    "The type `*T` is a pointer to a value of type `T`. It's zero value is `nil`.\n",
    "\n",
    "```go\n",
    "var p *int  // p is a pointer to an int\n",
    "```\n",
    "\n",
    "The `&` operator generates a pointer to its operand:\n",
    "\n",
    "```go\n",
    "var p *int\n",
    "i := 42\n",
    "p = &i      // p holds the memory address of i\n",
    "```\n",
    "\n",
    "The `*` operator dereferences a pointer and lets you get its underlying value:\n",
    "\n",
    "```go\n",
    "var p *int\n",
    "i := 42\n",
    "p = &i            \n",
    "fmt.Println(*p)   // -> 42\n",
    "*p = 21           // Sets the value of i through the pointer\n",
    "fmt.Println(i)    // -> 21\n",
    "```\n",
    "\n",
    "Unlike C, Go has no pointer arithmetic."
   ]
  },
  {
   "attachments": {},
   "cell_type": "markdown",
   "metadata": {},
   "source": [
    "### Lab\n",
    "\n",
    "Write a program that defines the variables i and j with values 42 and 2701 respectively.\n",
    "1. Define a variable p that points to i and use the pointer to print the value of i\n",
    "2. Use p to change the value of i. Confirm that the value has changed.\n",
    "3. Make p point to j. Change the value of j through the pointer so that j /= 37. Confirm that the value of j has changed.\n",
    "\n",
    "| EXAMPLE: |\n",
    "| :------- |\n",
    "| See [01_pointers] for a runnable example. |"
   ]
  },
  {
   "attachments": {},
   "cell_type": "markdown",
   "metadata": {},
   "source": [
    "In Go, when we call a function, the arguments are passed by copy. This means that if you want to allow a function to alter one of the arguments it receives, you should pass a pointer to that variable."
   ]
  },
  {
   "attachments": {},
   "cell_type": "markdown",
   "metadata": {},
   "source": [
    "## Structs\n",
    "\n",
    "A `struc` is a collection of fields.\n",
    "\n",
    "```go\n",
    "type Vertex struct {\n",
    "  X int\n",
    "  Y int\n",
    "}\n",
    "\n",
    "v := Vertex{1, 2}\n",
    "```"
   ]
  },
  {
   "attachments": {},
   "cell_type": "markdown",
   "metadata": {},
   "source": [
    "Struct fields are accessed using a dot:\n",
    "\n",
    "```go\n",
    "v.X = 4\n",
    "fmt.Println(v.Y)  // => 2\n",
    "```"
   ]
  },
  {
   "attachments": {},
   "cell_type": "markdown",
   "metadata": {},
   "source": [
    "### Lab\n",
    "\n",
    "Write a program that defines a struct `Point` that has as field its coordinates X and Y. Instantiate a Point and initialize it with the coordinate (3, 2) and print it. Then, multiply the X coordinate by 2 and print the resulting Point in the format (X, Y).\n",
    "\n",
    "| EXAMPLE: |\n",
    "| :------- |\n",
    "| See [02_structs](02_structs/) for a runnable example. |"
   ]
  },
  {
   "attachments": {},
   "cell_type": "markdown",
   "metadata": {},
   "source": [
    "Struct fields can be accessed through a struct pointer (that is, a pointer that points to a struct instance).\n",
    "\n",
    "To access a field of the struct through the pointer you can do `p.X`. That is, you don't need to use the syntax `(*p).X`."
   ]
  },
  {
   "attachments": {},
   "cell_type": "markdown",
   "metadata": {},
   "source": [
    "### Lab\n",
    "\n",
    "Define a struct `Vertex` with int fields X, Y being its coordinates. Declare a pointer to an instance of that struct and values 1, 2. Then use the pointer to multiply its Y coordinate by 2 and print the resulting vertex.\n",
    "\n",
    "| EXAMPLE: |\n",
    "| :------- |\n",
    "| See [03_struct-pointers](03_struct-pointers/) for a runnable example. |"
   ]
  },
  {
   "attachments": {},
   "cell_type": "markdown",
   "metadata": {},
   "source": [
    "A struct literal denotes a newly allocated struct value by listing the values of its fields.\n",
    "\n",
    "```go\n",
    "type Vertext struct {\n",
    "  X, Y int\n",
    "}\n",
    "v1 = Vertex{1, 2}   // struct literal\n",
    "```\n",
    "\n",
    "You can list a subset of fields using the syntax:\n",
    "\n",
    "```go\n",
    "v2 = Vertex{X: 2}   // Y: 0 is implicit\n",
    "v3 = Vertex{}       // X: 0 and Y: 0 are implicit\n",
    "```\n",
    "\n",
    "You can initialize a pointer to a struct value like:\n",
    "\n",
    "```go\n",
    "p = &Vertex{0, 1}   // p has type *Vertex\n",
    "```"
   ]
  },
  {
   "attachments": {},
   "cell_type": "markdown",
   "metadata": {},
   "source": [
    "## Arrays\n",
    "\n",
    "The type `[n]T` denotes an array of n values of type T.\n",
    "\n",
    "```go\n",
    "var a [10]int   // an array of 10 integers\n",
    "```\n",
    "\n",
    "An array cannot be resized.\n",
    "\n",
    "The individual elements can be accessed using the syntax:\n",
    "\n",
    "```go\n",
    "a[i] = value\n",
    "```\n",
    "\n",
    "An array can be initialized inline using the syntax:\n",
    "\n",
    "```go\n",
    "nums := int[3]{1, 2, 3}\n",
    "```"
   ]
  },
  {
   "attachments": {},
   "cell_type": "markdown",
   "metadata": {},
   "source": [
    "### Lab\n",
    "\n",
    "Write a program that defines an array of 3 strings and initialize its elements using the syntax array[i] = elem with the values \"Hello\", \"to\", \"Jason Isaacs\".\n",
    "\n",
    "Then print the first and last element.\n",
    "\n",
    "Finally, define an array with the 7 first prime numbers and print it.\n",
    "\n",
    "| EXAMPLE: |\n",
    "| :------- |\n",
    "| See [04_arrays](04_array/) for a runnable example. |"
   ]
  },
  {
   "attachments": {},
   "cell_type": "markdown",
   "metadata": {},
   "source": [
    "## Slices\n",
    "\n",
    "A Go slice is a dynamically-sized, flexible view into the elements of an array.\n",
    "\n",
    "| NOTE: |\n",
    "| :---- |\n",
    "| Slices are much more common than arrays in Go. |\n",
    "\n",
    "You define a slice using the syntax:\n",
    "\n",
    "```go\n",
    "myslice []T // slice of elements of type T\n",
    "```\n",
    "\n",
    "A slice is formed by specifying two indices:\n",
    "\n",
    "```go\n",
    "myslice[low:high] // half open range including the first element, but excludes the last one\n",
    "```"
   ]
  },
  {
   "attachments": {},
   "cell_type": "markdown",
   "metadata": {},
   "source": [
    "### Lab\n",
    "\n",
    "Write a program that defines an array including the first 6 prime numbers. Then define a slice s on the former array that takes the second, third, and fourth elements and print it.\n",
    "\n",
    "| EXAMPLE: |\n",
    "| :------- |\n",
    "| See [05_slices](05_slices/) for a runnable example. |"
   ]
  },
  {
   "attachments": {},
   "cell_type": "markdown",
   "metadata": {},
   "source": [
    "A slice does not store any data, it just describes a section of an underlying array. \n",
    "\n",
    "However, changing the elements of a slice modifies the underlying array. Also, any other slices sharing the same underlying array will see the same changes."
   ]
  },
  {
   "attachments": {},
   "cell_type": "markdown",
   "metadata": {},
   "source": [
    "### Lab\n",
    "\n",
    "Write a program that defines an array with 4 movie actors. Define two slices over the same array `a` with the first and second elements, `b` with the second and third element. Modify the second element of `b`. Print the underlying array and the two slices and confirm that the new value is reflected in the three variables.\n",
    "\n",
    "| EXAMPLE: |\n",
    "| :------- |\n",
    "| See [06_slices](./06_slices-ptr/) for a runnable example. |"
   ]
  },
  {
   "attachments": {},
   "cell_type": "markdown",
   "metadata": {},
   "source": [
    "You can define slice literals with the following syntax:\n",
    "\n",
    "```go\n",
    "[]T{v1, v2, v3}  // creates the underlying array and then builds a slice that references it\n",
    "```"
   ]
  },
  {
   "attachments": {},
   "cell_type": "markdown",
   "metadata": {},
   "source": [
    "### Lab\n",
    "\n",
    "Write a program defining slice literal containing the first 6 prime numbers. Then write another slice that holds the values true, false, true, false, true, false.\n",
    "\n",
    "Then, define a slice literal for a struct whose fields are an int and a bool and initialize it with 6 values.\n",
    "\n",
    "| EXAMPLE: |\n",
    "| :------- |\n",
    "| See [07_slice-literals](07_slice-literals/) for a runnable example. |"
   ]
  },
  {
   "attachments": {},
   "cell_type": "markdown",
   "metadata": {},
   "source": [
    "When slicing, you may omit the high or low bounds to use their defaults:\n",
    "+ `0` for the lower bound\n",
    "+ `len(slice)` for the upper bound\n",
    "\n",
    "\n",
    "That will let you use expressions such as:\n",
    "\n",
    "```go\n",
    "a[:10]\n",
    "a[0:]\n",
    "a[:]\n",
    "```\n"
   ]
  },
  {
   "attachments": {},
   "cell_type": "markdown",
   "metadata": {},
   "source": [
    "### Labs\n",
    "\n",
    "Create a slice with the 6 first prime numbers. Then, perform the following operations showing what will be the result before printing it:\n",
    "\n",
    "```go\n",
    "primes := []int{...}\n",
    "\n",
    "s := s[1:4]\n",
    "s = s[:2]\n",
    "s = s[1:]\n",
    "```\n",
    "\n",
    "| EXAMPLE: |\n",
    "| :------- |\n",
    "| See [08_slice-bounds](08_slice-bounds/) for a runnable example. |\n"
   ]
  },
  {
   "attachments": {},
   "cell_type": "markdown",
   "metadata": {},
   "source": [
    "A slice has both length and capacity:\n",
    "\n",
    "+ The length of a slice is the number of elements it contains. It can be obtained through `len(s)`.\n",
    "\n",
    "+ The capacity of a slice is the number of elements in the underlying array, counting from the first element in the slice. It can be obtained through `cap(s)`.\n",
    "\n",
    "You can extend a slice's capacity by re-slicing it, provided that it has sufficient capacity.\n",
    "\n",
    "If you try to extend a slice beyond its capacity it'll fail.\n",
    "\n",
    "```\n",
    "panic: runtime error: slice bounds out of range [:10] with capacity 4\n",
    "```"
   ]
  },
  {
   "attachments": {},
   "cell_type": "markdown",
   "metadata": {},
   "source": [
    "### Labs\n",
    "\n",
    "Create a slice `s` with the 6 first prime numbers.\n",
    "Then re-slice it so that `s` has zero elements.\n",
    "Then re-slice it again so that it has the first three elements.\n",
    "Then re-slice it again to drop the first two elements.\n",
    "\n",
    "Create a function `printSlice(s []int)` that you'll invoke at the after each operation showing the slice length and capacity (apart from the contents of the slice).\n",
    "\n",
    "| EXAMPLE: |\n",
    "| :------- |\n",
    "| See [09_slice-len-and-cap](09_slice-len-and-cap/) for a runnable example. |"
   ]
  },
  {
   "attachments": {},
   "cell_type": "markdown",
   "metadata": {},
   "source": [
    "Note that it is trickier than it seems: A slice opens a window on an underlying backing array. \n",
    "\n",
    "This means operations on a slice take into account the backing array/slice independently of the current contents.\n",
    "\n",
    "For example:\n",
    "\n",
    "```go\n",
    "s := []int{2, 3, 5, 7, 11, 13}\n",
    "printSlice(s)\t\t// len=6, cap=6 [2 3 5 7 11 13]\n",
    "\n",
    "s = s[:0]\n",
    "printSlice(s)\t\t// len=0, cap=6 []\n",
    "\n",
    "// This is unexpected: orig items from the capacity are resuscitated\n",
    "// because the backing slice was [2 3 5 7 11 13]\n",
    "s = s[:4]\n",
    "printSlice(s)\t\t// len=4, cap=6 [2 3 5 7]\n",
    "\n",
    "s = s[2:]       // now the backing array/slice has changed\n",
    "printSlice(s)\t\t// len=2, cap=4 [5 7]\n",
    "```"
   ]
  },
  {
   "attachments": {},
   "cell_type": "markdown",
   "metadata": {},
   "source": [
    "The zero value of a slice is `nil`. This also hints that a slice is a kind of a pointer on some backing array.\n",
    "\n",
    "Note that even if a slice is nil, you can still check its length and capacity."
   ]
  },
  {
   "attachments": {},
   "cell_type": "markdown",
   "metadata": {},
   "source": [
    "### Lab\n",
    "\n",
    "Create an empty slice and validate that it has the zero value. Print its capacity and length.\n",
    "\n",
    "| EXAMPLE: |\n",
    "| :------- |\n",
    "| See [10_slice-nil](10_slice-nil/) for a runnable example. |"
   ]
  },
  {
   "attachments": {},
   "cell_type": "markdown",
   "metadata": {},
   "source": [
    "Slices can be created with a built-in `make()` function. This enables you to create dynamically-sized arrays.\n",
    "\n",
    "```go\n",
    "a := make([]int, 5) // creates a zeroed array and returns a slice that references it\n",
    "```\n",
    "\n",
    "You can specify a capacity as well:\n",
    "\n",
    "```go\n",
    "b := make([]int, 0, 5)  // len(b)=0, cap(b)=5\n",
    "```"
   ]
  },
  {
   "attachments": {},
   "cell_type": "markdown",
   "metadata": {},
   "source": [
    "### Lab\n",
    "\n",
    "Write a program that creates several slices:\n",
    "+ create a slice with `make()` backed by an int array with 5 elements\n",
    "+ create a slice with `make()` backed by an int array with 0 elements and capacity 5\n",
    "+ a slice using the previous one that drops all the elements after the second\n",
    "+ a slice using the previous one that take takes the elements from the 2nd to the 5th element.\n",
    "\n",
    "Print each of the slices that are created.\n",
    "\n",
    "| EXAMPLE: |\n",
    "| :------- |\n",
    "| See [11_slice-make](11_slice-make/) for a runnable example. |"
   ]
  },
  {
   "attachments": {},
   "cell_type": "markdown",
   "metadata": {},
   "source": [
    "Note that working with slices is again a bit more challenging than it would seem:\n",
    "\n",
    "```go\n",
    "\tb := make([]int, 0, 5) // [], len=0, cap=5\n",
    "\n",
    "\tc := b[:2]  // [0 0], len=2, cap=5\n",
    "\n",
    "\td := c[2:5] // [0 0 0], len=3, cap=3\n",
    "```"
   ]
  },
  {
   "attachments": {},
   "cell_type": "markdown",
   "metadata": {},
   "source": [
    "You can create slices of any type, including slices of slices:\n",
    "\n",
    "```go\n",
    "board := [][]string{  // a slice of slice of strings\n",
    "  //...\n",
    "}\n",
    "```"
   ]
  },
  {
   "attachments": {},
   "cell_type": "markdown",
   "metadata": {},
   "source": [
    "### Lab\n",
    "\n",
    "Create a board for Tic Tac Toe using a slice of a slice of strings. The unused positions should be labeled with the string `\"_\"`.\n",
    "\n",
    "Then, populate the board with the following player moves:\n",
    "+ X player to (0, 0)\n",
    "+ O player to (2, 2)\n",
    "+ X player to (1, 2)\n",
    "+ O player to (1, 0)\n",
    "+ X player to (0, 2)\n",
    "\n",
    "Then print the final state of the board using a for loop.\n",
    "\n",
    "Hint: using `strings.Join()` to create a string out of the strings in a row.\n",
    "\n",
    "| EXAMPLE: |\n",
    "| :------- |\n",
    "| See [12_slices-of-slice](12_slices-of-slice/) for a runnable example. |"
   ]
  },
  {
   "attachments": {},
   "cell_type": "markdown",
   "metadata": {},
   "source": [
    "You can append new elements to an existing slice using the `append()` function:\n",
    "\n",
    "```go\n",
    "func append(s []T, vs ...T) []T\n",
    "```\n",
    "\n",
    "The first parameter `s` is the slice, and the rest are T values to append to the slice. The resulting value is a slice containing all the elements of the original slice plus the provided values.\n",
    "\n",
    "If the backing array of the slice is too smal to fit the request, a bigger array will be allocated. The returned slice will point to the newly allocated array.\n",
    "\n",
    "| NOTE: |\n",
    "| :---- |\n",
    "| You can review the official documentation for the [`append()`](https://pkg.go.dev/builtin#append) function here https://pkg.go.dev/builtin#append. Also |"
   ]
  },
  {
   "attachments": {},
   "cell_type": "markdown",
   "metadata": {},
   "source": [
    "### Lab\n",
    "\n",
    "Create a program that declares a slice `s` without initializing it, and print it. Then append the values 0 and 1 and see how the slice capacity is increased.\n",
    "Confirm that you can append several elements in one shot.\n",
    "\n",
    "| EXAMPLE: |\n",
    "| :------- |\n",
    "| See [13_slice-append](13_slice-append) for a runnable example. |"
   ]
  },
  {
   "attachments": {},
   "cell_type": "markdown",
   "metadata": {},
   "source": [
    "### Lab\n",
    "\n",
    "Verify that when receiving a slice in a function, you're receiving it by reference so that:\n",
    "+ You can change the items in the underlying array\n",
    "+ But you cannot reassign the slice (i.e., the caller of the function will receive the same slice it sent to the function) after the function has completed its execution\n",
    "\n",
    "| EXAMPLE: |\n",
    "| :------- |\n",
    "| See [22_slice_func-by-ref](22_slice-func-by-ref/) for a runnable example. |"
   ]
  },
  {
   "attachments": {},
   "cell_type": "markdown",
   "metadata": {},
   "source": [
    "### Lab\n",
    "\n",
    "Create a function `Append(s []byte, data []byte) slice` that appends the given data to an existing slice. Note that if there is not enough capacity in the given slice, you'll need to create a new one and return it.\n",
    "\n",
    "HINT: Use the function `copy()` to copy a source slice to a target slice.\n",
    "\n",
    "| EXAMPLE: |\n",
    "| :------- |\n",
    "| See [23_slice-append-impl](23_slice-append-impl/) for a runnable example. |"
   ]
  },
  {
   "attachments": {},
   "cell_type": "markdown",
   "metadata": {},
   "source": [
    "### Lab\n",
    "\n",
    "Effective Go in its [Two-dimensional slices](https://go.dev/doc/effective_go#two_dimensional_slices) section describes two different ways of allocating 2D slices.\n",
    "\n",
    "Write a program that allocates an 80x25 two-dimensional array using the two methods described:\n",
    "+ allocating each slice (row) independently\n",
    "+ construct the object with a single allocation and then readjusting.\n",
    "\n",
    "| EXAMPLE: |\n",
    "| :------- |\n",
    "| See [24_slice-slice-2d-alloc](24_slice_slice-2d-alloc/) for a runnable example. |"
   ]
  },
  {
   "attachments": {},
   "cell_type": "markdown",
   "metadata": {},
   "source": [
    "## Range\n",
    "\n",
    "The `range` form of a for loop lets you iterate over a slice or map.\n",
    "\n",
    "When ranging over a slice, two values are returned:\n",
    "+ the index of the element that is being iterated\n",
    "+ a copy of the element at that index\n",
    "\n",
    "```go\n",
    "s := int[]{2, 3, 5, 7, 11, 13}\n",
    "\n",
    "for i, v := range s {\n",
    "  fmt.Printf(\"s[%d]=%d\", i, v)\n",
    "}\n",
    "```"
   ]
  },
  {
   "attachments": {},
   "cell_type": "markdown",
   "metadata": {},
   "source": [
    "You can skip the index or value using `_`:\n",
    "\n",
    "```go\n",
    "for i, _ := range s { \n",
    "  //...\n",
    "}\n",
    "\n",
    "for _, v := range s { \n",
    "  //...\n",
    "}\n",
    "```\n",
    "\n",
    "| NOTE: |\n",
    "| :---- |\n",
    "| If you only want the index you can write `for i := range s`. |"
   ]
  },
  {
   "attachments": {},
   "cell_type": "markdown",
   "metadata": {},
   "source": [
    "### Lab\n",
    "\n",
    "Write a program that defines a slice with the squares of 2 from $ 2^0 $ to $ 2^7 $. Then write a piece of code that iterates over the elements of the slice printing \"2 ** i = <slice value at i>\".\n",
    "\n",
    "Crete another slice that defines a similar slice, this time using a for loop.\n",
    "\n",
    "| EXAMPLE: |\n",
    "| :------- |\n",
    "| See [14_range](14_range/) for a runnable example. |"
   ]
  },
  {
   "attachments": {},
   "cell_type": "markdown",
   "metadata": {},
   "source": [
    "### Lab\n",
    "\n",
    "Write a program that fully implements the function in the program below:\n",
    "\n",
    "```go\n",
    "package main\n",
    "\n",
    "import \"golang.org/x/tour/pic\"\n",
    "\n",
    "func Pic(dx, dy, int) [][]uint8 {\n",
    "}\n",
    "\n",
    "func main() {\n",
    "  pic.Show(Pic)\n",
    "}\n",
    "```\n",
    "\n",
    "Where `Pic()` returns a slice of length `dy`, each element of which is a slice of `dx` 8-bit unsigned integers. When you run the program, it will display your picture, interpreting your picture as grayscale values.\n",
    "\n",
    "For what the function return you can try with `(x+y)/2`, `x*y`, and `x^y`.\n",
    "\n",
    "| EXAMPLE: |\n",
    "| :------- |\n",
    "| See [15_pic-slice](15_pic-slice/) for a runnable example. |"
   ]
  },
  {
   "attachments": {},
   "cell_type": "markdown",
   "metadata": {},
   "source": [
    "## Maps\n",
    "\n",
    "A map associates keys to values.\n",
    "\n",
    "The zero value of a map is `nil`. A `nil` map has no keys, and it won't allow you to add no keys.\n",
    "\n",
    "The `make()` function returns a map of the given type, initialized and ready to use."
   ]
  },
  {
   "attachments": {},
   "cell_type": "markdown",
   "metadata": {},
   "source": [
    "### Lab\n",
    "\n",
    "Write a program that defines a struct `Vertex` with fields `Lat` and `Long` of type `float64`.\n",
    "\n",
    "Then declare a global variable `m` as a map whose key is a string and whose value are instances of `Vertex`.\n",
    "\n",
    "Then in the main program initialize a few entries:\n",
    "+ Bell Labs: (40.68433, -74.39967)\n",
    "+ Torre del Oro: (37.382412, -5.996490)\n",
    "+ Rockefeller Center: (40.758678,\t-73.978798)\n",
    "\n",
    "Then, print the entries.\n",
    "\n",
    "| EXAMPLE: |\n",
    "| :------- |\n",
    "| See [16_maps](16_maps/) for a runnable example. |"
   ]
  },
  {
   "attachments": {},
   "cell_type": "markdown",
   "metadata": {},
   "source": [
    "Map literals can be defined as follows:\n",
    "\n",
    "```go\n",
    "type Vertex struct {\n",
    "  Lat, Long float64\n",
    "}\n",
    "\n",
    "var m = map[string]Vertex{\n",
    "  \"Bell Labs\": Vertex{\n",
    "    40.68433, -74.39967,\n",
    "  },\n",
    "  \"Torre del Oro\": Vertex{\n",
    "    37.382412, \n",
    "    -5.996490,\n",
    "  },\n",
    "}\n",
    "```\n",
    "\n",
    "Alternatively, you can drop the `Vertex` as it is a type name:\n",
    "\n",
    "```go\n",
    "var m = map[string]Vertex{\n",
    "  \"Bell Labs\": {40.68433, -74.39967},\n",
    "  \"Torre del Oro\": {37.382412, -5.996490},\n",
    "}\n",
    "```"
   ]
  },
  {
   "attachments": {},
   "cell_type": "markdown",
   "metadata": {},
   "source": [
    "The basic operations on a map are described below:\n",
    "\n",
    "```go\n",
    "// Insert or Update an element\n",
    "m[key] = elem\n",
    "\n",
    "// Retrieve an element\n",
    "elem = m[key]\n",
    "\n",
    "// Delete a key\n",
    "delete(m, key)\n",
    "\n",
    "// Test if key is present; ok will be true if key is in m, false otherwise\n",
    "elem, ok = m[key]\n",
    "```"
   ]
  },
  {
   "attachments": {},
   "cell_type": "markdown",
   "metadata": {},
   "source": [
    "### Lab\n",
    "\n",
    "Implement the `WordCount()` function in the program below:\n",
    "\n",
    "```go\n",
    "package main\n",
    "\n",
    "import (\n",
    "\t\"golang.org/x/tour/wc\"\n",
    ")\n",
    "\n",
    "func WordCount(s string) map[string]int {\n",
    "\treturn map[string]int{\"x\": 1}\n",
    "}\n",
    "\n",
    "func main() {\n",
    "\twc.Test(WordCount)\n",
    "}\n",
    "```\n",
    "\n",
    "The function should return a map of the counts of each word in the string s. The `wc.Test()` function will run a test suite to confirm the implementation.\n",
    "\n",
    "HINT: you might find `strings.Fields` function helpful.\n",
    "\n",
    "| EXAMPLE: |\n",
    "| :------- |\n",
    "| See [17_maps-wordcount](17_maps-wordcount/) for a runnable example. |"
   ]
  },
  {
   "attachments": {},
   "cell_type": "markdown",
   "metadata": {},
   "source": [
    "You can iterate over the keys and values of a map using `for` and `range`:\n",
    "\n",
    "```go\n",
    "type language string\n",
    "\n",
    "phrasebook := map[language][string] {\n",
    "  \"en\": \"Hello to Jason Isaacs\",\n",
    "  \"es\": \"Saludos a Jason Isaacs\",\n",
    "}\n",
    "\n",
    "for l, g := range phrasebook {\n",
    "  fmt.Println(\"The greeting in %q is %q\", l, g)\n",
    "}\n",
    "```\n"
   ]
  },
  {
   "attachments": {},
   "cell_type": "markdown",
   "metadata": {},
   "source": [
    "We've seen that we can define Maps that have structs as the associated values. Typically, you will define such structs as `type T struct { ... }`, but in some cases, you might want to define such structs inline when its use is restricted to a particular function or method.\n",
    "\n",
    "```go\n",
    "mymap := map[string]struct {\n",
    "  fld1 string\n",
    "  fld2 int\n",
    "}{\n",
    "  \"key1\": {\n",
    "    fld1: \"value for key1::fld1\",\n",
    "    fld2: 1,\n",
    "  },\n",
    "  \"key2\": {\n",
    "    fld1: \"value for key2::fld1\",\n",
    "    fld2: 2,\n",
    "  },\n",
    "  \"key3\": {\n",
    "    fld1: \"value for key3::fld1\",\n",
    "    fld2: 3,\n",
    "  },\n",
    "}\n",
    "```"
   ]
  },
  {
   "attachments": {},
   "cell_type": "markdown",
   "metadata": {},
   "source": [
    "### Lab\n",
    "\n",
    "Create a map in which the key is a string, and the value is a struct with two strings `input` and `got` to represent the different test cases you might want to run through.\n",
    "\n",
    "| EXAMPLE: |\n",
    "| :------- |\n",
    "| See [21_maps-inline-struct](21_maps-inline-struct/) for a runnable example. |"
   ]
  },
  {
   "attachments": {},
   "cell_type": "markdown",
   "metadata": {},
   "source": [
    "## Function values\n",
    "\n",
    "Functions are values too. \n",
    "\n",
    "They can be passed around just like other values. They may be used as function arguments and return values.\n",
    "\n",
    "The following function accepts as an argument a functions that takes two `float64` and return a `float64`:\n",
    "\n",
    "```go\n",
    "func compute(fn func(float64, float64) float64) float64 {\n",
    "  //...\n",
    "}\n",
    "```\n",
    "\n",
    "Function values are defined as follows:\n",
    "\n",
    "```go\n",
    "myfn := func(...) ... {\n",
    "  ...\n",
    "}\n",
    "\n",
    "myval := myfn(...)\n",
    "```"
   ]
  },
  {
   "attachments": {},
   "cell_type": "markdown",
   "metadata": {},
   "source": [
    "### Labs\n",
    "\n",
    "Write a program that defines a function `compute()` that takes a function that takes two `float64` and return a `float64`, and two `float64` arguments that it uses to invoke and return the value given for the function passes as a parameter.\n",
    "\n",
    "Then in main, define a function value that computes the hypotenuse of a right triangle and use `compute()` to get the result for a triangle whose sides are 3 and 4.\n",
    "Then use the compute function to print the result of $ 3^4 $ using `math.Pow`.\n",
    "\n",
    "| EXAMPLE: |\n",
    "| :------- |\n",
    "| See [18_function-values](18_function-values/) for a runnable example. |"
   ]
  },
  {
   "attachments": {},
   "cell_type": "markdown",
   "metadata": {},
   "source": [
    "Go functions may be closures.\n",
    "\n",
    "A closure is a function value that references variables from outside its body. The function may access and assign to the referenced variables, as if the function had been bound to the variables. In practice, it means that the returned function can access the variables that were defined in the function from which it was returned even after that outer function is long gone.\n",
    "\n",
    "See the Lab below for an example."
   ]
  },
  {
   "attachments": {},
   "cell_type": "markdown",
   "metadata": {},
   "source": [
    "### Lab\n",
    "\n",
    "Write a program that defines a function `adder()` that returns a function that accepts an int that it uses to increment a total count. Each time that the function returned is invoked, the total is updated. Initially, that total count is zero.\n",
    "\n",
    "In the `main()` function get two functions returned by `adder()` as function values, and invoke them in a loop from 0 to 9 passing the values `i` and `-2*i`.\n",
    "\n",
    "| EXAMPLE: |\n",
    "| :------- |\n",
    "| See [19_function-closures](19_function-closures/) for a runnable example. |"
   ]
  },
  {
   "attachments": {},
   "cell_type": "markdown",
   "metadata": {},
   "source": [
    "### Lab\n",
    "\n",
    "Write a program that defines a function `fibonacci()` that returns a function that each time that is invoked it gives you the next number in the Fibonacci sequence (0, 1, 1, 2, 3, 5, ...).\n",
    "\n",
    "HINT: use closures\n",
    "\n",
    "| EXAMPLE: |\n",
    "| :------- |\n",
    "| See [20_function-closures-fibonacci](20_function-closures-fibonacci/) for a runnable example. |"
   ]
  }
 ],
 "metadata": {
  "kernelspec": {
   "display_name": "base",
   "language": "python",
   "name": "python3"
  },
  "language_info": {
   "codemirror_mode": {
    "name": "ipython",
    "version": 3
   },
   "file_extension": ".py",
   "mimetype": "text/x-python",
   "name": "python",
   "nbconvert_exporter": "python",
   "pygments_lexer": "ipython3",
   "version": "3.9.13"
  },
  "orig_nbformat": 4,
  "vscode": {
   "interpreter": {
    "hash": "7a2c4b191d1ae843dde5cb5f4d1f62fa892f6b79b0f9392a84691e890e33c5a4"
   }
  }
 },
 "nbformat": 4,
 "nbformat_minor": 2
}
