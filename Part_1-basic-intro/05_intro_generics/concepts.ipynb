{
 "cells": [
  {
   "attachments": {},
   "cell_type": "markdown",
   "metadata": {},
   "source": [
    "# 08: Go capabilities: Intro to generics\n",
    "\n",
    "This section is a summary of https://go.dev/tour/\n",
    "\n",
    "## Objectives\n",
    "+ introducing generics \n"
   ]
  },
  {
   "attachments": {},
   "cell_type": "markdown",
   "metadata": {},
   "source": [
    "## Summary\n",
    "\n",
    "This section teaches you how to use type parameters in Go functions and structs, so that you can employ generics in your code."
   ]
  },
  {
   "attachments": {},
   "cell_type": "markdown",
   "metadata": {},
   "source": [
    "## Type parameters in functions\n",
    "\n",
    "Go functions can be written to work on multiple types using *type parameters*. The type parameters of a function appear between brackets before the function's arguments.\n",
    "\n",
    "```go\n",
    "func Index[T comparable](s []T, x T) int\n",
    "```\n",
    "\n",
    "The declaration above means that `s` is a slice of any type T that fulfills the built-in constraint `comparable`. `x` is also a value of the same type.\n",
    "\n",
    "`comparable` is a useful constraint that makes it possible to use the `==` and `!=` on values of the type.\n",
    "\n",
    "For example, we can use it to compare a value to all slice elements until a match is found."
   ]
  },
  {
   "attachments": {},
   "cell_type": "markdown",
   "metadata": {},
   "source": [
    "### Lab\n",
    "\n",
    "Implement the function `Index()` as defined above. It must return the index of x in s if found, or -1 if not found.\n",
    "\n",
    "Confirm in main that can be used to search in slices of ints and strings.\n",
    "\n",
    "| EXAMPLE: |\n",
    "| :------- |\n",
    "| See [01_generics-index](01_generics-index/) for a runnable example. |"
   ]
  },
  {
   "attachments": {},
   "cell_type": "markdown",
   "metadata": {},
   "source": [
    "## Generic types\n",
    "\n",
    "In addition to generic functions, Go also supports generic types. \n",
    "\n",
    "A type can be parameterized with a type parameter, which might come in handy for implementing generic data structures.\n",
    "\n",
    "For example, the definition of a linked-list that can hold any type is:\n",
    "\n",
    "```go\n",
    "type List[T any] struct {}\n",
    "```"
   ]
  },
  {
   "attachments": {},
   "cell_type": "markdown",
   "metadata": {},
   "source": [
    "### Lab\n",
    "\n",
    "Write a program that declares and implements a linked-list using generics. In the `main()` function add some functionality to validate the implementation.\n",
    "\n",
    "| EXAMPLE: |\n",
    "| :------- |\n",
    "| See [02_generics-list](02_generics-list/) for a runnable example. |"
   ]
  }
 ],
 "metadata": {
  "kernelspec": {
   "display_name": "base",
   "language": "python",
   "name": "python3"
  },
  "language_info": {
   "codemirror_mode": {
    "name": "ipython",
    "version": 3
   },
   "file_extension": ".py",
   "mimetype": "text/x-python",
   "name": "python",
   "nbconvert_exporter": "python",
   "pygments_lexer": "ipython3",
   "version": "3.9.13"
  },
  "orig_nbformat": 4,
  "vscode": {
   "interpreter": {
    "hash": "7a2c4b191d1ae843dde5cb5f4d1f62fa892f6b79b0f9392a84691e890e33c5a4"
   }
  }
 },
 "nbformat": 4,
 "nbformat_minor": 2
}
