{
 "cells": [
  {
   "attachments": {},
   "cell_type": "markdown",
   "metadata": {},
   "source": [
    "# 05: Go capabilities: Intro to generics\n",
    "\n",
    "This section is a summary of https://go.dev/tour/\n",
    "\n",
    "## Objectives\n",
    "+ introducing generics \n"
   ]
  },
  {
   "attachments": {},
   "cell_type": "markdown",
   "metadata": {},
   "source": [
    "## Summary\n",
    "\n",
    "This section teaches you how to use type parameters in Go functions and structs, so that you can employ generics in your code."
   ]
  },
  {
   "attachments": {},
   "cell_type": "markdown",
   "metadata": {},
   "source": [
    "## Type parameters in functions\n",
    "\n",
    "Go functions can be written to work on multiple types using *type parameters*. The type parameters of a function appear between brackets before the function's arguments.\n",
    "\n",
    "```go\n",
    "func Index[T comparable](s []T, x T) int\n",
    "```\n",
    "\n",
    "The declaration above means that `s` is a slice of any type T that fulfills the built-in constraint `comparable`. `x` is also a value of the same type.\n",
    "\n",
    "`comparable` is a useful constraint that makes it possible to use the `==` and `!=` on values of the type.\n",
    "\n",
    "For example, we can use it to compare a value to all slice elements until a match is found."
   ]
  },
  {
   "attachments": {},
   "cell_type": "markdown",
   "metadata": {},
   "source": [
    "### Lab\n",
    "\n",
    "Implement the function `Index()` as defined above. It must return the index of x in s if found, or -1 if not found.\n",
    "\n",
    "Confirm in main that can be used to search in slices of ints and strings.\n",
    "\n",
    "| EXAMPLE: |\n",
    "| :------- |\n",
    "| See [01_generics-index](01_generics-index/) for a runnable example. |"
   ]
  },
  {
   "attachments": {},
   "cell_type": "markdown",
   "metadata": {},
   "source": [
    "## Generic types\n",
    "\n",
    "In addition to generic functions, Go also supports generic types. \n",
    "\n",
    "A type can be parameterized with a type parameter, which might come in handy for implementing generic data structures.\n",
    "\n",
    "For example, the definition of a linked-list that can hold any type is:\n",
    "\n",
    "```go\n",
    "type List[T any] struct {}\n",
    "```"
   ]
  },
  {
   "attachments": {},
   "cell_type": "markdown",
   "metadata": {},
   "source": [
    "### Lab\n",
    "\n",
    "Write a program that declares and implements a linked-list using generics. In the `main()` function add some functionality to validate the implementation.\n",
    "\n",
    "| EXAMPLE: |\n",
    "| :------- |\n",
    "| See [02_generics-list](02_generics-list/) for a runnable example. |"
   ]
  },
  {
   "attachments": {},
   "cell_type": "markdown",
   "metadata": {},
   "source": [
    "## Tutorial on Go Generics\n",
    "> additional materials and exercises on Go Generics from https://www.calhoun.io/crash-course-on-go-generics/\n",
    "\n",
    "Generics are a way of writing type-safe code in statically typed language that can work with more than one type.\n",
    "\n",
    "Consider the implementation of a `Sum` function that sums up the numbers received. Prior to having generics, you would need to write code separately for each type:\n",
    "\n",
    "```go\n",
    "func SumInts(nums []int) int {\n",
    "  var sum int\n",
    "  for _, n := range nums {\n",
    "    sum += n\n",
    "  }\n",
    "  return sum\n",
    "}\n",
    "\n",
    "func SumFloats(nums []float64) float64 {\n",
    "  var sum int\n",
    "  for _, n := range nums {\n",
    "    sum += n\n",
    "  }\n",
    "  return sum\n",
    "}\n",
    "```\n",
    "\n",
    "Note how the implementation is exactly the same, only the name of the function and the argument received is changed."
   ]
  },
  {
   "attachments": {},
   "cell_type": "markdown",
   "metadata": {},
   "source": [
    "With generics, it is possible to write the code one in a way that works for all the types we want to support:\n",
    "\n",
    "```go\n",
    "func Sum[T int | int64 | float64](nums []T) T {\n",
    "  var sum T\n",
    "  for _, n := range nums {\n",
    "    sum += n\n",
    "  }\n",
    "  return sum\n",
    "}\n",
    "```"
   ]
  },
  {
   "attachments": {},
   "cell_type": "markdown",
   "metadata": {},
   "source": [
    "The types provided for the variable that represents the type `T` can be declared as a type for simplicity:\n",
    "\n",
    "```go\n",
    "type Number interface {\n",
    "  int | int64 | float64\n",
    "}\n",
    "\n",
    "func Sum[T Number](nums []T) T {\n",
    "  ...\n",
    "}\n",
    "```\n",
    "\n",
    "Note that the type is still static at compile-time. This means that you wouldn't be able to mix `int64` and `float64` in the same slice as the exact type must be either one of `int`, `int64`, or `float64`."
   ]
  },
  {
   "attachments": {},
   "cell_type": "markdown",
   "metadata": {},
   "source": [
    "Another misconception is that you could use generics to simplify the declaration of functions that can either return a value or an error as in:\n",
    "\n",
    "```go\n",
    "func DoSomethingThatCanFail[T int | error]() T {\n",
    "  // ... do something prone to errors ...\n",
    "  if err != nil {\n",
    "    return err\n",
    "  }\n",
    "  return 10\n",
    "}\n",
    "```\n",
    "\n",
    "This is not supported, as `T` will have to either be `error` or `int` but not both."
   ]
  },
  {
   "attachments": {},
   "cell_type": "markdown",
   "metadata": {},
   "source": [
    "Generics are also very useful for creating container types, such as a list type that always keep its values in ascending order."
   ]
  }
 ],
 "metadata": {
  "kernelspec": {
   "display_name": "base",
   "language": "python",
   "name": "python3"
  },
  "language_info": {
   "codemirror_mode": {
    "name": "ipython",
    "version": 3
   },
   "file_extension": ".py",
   "mimetype": "text/x-python",
   "name": "python",
   "nbconvert_exporter": "python",
   "pygments_lexer": "ipython3",
   "version": "3.9.13"
  },
  "orig_nbformat": 4,
  "vscode": {
   "interpreter": {
    "hash": "7a2c4b191d1ae843dde5cb5f4d1f62fa892f6b79b0f9392a84691e890e33c5a4"
   }
  }
 },
 "nbformat": 4,
 "nbformat_minor": 2
}
