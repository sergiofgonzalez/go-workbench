{
 "cells": [
  {
   "attachments": {},
   "cell_type": "markdown",
   "metadata": {},
   "source": [
    "# 04: Go capabilities: Intro to packages, variables, and functions\n",
    "\n",
    "This section is a summary of https://go.dev/tour/\n",
    "\n",
    "## Objectives \n",
    "+ Learn the basics of Go syntax\n",
    "+ Packages\n",
    "+ Variables\n",
    "+ Functions"
   ]
  },
  {
   "attachments": {},
   "cell_type": "markdown",
   "metadata": {},
   "source": [
    "## Summary\n",
    "\n",
    "This section is about introducing the basics of the Go programming language.\n",
    "\n",
    "This section introduces packages, variables, constants, and functions."
   ]
  },
  {
   "attachments": {},
   "cell_type": "markdown",
   "metadata": {},
   "source": [
    "## Packages\n",
    "\n",
    "Every Go program is made up of packages.\n",
    "\n",
    "Programs start running in a package named `main`.\n",
    "\n",
    "By convention, the package name is the same as the last element of the import path. That is, `math/rand` package comprises files that begin with the statement `package rand`.\n",
    "\n",
    "Let's get things started up with a lab."
   ]
  },
  {
   "attachments": {},
   "cell_type": "markdown",
   "metadata": {},
   "source": [
    "### Lab 1\n",
    "\n",
    "Create a Go program in a `example.com/hellorand` module that returns a random number between 1 and 10.\n",
    "\n",
    "You can find the solution in [01_hellorand](01_hellorand/)"
   ]
  },
  {
   "attachments": {},
   "cell_type": "markdown",
   "metadata": {},
   "source": [
    "## Imports\n",
    "\n",
    "Whenever you want to use in your code packages from other modules you have to use the `import` statement.\n",
    "\n",
    "In Go you have have *factored* import statement such as:\n",
    "\n",
    "```go\n",
    "import (\n",
    "  \"fmt\",\n",
    "  \"math\"\n",
    ")\n",
    "```\n",
    "\n",
    "or you can write multiple import statements:\n",
    "\n",
    "```go\n",
    "import \"fmt\"\n",
    "import \"math\"\n",
    "```\n",
    "\n",
    "| NOTE: |\n",
    "| :---- |\n",
    "| Factored imports are preferred over multiple import statements. |"
   ]
  },
  {
   "attachments": {},
   "cell_type": "markdown",
   "metadata": {},
   "source": [
    "### Lab 2\n",
    "\n",
    "Write a program that displays the message: \"Now you have $\\sqrt 7$ problems\\n\", using individual imports for printing the message and calculating $ \\sqrt 7 $.\n",
    "\n",
    "| EXAMPLE: |\n",
    "| :------- |\n",
    "| See [02_imports](02_imports/) for a runnable example. |"
   ]
  },
  {
   "attachments": {},
   "cell_type": "markdown",
   "metadata": {},
   "source": [
    "## Exported names\n",
    "\n",
    "In Go, a name is exported if it begins with a capital letter. When importing a package, you can only refer only to its exported names. Any unexported names will not be accessible outside of the package."
   ]
  },
  {
   "attachments": {},
   "cell_type": "markdown",
   "metadata": {},
   "source": [
    "## Functions\n",
    "\n",
    "A function can take zero or more arguments, and return zero or more values."
   ]
  },
  {
   "attachments": {},
   "cell_type": "markdown",
   "metadata": {},
   "source": [
    "### Lab 3\n",
    "\n",
    "Write a Go program that defines a function `add()` to sum two integers and return the resulting value.\n",
    "\n",
    "Use the function from your `main()` function.\n",
    "\n",
    "| EXAMPLE: |\n",
    "| :------- |\n",
    "| See [03_functions](03_functions/) for a runnable example. |"
   ]
  },
  {
   "attachments": {},
   "cell_type": "markdown",
   "metadata": {},
   "source": [
    "When two or more consecutive named function parameters share a type you can do:\n",
    "\n",
    "```go\n",
    "func add(x, y int) int {\n",
    "  return x + y\n",
    "}\n",
    "```"
   ]
  },
  {
   "attachments": {},
   "cell_type": "markdown",
   "metadata": {},
   "source": [
    "In Go you can return multiple values from a function, using the syntax:\n",
    "\n",
    "```go\n",
    "func swap(a, b string) (string, string) {\n",
    "\treturn b, a\n",
    "}\n",
    "``` "
   ]
  },
  {
   "attachments": {},
   "cell_type": "markdown",
   "metadata": {},
   "source": [
    "### Lab 4\n",
    "\n",
    "Write a `swap(string, string)` function that swaps the values received.\n",
    "\n",
    "| EXAMPLE: |\n",
    "| :------- |\n",
    "| See [04_func_multiple_results](04_func_multiple_results/) for a runnable example. |"
   ]
  },
  {
   "attachments": {},
   "cell_type": "markdown",
   "metadata": {},
   "source": [
    "## Named return values\n",
    "\n",
    "Go's return values may be named. When doing so, they are treated as variables defined at the top of the function.\n",
    "\n",
    "They are typically used to document the meaning of the return values. When using named return values you can use a *naked return*.\n",
    "\n",
    "```go\n",
    "package main\n",
    "\n",
    "import \"fmt\"\n",
    "\n",
    "func split(n int) (x, y int) {\n",
    "\tx = n * 4 / 9\n",
    "\ty = n - x\n",
    "\treturn\n",
    "}\n",
    "\n",
    "func main() {\n",
    "\tfmt.Println(split(17))\n",
    "}\n",
    "```\n",
    "\n",
    "| NOTE: |\n",
    "| :---- |\n",
    "| Naked returns are only recommended for short functions. |"
   ]
  },
  {
   "attachments": {},
   "cell_type": "markdown",
   "metadata": {},
   "source": [
    "### Lab 5\n",
    "\n",
    "Write a function `split()` receiving a single integer and returning the result of the following computations:\n",
    "\n",
    "$\n",
    "x = n \\cdot 4 / 9 \\\\\n",
    "y = n - x\n",
    "$\n",
    "\n",
    "with $ n $ being the value received.\n",
    "\n",
    "Use named return values and naked return for x and y.\n",
    "\n",
    "| EXAMPLE: |\n",
    "| :------- |\n",
    "| See [05_named-results](05_named-results/) for a runnable example. |"
   ]
  },
  {
   "attachments": {},
   "cell_type": "markdown",
   "metadata": {},
   "source": [
    "### Variables\n",
    "\n",
    "The `var` statement is used to declare a list of variables. As in the function argument lists, the type is last.\n",
    "\n",
    "The `var` statement can be used at the package or function level."
   ]
  },
  {
   "attachments": {},
   "cell_type": "markdown",
   "metadata": {},
   "source": [
    "### Lab 6\n",
    "\n",
    "Create a program that defines two `bool` variables at the package and two `int` variables at the function level, and print its values in the `main()` function.\n",
    "\n",
    "| EXAMPLE: |\n",
    "| :------- |\n",
    "| See [06_variables](06_variables/) for a runnable example. |"
   ]
  },
  {
   "attachments": {},
   "cell_type": "markdown",
   "metadata": {},
   "source": [
    "A var declaration can include initializers, one per variable.\n",
    "\n",
    "If an initializer is present, the type can be omitted, and the variable will take the type of the initializer."
   ]
  },
  {
   "attachments": {},
   "cell_type": "markdown",
   "metadata": {},
   "source": [
    "Var declarations can be factored (such as imports) using the following syntax:\n",
    "\n",
    "```go\n",
    "var (\n",
    "  ToBe bool   = false\n",
    "  FavNum int  = 5\n",
    ")\n",
    "```"
   ]
  },
  {
   "attachments": {},
   "cell_type": "markdown",
   "metadata": {},
   "source": [
    "### Lab 7\n",
    "\n",
    "Create a program that defines two `bool` variables at the package level and initialize them using an initializer to true and false respectively.\n",
    "Then define three variables at the function level (no type) and include an initializer for them with the values 2, 3, and \"yay!\", and print its values in the `main()` function.\n",
    "\n",
    "| EXAMPLE: |\n",
    "| :------- |\n",
    "| See [07_var-initializers](07_var-initializers/) for a runnable example. |"
   ]
  },
  {
   "attachments": {},
   "cell_type": "markdown",
   "metadata": {},
   "source": [
    "Inside a function, the `:=` shortcut can be used in place of a `var` declaration with implicit type.\n",
    "\n",
    "Outside a function, every statement must begin with a keyword (`var`, `func`, `import`), and therefore the `:=` construct is not available."
   ]
  },
  {
   "attachments": {},
   "cell_type": "markdown",
   "metadata": {},
   "source": [
    "### Lab 8\n",
    "\n",
    "Write a program that uses that:\n",
    "+ initializes the int variables i, j with the values 1, 2 using initializer and type\n",
    "+ initializes a variable k to the value 3 using the shortcut\n",
    "+ initializes the variables c, python, js with the values true, 2, \"yay!\" using the shortcut\n",
    "\n",
    "Print the resulting variables.\n",
    "\n",
    "| EXAMPLE: |\n",
    "| :------- |\n",
    "| See [08_var-init-shortcut](08_var-init-shortcut/) for a runnable example. |"
   ]
  },
  {
   "attachments": {},
   "cell_type": "markdown",
   "metadata": {},
   "source": [
    "### Basic types\n",
    "\n",
    "Go's basic types are:\n",
    "\n",
    "+ `bool`\n",
    "+ `string`\n",
    "+ `int`, `int8`, `int16`, `int32`, `int64`\n",
    "+ `uint`, `uint8`, `uint16`, `uint32`, `uint64`, `uintptr`\n",
    "+ `byte` (alias for `uint8`)\n",
    "+ `rune` (alias for `int32` to represent a Unicode code point)\n",
    "+ `float32`, `float64`\n",
    "+ `complex64`, `complex128`\n",
    "\n"
   ]
  },
  {
   "attachments": {},
   "cell_type": "markdown",
   "metadata": {},
   "source": [
    "### Lab 9\n",
    "\n",
    "Write a program that:\n",
    "+ Uses var factored initializers to define:\n",
    "  + a boolean variable `ToBe` with value false\n",
    "  + a uint64 variable `MaxInt` with value 1<<64 - 1\n",
    "  + a complex128 variable `z` with value `cmplx.Sqrt(-5 + 12i)\n",
    "\n",
    "\n",
    "Print the resulting values with the following code. What does the specifiers mean?\n",
    "\n",
    "```go\n",
    "fmt.Printf(\"Type: %T Value: %v\\n\", ToBe, ToBe)\n",
    "fmt.Printf(\"Type: %T Value: %v\\n\", MaxInt, MaxInt)\n",
    "fmt.Printf(\"Type: %T Value: %v\\n\", z, z)\n",
    "```\n",
    "\n",
    "| EXAMPLE: |\n",
    "| :------- |\n",
    "| See [09_basic-types](09_basic-types/) for a runnable example. |"
   ]
  },
  {
   "attachments": {},
   "cell_type": "markdown",
   "metadata": {},
   "source": [
    "## Zero values\n",
    "\n",
    "Variables declared without an explicit initial value are given their *zero* value:\n",
    "+ 0 for numeric types\n",
    "+ false for boolean type\n",
    "+ \"\" for strings"
   ]
  },
  {
   "attachments": {},
   "cell_type": "markdown",
   "metadata": {},
   "source": [
    "### Lab 10\n",
    "\n",
    "Write a program declaring an int, a float64, a boolean, and string. Print the zero values of such variables.\n",
    "\n",
    "| EXAMPLE: |\n",
    "| :------- |\n",
    "| See [10_zero-values](10_zero-values/) for a runnable example. |"
   ]
  },
  {
   "attachments": {},
   "cell_type": "markdown",
   "metadata": {},
   "source": [
    "## Type conversions\n",
    "\n",
    "The expression `T(v)` converts the value v to the type T.\n",
    "\n",
    "For example:\n",
    "\n",
    "```go\n",
    "var i int = 42\n",
    "var f float64 = float64(i)\n",
    "var u uint = uint(f)\n",
    "\n",
    "// alternatively\n",
    "i := 42\n",
    "f := float(i)\n",
    "u = uint(f)\n",
    "```\n",
    "\n",
    "Go requires conversions to be explicit."
   ]
  },
  {
   "attachments": {},
   "cell_type": "markdown",
   "metadata": {},
   "source": [
    "### Lab 11\n",
    "\n",
    "Write a program that defines the ints 3 and 4. Then declare a float64 that takes the result of the formula $ \\sqrt{x^2 + y^2} $. Then define z as the unsigned integer part of the previous formula and print it.\n",
    "\n",
    "| EXAMPLE: |\n",
    "| :------- |\n",
    "| See [11_type-conversions](11_type-conversions/) for a runnable example. |"
   ]
  },
  {
   "attachments": {},
   "cell_type": "markdown",
   "metadata": {},
   "source": [
    "## Type inference\n",
    "\n",
    "When declaring a variable without specifying an explicit type, the variable's type is inferred from the type of the value on the right hand side.\n",
    "\n",
    "If the right hand side is typed, the new variable is of the same type:\n",
    "\n",
    "```go\n",
    "var i int\n",
    "j := i      // j is and int\n",
    "```\n",
    "\n",
    "When the right hand side contains an untyped numeric constant, the new variable is inferred depending on the precision of the constant:\n",
    "\n",
    "```go\n",
    "i := 42           // int\n",
    "f := 3.142        // float64\n",
    "g := 0.867 + 0.5i // complex128\n",
    "```"
   ]
  },
  {
   "attachments": {},
   "cell_type": "markdown",
   "metadata": {},
   "source": [
    "### Lab 12\n",
    "\n",
    "Write a program that defines a variable which is initialized with a numeric constant and print the type that is inferred.\n",
    "\n",
    "| EXAMPLE: |\n",
    "| :------- |\n",
    "| See [12_type-inference](12_type-inference/) for a runnable example. |"
   ]
  },
  {
   "attachments": {},
   "cell_type": "markdown",
   "metadata": {},
   "source": [
    "## Constants\n",
    "\n",
    "Constants are defined like variables but with the `const` keyword.\n",
    "\n",
    "```go\n",
    "const Pi = 3.14\n",
    "```\n",
    "\n",
    "Constants can be characters, string, booleans, or numeric values.\n",
    "\n",
    " | NOTE: |\n",
    " | :---- |\n",
    " | Constants cannot be declared using the `:=` shortcut syntax. |"
   ]
  },
  {
   "attachments": {},
   "cell_type": "markdown",
   "metadata": {},
   "source": [
    "### Labs 13\n",
    "\n",
    "Write a program that defines:\n",
    "+ a global constant Pi with value 3.14\n",
    "+ a function constant World with value `\"世界\"`\n",
    "+ a function constant Truth with value true\n",
    "\n",
    "Then print those values."
   ]
  },
  {
   "attachments": {},
   "cell_type": "markdown",
   "metadata": {},
   "source": [
    "Numeric constants are high-precision values.\n",
    "\n",
    "An untyped cosntant takes the type needed by its context."
   ]
  },
  {
   "attachments": {},
   "cell_type": "markdown",
   "metadata": {},
   "source": [
    "### Labs 14\n",
    "\n",
    "Write a program that defines:\n",
    "+ a big number `Big` created by shifting the number (bit) 1 100 places to the left.\n",
    "+ another number `Small` consisted in shifting the big number 99 places to the right.\n",
    "\n",
    "Create a function `needInt()` that takes an int and returns the int resulting from multiplying the given number by 10 and adding 1.\n",
    "\n",
    "Create a function `needFloat()` that takes a float64 and returns the float64 that results from multiplying the giving number by 0.1.\n",
    "\n",
    "Then try:\n",
    "\n",
    "+ `needInt(Small)`\n",
    "+ `needFloat(Small)`\n",
    "+ `needFloat(Big)`\n",
    "\n",
    "| EXAMPLE: |\n",
    "| :------- |\n",
    "| See [14_numeric-constants] for a runnable example. |"
   ]
  }
 ],
 "metadata": {
  "kernelspec": {
   "display_name": "base",
   "language": "python",
   "name": "python3"
  },
  "language_info": {
   "codemirror_mode": {
    "name": "ipython",
    "version": 3
   },
   "file_extension": ".py",
   "mimetype": "text/x-python",
   "name": "python",
   "nbconvert_exporter": "python",
   "pygments_lexer": "ipython3",
   "version": "3.9.13"
  },
  "orig_nbformat": 4,
  "vscode": {
   "interpreter": {
    "hash": "7a2c4b191d1ae843dde5cb5f4d1f62fa892f6b79b0f9392a84691e890e33c5a4"
   }
  }
 },
 "nbformat": 4,
 "nbformat_minor": 2
}
