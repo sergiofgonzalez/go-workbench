{
 "cells": [
  {
   "attachments": {},
   "cell_type": "markdown",
   "metadata": {},
   "source": [
    "# 02: Go Project Layout\n",
    "\n",
    "These are notes from https://appliedgo.com/blog/go-project-layout\n",
    "\n",
    "## Objectives \n",
    "\n",
    "+ Understand Go project layout best practices\n",
    "+ Learn Go code project naming conventions\n",
    "+ Understand the layouts for:\n",
    "  + CLI tools\n",
    "  + Libraries\n",
    "  + Libraries with CLI tools"
   ]
  },
  {
   "attachments": {},
   "cell_type": "markdown",
   "metadata": {},
   "source": [
    "## Introduction\n",
    "\n",
    "There is no such thing as an ultimate project layout. Depending on your use case you should choose a particular layout.\n",
    "\n",
    "There is not a particular Go project layout and when an article or repo promotes a particular Go project layout as \"standard\" it's a framework smell.\n",
    "\n",
    "Frameworks are unpopular in Go because they impose a rigid structure on project that might or might not match the project's specific needs.\n",
    "\n",
    "As a result, when thinking about how to lay out a Go project apply best practices."
   ]
  },
  {
   "attachments": {},
   "cell_type": "markdown",
   "metadata": {},
   "source": [
    "## Go project layout best practices\n",
    "\n",
    "Best practices are a strong guidance without being dogmatic.\n"
   ]
  },
  {
   "attachments": {},
   "cell_type": "markdown",
   "metadata": {},
   "source": [
    "### Start small\n",
    "\n",
    "When starting a new project and don't know how large it will become over time, use the simplest layout possible, and add structure only if required."
   ]
  },
  {
   "attachments": {},
   "cell_type": "markdown",
   "metadata": {},
   "source": [
    "### Name packages by their functionality\n",
    "\n",
    "Avoid grab-bag package names like `util`, `models`, `controllers`, `helpers`...\n",
    "\n",
    "Instead, group your code by functionality or responsibility."
   ]
  },
  {
   "attachments": {},
   "cell_type": "markdown",
   "metadata": {},
   "source": [
    "### Follow the conventions\n",
    "\n",
    "#### Known directory names\n",
    "\n",
    "Try to stick to the following special directory names and responsibilities:\n",
    "\n",
    "+ `internal/`: packages inside the `internal/` directory are not accesible outside the Go module it belongs to. If you expose a package to the public, it becomes a public API, so you have to ensure it follows semver. Use the `internal/` directory to avoid this situation. Even the Go toolchain follows this convention.\n",
    "\n",
    "+ `testdata/`: put ancillary test data inside this directory. Go toolchain will ignore anything inside it.\n",
    "\n",
    "    Go toolchain will also ignore any directory starting with `.` or `_`.\n",
    "\n",
    "+ `vendor/`: You can download all 3rd party dependencies into a `vendor/` directory. `go mod vendor` expects this directory name."
   ]
  },
  {
   "attachments": {},
   "cell_type": "markdown",
   "metadata": {},
   "source": [
    "#### Do not use \"src\"\n",
    "\n",
    "A Go project is plain source code. Therefore, there is no need to use a `src/` directory."
   ]
  },
  {
   "attachments": {},
   "cell_type": "markdown",
   "metadata": {},
   "source": [
    "## Layouts by example\n",
    "\n",
    "This is a list of examples for different use cases."
   ]
  },
  {
   "attachments": {},
   "cell_type": "markdown",
   "metadata": {},
   "source": [
    "### CLI tools\n",
    "\n",
    "CLI tools shouldn't require much structure. The simplest ones require only a single directory which will be the root of the repository.\n",
    "\n",
    "For example, if you want to write a a tool that greets you, name the root directory `greeter/` because Go picks the main package's directory name as the name of the binary by default.\n",
    "\n",
    "All the `*.go` files should reside in the `greeter/` directory with no additional subdirectories required.\n",
    "\n",
    "```\n",
    "greeter/\n",
    "├── .gitignore\n",
    "├── go.mod\n",
    "├── main_test.go\n",
    "├── main.go\n",
    "├── Makefile\n",
    "└── README.md\n",
    "```\n",
    "\n",
    "| EXAMPLE: |\n",
    "| :------- |\n",
    "| See [greeter](https://github.com/sergiofgonzalez/greeter) for an example. |"
   ]
  },
  {
   "attachments": {},
   "cell_type": "markdown",
   "metadata": {},
   "source": [
    "A variant of this approach will include an `internal/` directory for library packages that the tool uses but that you don't want to expose to the consumers (internal use libraries).\n",
    "\n",
    "```\n",
    "greeter/\n",
    "├── internal/\n",
    "│   └── greetings/\n",
    "│       ├── greetings_test.go\n",
    "│       └── greetings.go\n",
    "├── .gitignore\n",
    "├── go.mod\n",
    "├── main_test.go\n",
    "├── main.go\n",
    "├── Makefile\n",
    "└── README.md\n",
    "```\n",
    "\n",
    "| EXAMPLE: |\n",
    "| :------- |\n",
    "| See [greeter (feature/internal_lib branch)](https://github.com/sergiofgonzalez/greeter/tree/feature/internal_lib) for an example. |\n",
    "\n",
    "Once published, users will be able to do:\n",
    "\n",
    "```bash\n",
    "go install github.com/sergiofgonzalez/greeter@latest\n",
    "```"
   ]
  },
  {
   "attachments": {},
   "cell_type": "markdown",
   "metadata": {},
   "source": [
    "### Pure library projects\n",
    "\n",
    "A library project with no auxiliary CLI tools can start with a single directory.\n",
    "\n",
    "For example, a library that provides several types of greetings would look like:\n",
    "\n",
    "```\n",
    "greetings/\n",
    "├── .gitignore\n",
    "├── go.mod\n",
    "├── greetings_test.go\n",
    "├── greetings.go\n",
    "├── Makefile\n",
    "└── README.md\n",
    "```\n",
    "\n",
    "| EXAMPLE: |\n",
    "| :------- |\n",
    "| See [greetings](https://github.com/sergiofgonzalez/greetings) for an example. |\n",
    "\n",
    "Once published, consumer programs will be able to do:\n",
    "\n",
    "```bash\n",
    "go get github.com/sergiofgonzalez/greetings\n",
    "```\n",
    "\n",
    "And use it in their programs as can be seen in [greeter (using lib branch)](https://github.com/sergiofgonzalez/greeter/tree/features/using_lib)"
   ]
  },
  {
   "attachments": {},
   "cell_type": "markdown",
   "metadata": {},
   "source": [
    "The library might include additional public packages as it gets more capabilities. Those should be included as separate folders at the root level.\n",
    "\n",
    "For example, you might have a sample library that return different themed quotes. You might have some functionality that returns random quotes without caring about the topic, and specialized packages that return poetry quotes, tv quotes, etc.\n",
    "\n",
    "```\n",
    "greetings/\n",
    "├── computers/\n",
    "│   └── computers.go\n",
    "├── poetry/\n",
    "│   └── poetry.go\n",
    "├── tv/\n",
    "│   └── tv.go\n",
    "├── .gitignore\n",
    "├── go.mod\n",
    "├── Makefile\n",
    "├── quotes.go\n",
    "└── README.md\n",
    "```\n",
    "\n",
    "| EXAMPLE: |\n",
    "| :------- |\n",
    "| See [quotes](https://github.com/sergiofgonzalez/quotes) for an example. |\n",
    "\n",
    "\n",
    "Then consumer applications will be able to consume both the `quotes.go` capabilities, and also the specialized capabilities.\n",
    "\n",
    "\n",
    "```go\n",
    "import (\n",
    "\t\"github.com/sergiofgonzalez/quotes\"\n",
    "\t\"github.com/sergiofgonzalez/quotes/computers\"\n",
    "\t\"github.com/sergiofgonzalez/quotes/poetry\"\n",
    "\t\"github.com/sergiofgonzalez/quotes/tv\"  \n",
    ")\n",
    "```\n",
    "\n",
    "| EXAMPLE: |\n",
    "| :------- |\n",
    "| See [quotes](https://github.com/sergiofgonzalez/quotes) for an example. |\n"
   ]
  },
  {
   "attachments": {},
   "cell_type": "markdown",
   "metadata": {},
   "source": [
    "### CLI tools with public packages/Libraries with CLI tools\n",
    "\n",
    "A variant of the previous examples is a CLI tool that exposes some public packages for programmatic consumption, or alternatively, a library that also packages a CLI tool for the terminal.\n",
    "\n",
    "This will look like the following:\n",
    "\n",
    "```\n",
    "greeter/\n",
    "├── cmd/\n",
    "│   └── greeter/\n",
    "|        └── main.go\n",
    "├── .gitignore\n",
    "├── go.mod\n",
    "├── greeter.go\n",
    "├── Makefile\n",
    "└── README.md\n",
    "```\n",
    "\n",
    "| EXAMPLE: |\n",
    "| :------- |\n",
    "| See [greeter (lib and CLI branch)](https://github.com/sergiofgonzalez/greeter/tree/features/lib_and_cli) for an example. |\n",
    "\n",
    "When using this approach, consumers of the library can do:\n",
    "\n",
    "```go\n",
    "import \"github.com/sergiofgonzalez/greeter\"\n",
    "```\n",
    "\n",
    "And the users that would like to install the CLI tool can do:\n",
    "\n",
    "```bash\n",
    "go install github.com/sergiofgonzalez/greeter/cmd/greeter\n",
    "```"
   ]
  },
  {
   "attachments": {},
   "cell_type": "markdown",
   "metadata": {},
   "source": [
    "### Everything together\n",
    "\n",
    "All those previous layouts are not mutually exclusive. You can throw all together and have a library with public and internal libraries, along with CLI tools.\n",
    "\n",
    "\n",
    "```\n",
    "compress/\n",
    "├── compress.go\n",
    "├── go.mod\n",
    "├── go.sum\n",
    "├── encode/\n",
    "│   └── encode.go\n",
    "├── decode/\n",
    "│   └── decode.go\n",
    "├── internal/\n",
    "│   └── deflate/\n",
    "|        └── deflate.go\n",
    "├── cmd/\n",
    "│   └── compress/\n",
    "|        └── main.go\n",
    "├── .gitignore\n",
    "├── Makefile\n",
    "└── README.md\n",
    "```\n",
    "\n",
    "Note that the `internal/` directory is place at the root to make the import path shorter."
   ]
  }
 ],
 "metadata": {
  "kernelspec": {
   "display_name": "base",
   "language": "python",
   "name": "python3"
  },
  "language_info": {
   "codemirror_mode": {
    "name": "ipython",
    "version": 3
   },
   "file_extension": ".py",
   "mimetype": "text/x-python",
   "name": "python",
   "nbconvert_exporter": "python",
   "pygments_lexer": "ipython3",
   "version": "3.9.13"
  },
  "orig_nbformat": 4,
  "vscode": {
   "interpreter": {
    "hash": "7a2c4b191d1ae843dde5cb5f4d1f62fa892f6b79b0f9392a84691e890e33c5a4"
   }
  }
 },
 "nbformat": 4,
 "nbformat_minor": 2
}
