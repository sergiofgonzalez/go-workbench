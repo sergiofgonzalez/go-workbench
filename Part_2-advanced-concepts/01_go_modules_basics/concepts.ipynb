{
 "cells": [
  {
   "attachments": {},
   "cell_type": "markdown",
   "metadata": {},
   "source": [
    "# 01: Go Modules Basics\n",
    "\n",
    "## Objectives \n",
    "\n",
    "Learn about how to:\n",
    "+ Create a new module\n",
    "+ Add a dependency\n",
    "+ Upgrade a dependency (minor version update)\n",
    "+ Upgrade all the dependencies\n",
    "+ Upgrade a dependency (major version update)\n",
    "+ Remove unused dependencies"
   ]
  },
  {
   "attachments": {},
   "cell_type": "markdown",
   "metadata": {},
   "source": [
    "## Introduction\n",
    "\n",
    "Go modules is the way to manage and organize dependencies in Go.\n",
    "\n",
    "Go modules makes it simple to add new modules to your project, upgrade them to newer versions, and remove any that is no longer required."
   ]
  },
  {
   "attachments": {},
   "cell_type": "markdown",
   "metadata": {},
   "source": [
    "## Creating and testing a new Go module\n",
    "\n",
    "The modules' packages are organized in a directory hierarchy, and the module itself is defined by a file `go.mod` in the module's root directory.\n",
    "\n",
    "Go modules improve the DX by allowing developers to specify the versions of the packages they depend on."
   ]
  },
  {
   "attachments": {},
   "cell_type": "markdown",
   "metadata": {},
   "source": [
    "```bash\n",
    "# Create a new module named 'hello' prefixed by 'example.com'\n",
    "go mod init example.com/hello\n",
    "```"
   ]
  },
  {
   "attachments": {},
   "cell_type": "markdown",
   "metadata": {},
   "source": [
    "## List all the dependencies of a module\n",
    "\n",
    "```bash\n",
    "$ go list -m all\n",
    "example.com/hello\n",
    "golang.org/x/text v0.0.0-20170915032832-14c0d48ead0c\n",
    "rsc.io/quote v1.5.2\n",
    "rsc.io/sampler v1.3.0\n",
    "```"
   ]
  },
  {
   "attachments": {},
   "cell_type": "markdown",
   "metadata": {},
   "source": [
    "## Upagrade a dependency to a most recent minor version\n",
    "\n",
    "To upgrade a minor version of a dependency:\n",
    "\n",
    "```bash\n",
    "$ go get golang.org/x/text\n",
    "go: downloading golang.org/x/text v0.8.0\n",
    "go: upgraded golang.org/x/text v0.0.0-20170915032832-14c0d48ead0c => v0.8.0\n",
    "```"
   ]
  },
  {
   "attachments": {},
   "cell_type": "markdown",
   "metadata": {},
   "source": [
    "## Upgrade to a particular version\n",
    "\n",
    "To upgrade to a particular version:\n",
    "\n",
    "```bash\n",
    "go get rsc.io/sampler@v1.3.1\n",
    "```"
   ]
  },
  {
   "attachments": {},
   "cell_type": "markdown",
   "metadata": {},
   "source": [
    "## Upgrade to a major version\n",
    "\n",
    "To import a new version of a package:\n",
    "\n",
    "```bash\n",
    "go get rsc.io/quote/v3\n",
    "```"
   ]
  },
  {
   "attachments": {},
   "cell_type": "markdown",
   "metadata": {},
   "source": [
    "## Checking a dependency\n",
    "\n",
    "Checking the dependencies of a module:\n",
    "\n",
    "```bash\n",
    "go list -m rsc.io/quote\n",
    "```"
   ]
  },
  {
   "attachments": {},
   "cell_type": "markdown",
   "metadata": {},
   "source": [
    "## Checking dependencie of module starting with\n",
    "\n",
    "Checking the dependencies of a module starting with \"quote\"\n",
    "\n",
    "```bash\n",
    "go list -m rsc.io/quote...\n",
    "rsc.io/quote v1.5.2\n",
    "rsc.io/quote/v3 v3.1.0\n",
    "```"
   ]
  },
  {
   "attachments": {},
   "cell_type": "markdown",
   "metadata": {},
   "source": [
    "## Remove unused dependencies in the project\n",
    "\n",
    "Removing unused deps:\n",
    "\n",
    "```bash\n",
    "go mod tidy\n",
    "```"
   ]
  }
 ],
 "metadata": {
  "kernelspec": {
   "display_name": "base",
   "language": "python",
   "name": "python3"
  },
  "language_info": {
   "codemirror_mode": {
    "name": "ipython",
    "version": 3
   },
   "file_extension": ".py",
   "mimetype": "text/x-python",
   "name": "python",
   "nbconvert_exporter": "python",
   "pygments_lexer": "ipython3",
   "version": "3.9.13"
  },
  "orig_nbformat": 4,
  "vscode": {
   "interpreter": {
    "hash": "7a2c4b191d1ae843dde5cb5f4d1f62fa892f6b79b0f9392a84691e890e33c5a4"
   }
  }
 },
 "nbformat": 4,
 "nbformat_minor": 2
}
