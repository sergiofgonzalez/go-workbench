{
 "cells": [
  {
   "attachments": {},
   "cell_type": "markdown",
   "metadata": {},
   "source": [
    "# 04: Effective Go\n",
    "\n",
    "These are notes from https://go.dev/doc/effective_go\n",
    "\n",
    "## Objectives \n",
    "\n",
    "TBD"
   ]
  },
  {
   "attachments": {},
   "cell_type": "markdown",
   "metadata": {},
   "source": [
    "## Introduction\n",
    "\n",
    "This guide will let you understand Go's properties and idioms. Additionally, it will be explained Go's conventions relative to naming, formatting, program construction, etc.\n",
    "\n",
    "| NOTE: |\n",
    "| :---- |\n",
    "| This [guide](https://go.dev/doc/effective_go) was written in 2009, and hasn't been updated much since. While it continues to be useful, a few of the examples will feel outdated. |"
   ]
  },
  {
   "attachments": {},
   "cell_type": "markdown",
   "metadata": {},
   "source": [
    "## Formatting\n",
    "\n",
    "Go includes the *gofmt* program, available as `go fmt` that reads a Go program and emits the source in a standard style of indentation and vertical alignment, retaining and if necessary reformatting comments.\n",
    "\n",
    "For example:\n",
    "\n",
    "The *untidied*:\n",
    "```go\n",
    "type T struct {\n",
    "\tname string // name of the object\n",
    "\tvalue int // its value\n",
    "}\n",
    "```\n",
    "\n",
    "Will be transformed by *gofmt* into:\n",
    "\n",
    "```go\n",
    "type T struct {\n",
    "\tname  string // name of the object\n",
    "\tvalue int    // its value\n",
    "}\n",
    "```\n",
    "\n",
    "| NOTE: |\n",
    "| :---- |\n",
    "| You must configure VSCode with `gofmt` in the settings. |\n",
    "\n",
    "Additionally:\n",
    "+ Tabs are used for indentation, and *gofmt* emits them by default. Spaces should be used only if you must.\n",
    "\n",
    "    Because of this, it's not that important whether you set your tab size to 2, 4 or 8. I use two because it makes the code more compact horizontally.\n",
    "\n",
    "+ There is no length limit in Go. If a line feels too long, wrap it and indent with an extra tab.\n",
    "\n",
    "+ Go needs fewer parentheses than C and Java."
   ]
  },
  {
   "attachments": {},
   "cell_type": "markdown",
   "metadata": {},
   "source": [
    "## Commentary\n",
    "\n",
    "Go supports C-style `/* */` block comments and C++-style `//` line comments, with the latter being the norm."
   ]
  },
  {
   "attachments": {},
   "cell_type": "markdown",
   "metadata": {},
   "source": [
    "## Names\n",
    "\n",
    "Names in Go are extremely important, as they even have semantic effects (e.g., the visibility of a name outside of a package is determined by whether its first character is upper case)."
   ]
  },
  {
   "attachments": {},
   "cell_type": "markdown",
   "metadata": {},
   "source": [
    "### Package names\n",
    "\n",
    "When a package name is imported, the package name becomes the accessor for the contents.\n",
    "\n",
    "That is, after:\n",
    "\n",
    "```go\n",
    "import \"bytes\"\n",
    "```\n",
    "\n",
    "you can do `bytes.Buffer`.\n",
    "\n",
    "By convention, packages are given lowercase, single-word names; there should be no need for underscore or mixedcaps. The package names should be short, concise, and evocative.\n",
    "\n",
    "Another convention is that the package name is the base name of its source directory. For example, a package in `src/encoding/base64` will be imported as `import \"encoding/base64\"` and the package name will be `base64` and not `encoding_base64` or similar.\n",
    "\n",
    "Additionally, think of the end-users: when exposing a function in your package use a concise name like `Reader` instead of `BufReader`, as the users will refer to it as `bufio.Reader`.\n",
    "\n",
    "Similarly, when creating new instances of a particular type defined in a package, it is recommended to use something like `New()` instead of `NewRing()` if the package only exports a single type (as it should). This is because the end-users will code `ring.New()` to refer to it.\n",
    "\n",
    "In Go, short names with a helpful doc comment is preferred over a long name:\n",
    "\n",
    "```go\n",
    "// discouraged\n",
    "once.DoOrWaitUntilDone(setup)\n",
    "\n",
    "// preferred\n",
    "once.Do(setup) // blocks until setup is completed\n",
    "```"
   ]
  },
  {
   "attachments": {},
   "cell_type": "markdown",
   "metadata": {},
   "source": [
    "### Getters\n",
    "\n",
    "Go doesn't provide automatic support for getters and setters. \n",
    "\n",
    "This doesn't mean that you cannot use them, but it's not consider idiomatic, nor necessary to put `Get` into the getter's name.\n",
    "\n",
    "In Go, it's preferred to use the name of the object (uppercase, exported) instead of `GetField()`, while for the setter it is OK to use `SetField()`\n",
    "\n",
    "```go\n",
    "// Person is a struct used in the sample\n",
    "type Person struct {\n",
    "\tname string // name of the object\n",
    "\tage  int\n",
    "}\n",
    "\n",
    "// Name is the Person.name getter\n",
    "func (p *Person) Name() string {\n",
    "\treturn p.name\n",
    "}\n",
    "\n",
    "// Age is the Person.age getter\n",
    "func (p *Person) Age() int {\n",
    "\treturn p.age\n",
    "}\n",
    "\n",
    "// SetName is the Person.name setter\n",
    "func (p *Person) SetName(name string) {\n",
    "\tp.name = name\n",
    "}\n",
    "\n",
    "// Age is the Person.name setter\n",
    "func (p *Person) SetAge(age int) {\n",
    "\tp.age = age\n",
    "}\n",
    "\n",
    "func main() {\n",
    "\tvar p Person\n",
    "\n",
    "\tp.SetName(\"Jason Isaacs\")\n",
    "\tp.SetAge(55)\n",
    "\n",
    "\tfmt.Println(p)\n",
    "\n",
    "\tfmt.Printf(\"Hello to %v\\n\", p.Name())\n",
    "}\n",
    "```"
   ]
  },
  {
   "attachments": {},
   "cell_type": "markdown",
   "metadata": {},
   "source": [
    "### Interface names\n",
    "\n",
    "By convention, one-method interfaces are named by the method name plus an *-er* suffix or similar:\n",
    "\n",
    "```go\n",
    "type Reader interface {\n",
    "  Read(f *File, b []byte) (n int, err error)\n",
    "}\n",
    "```\n",
    "\n",
    "There are a number of such names (`Reader`, `Writer`, `Formatter`, `CloseNotifier`...) and it's productive to honor them and the function names they capture.\n",
    "\n",
    "There are also canonical signatures and meanings such as `String()`, `Error()`, `Close()`, `Flush()`, etc.\n",
    "\n",
    "To avoid confusion, don't give your method such names unless it has the same signature and meaning.\n",
    "\n",
    "Conversely, if your type implements a method with the same meaning as a method on a well-known type, give it the same name and signature (e.g., call your string converter method `String()` and not `ToString()`).\n",
    "\n",
    "```go\n",
    "// Person is a struct used in the sample\n",
    "type Person struct {\n",
    "\tname string // name of the object\n",
    "\tage  int\n",
    "}\n",
    "\n",
    "func (p *Person) String() string {\n",
    "\treturn fmt.Sprintf(\"%q (%v)\", p.name, p.age)\n",
    "}\n",
    "\n",
    "func main() {\n",
    "\tvar p *Person = &Person{\"Jason Isaacs\", 56}\n",
    "\n",
    "\tfmt.Println(p)\n",
    "}\n",
    "```"
   ]
  },
  {
   "attachments": {},
   "cell_type": "markdown",
   "metadata": {},
   "source": [
    "### MixedCaps\n",
    "\n",
    "The convention in Go is to use MixedCaps or mixedCaps rather than underscores to write multiWord names."
   ]
  },
  {
   "attachments": {},
   "cell_type": "markdown",
   "metadata": {},
   "source": [
    "## Semicolons\n",
    "\n",
    "Go's formal grammar uses semicolons to terminate statements, but unlike C, those semicolons do not appear in the source &mdash; the lexer includes them automatically as it scans the source code.\n",
    "\n",
    "However, the rules the lexer uses imposes certain conventions, such as having to put the opening brace of a control structure in the same line and not on the next line:\n",
    "\n",
    "```go\n",
    "// Correct\n",
    "if i < f() {\n",
    "  g()\n",
    "}\n",
    "\n",
    "// WRONG!\n",
    "if i < f()\n",
    "{\n",
    "  g()\n",
    "}\n",
    "```\n",
    "\n",
    "| NOTE: |\n",
    "| :---- |\n",
    "| The compiler and IDE will warn you of that even with an \"unexpected newline\" error. |"
   ]
  },
  {
   "attachments": {},
   "cell_type": "markdown",
   "metadata": {},
   "source": [
    "## Control structures\n",
    "\n",
    "In Go:\n",
    "+ There is no `do` or `while` loop, but there is a generalized form of `for` that fits the bill.\n",
    "+ `switch` is far more flexible than in other programming languages.\n",
    "+ `if` and `switch` accept an optional initialization statement (like the one you have in `for` loops).\n",
    "+ `break` and `continue` support an optional label to identify what to break or continue.\n",
    "+ There is a type `switch`\n",
    "+ There is a `select` multiway communication multiplexer.\n"
   ]
  },
  {
   "attachments": {},
   "cell_type": "markdown",
   "metadata": {},
   "source": [
    "### If\n",
    "\n",
    "In Go a simple `if` looks like:\n",
    "\n",
    "```go\n",
    "if x > 0 {\n",
    "  return y\n",
    "}\n",
    "```\n",
    "\n",
    "That is, you need to use the braces no matten how simple the if body is.\n",
    "\n",
    "\"If\" statement in Go supports an initialization statement:\n",
    "\n",
    "```go\n",
    "if err := file.Chmod(0664); err != nil {\n",
    "  log.Print(err)\n",
    "  return err\n",
    "}\n",
    "```\n",
    "\n",
    "In Go, it is also considered idiomatic to code if statements that doesn't flow into the next statement &mdash; that is, the body ends in break, continue, goto, or return:\n",
    "\n",
    "```go\n",
    "f, err := os.Open(name)\n",
    "if err != nil {\n",
    "  return err\n",
    "}\n",
    "\n",
    "codeUsing(f)\n",
    "```\n",
    "\n",
    "The following code shows another example in which you will find no \"else\" statements. In it, flow control runs does the page, eliminating error cases as they arise:\n",
    "\n",
    "```go\n",
    "f, err := os.Open(name)\n",
    "if err != nil {\n",
    "  return err  // Couldn't open the file\n",
    "}\n",
    "\n",
    "d, err := f.Stat()  // redeclaration of err? (see below)\n",
    "if err != nil {\n",
    "  f.Close()\n",
    "  return err  // Couldn't stat the file\n",
    "}\n",
    "\n",
    "codeUsing(f, d)\n",
    "```"
   ]
  },
  {
   "attachments": {},
   "cell_type": "markdown",
   "metadata": {},
   "source": [
    "### Redeclaration and assignment\n",
    "\n",
    "In the last example, we see that we do:\n",
    "\n",
    "```go\n",
    "f, err := os.Open(name)\n",
    "```\n",
    "\n",
    "and a few lines later:\n",
    "\n",
    "```go\n",
    "d, err := f.Stat()\n",
    "```\n",
    "\n",
    "The duplication of `err` is legal: `err` is declared by the first statement, and only re-assigned in the second (that is, the call to `f.Stat()` does not declares a new variable, it just gives it a new value).\n",
    "\n",
    "In a `:=` declaration, a variable `v` may appear even if it has already been declared, provided that:\n",
    "\n",
    "+ this declaration is in the same scope as the existing declaration of `v`. If `v` is already declared in an outer scope, the declaration will create a new variable,\n",
    "\n",
    "+ the corresponding value in the initialization is assignable to `v`, and\n",
    "\n",
    "+ there is at least one other variable that is created by the declaration."
   ]
  },
  {
   "attachments": {},
   "cell_type": "markdown",
   "metadata": {},
   "source": [
    "### For\n",
    "\n",
    "The Go for loop is similar to C's, but its capabilities are enhanced to support for and while.\n",
    "\n",
    "```go\n",
    "// full for form\n",
    "for init; condition; post { ... }\n",
    "\n",
    "// similar to C's while\n",
    "for condition { ... }\n",
    "\n",
    "// while true\n",
    "for { ... }\n",
    "```\n",
    "\n",
    "If you're looping over an array, slice, string, or map, or reading from a channel you can use the *range* clause to have a sort of foreach:\n",
    "\n",
    "```go\n",
    "for key, value := range oldMap {\n",
    "  newMap[key] = value\n",
    "}\n",
    "\n",
    "// You can omit the second value if not needed\n",
    "for key := range m {\n",
    "  if key.expiered() {\n",
    "    delete(m, key)\n",
    "  }\n",
    "}\n",
    "\n",
    "// You can use the blank identifier if you only need the second value\n",
    "for _, value := range arr {\n",
    "  sum += value\n",
    "}\n",
    "```\n",
    "\n",
    "For strings, the *range* clause breaks out individual Unicode code points by parsing the UTF-8. Erroneus encodings consume one byte and product the replacement rune U+FFFD:\n",
    "\n",
    "```go\n",
    "// x80 is an illegal UTF-8 encoding\n",
    "for pos, char := range \"日本\\x80語\" {\n",
    "  fmt.Printf(\"character %#U starts at byte pos %d\", char, pos)\n",
    "}\n",
    "```\n",
    "\n",
    "Go has no comma operator and `++` and `--` are statements, not expressions. As a result, if you want to run multiple variables in a single for loop you need to use parallel assignment like:\n",
    "\n",
    "```go\n",
    "for i, j := 0, len(a)-1; i < j; i, j = i+1, j-1 {\n",
    "  ...\n",
    "}\n",
    "```"
   ]
  },
  {
   "attachments": {},
   "cell_type": "markdown",
   "metadata": {},
   "source": [
    "### Switch\n",
    "\n",
    "In Go's switch, the expressions need not to be constants or even integers, the cases are evaluated top to bottom until a match is found, and if the switch has no expression it switches on `true`.\n",
    "\n",
    "It's there possible, and considered idiomatic, to write if-elseif-elseif chain as switch:\n",
    "\n",
    "```go\n",
    "func unhex(c byte) byte {\n",
    "\n",
    "  // switch { means execute the firs branch which is true\n",
    "  switch {\n",
    "  case '0' <= c && c <= '9':\n",
    "    return c - '0'\n",
    "  case 'a' <= c && c <= 'f':\n",
    "    return c - 'a' + 10\n",
    "  case 'A' <= c && c <= 'F':\n",
    "    return c - 'A' + 10\n",
    "  }\n",
    "  return 0\n",
    "}\n",
    "```\n",
    "\n",
    "There's no automatic fall-through, but cases can be presented in comma-separated lists:\n",
    "\n",
    "```go\n",
    "func shouldEscape(c byte) bool {\n",
    "  switch c {\n",
    "  case ' ', '?', '&', '=', '#', '+', '%':\n",
    "    return true\n",
    "  }\n",
    "  return false\n",
    "}\n",
    "```\n",
    "\n",
    "`break` statements can be used to terminate a `switch` early. Sometimes, you might need to break out of a loop surrounding the switch statement, and this can be accomplished by putting a label on the loop and \"breaking\" to that label:\n",
    "\n",
    "```go\n",
    "Loop:\n",
    "  for n := 0; n < len(src); n += size {\n",
    "    switch {\n",
    "    case src[n] < sizeOne:\n",
    "      if validateOnly {\n",
    "        break // breaks out of the switch\n",
    "      }\n",
    "      size = 1\n",
    "      update(src[n])\n",
    "\n",
    "    case src[n] < sizeTwo:\n",
    "      if n+1 >= ln(src) {\n",
    "        err = errShortInput\n",
    "        break Loop  // breaks out of the loop\n",
    "      }\n",
    "      if validateOnly {\n",
    "        break\n",
    "      }\n",
    "      size = 2\n",
    "      update(src[n] + src[n+1]<<shift)\n",
    "\n",
    "    }\n",
    "  }\n",
    "```\n",
    "\n",
    "In Go, switch cases are evaluated in order, but you can put the `default` case first. That is, if `current == time.Monday` the message \"It'll be Wednesday in two day's time!\" will be displayed, because the default clause is not evaluated first.\n",
    "\n",
    "```go\n",
    "\tcurrent := time.Now().Weekday()  \n",
    "\n",
    "\tswitch current {\n",
    "\tdefault:\n",
    "\t\tfmt.Println(\"Wednesday is more than two days away :(\")\n",
    "\tcase time.Wednesday:\n",
    "\t\tfmt.Println(\"Today is Wednesday!\")\n",
    "\tcase time.Tuesday:\n",
    "\t\tfmt.Println(\"Tomorrow is Wednesday!\")\n",
    "\tcase time.Monday:\n",
    "\t\tfmt.Println(\"It'll be Wednesday in two day's time!\")\n",
    "\t}\n",
    "```"
   ]
  },
  {
   "attachments": {},
   "cell_type": "markdown",
   "metadata": {},
   "source": [
    "### Type Switch\n",
    "\n",
    "A switch can also be used to discover the dynamic type of an interface variable. \n",
    "\n",
    "Such a type switch uses the syntax of a type assertion with the keyword `type` inside the parentheses.\n",
    "\n",
    "If the switch declares a variable in the expression, the variable will have the corresponding type in each clause.\n",
    "\n",
    "It's considered idiomatic to reuse the name in such cases:\n",
    "\n",
    "```go\n",
    "var t interface{}\n",
    "t = functionOfSomeType()\n",
    "switch t := t.(type) {\n",
    "default:\n",
    "  fmt.Printf(\"unexpected type %T\\n\", t)\n",
    "case bool:\n",
    "  fmt.Printf(\"boolean %t\\n\", t)\n",
    "case int:\n",
    "  fmt.Printf(\"integer %t\\n\", t)\n",
    "case *bool:\n",
    "  fmt.Printf(\"pointer to boolean %t\\n\", *t)\n",
    "case *int:\n",
    "  fmt.Printf(\"pointer to int %t\\n\", *t)\n",
    "}\n",
    "```\n",
    "\n",
    "Note again that the default clause is placed first."
   ]
  },
  {
   "attachments": {},
   "cell_type": "markdown",
   "metadata": {},
   "source": [
    "## Functions"
   ]
  },
  {
   "attachments": {},
   "cell_type": "markdown",
   "metadata": {},
   "source": [
    "### Multiple Return Values\n",
    "\n",
    "Go supports functions and methods that return multiple values. This feature is used to support some of the base C capabilities.\n",
    "\n",
    "For example, in Go, the `Write` method is defined as:\n",
    "\n",
    "```go\n",
    "func (file *File) Write(b []byte) (n int, err error)\n",
    "```\n",
    "\n",
    "This allows you to inform the caller that some bytes were written but an error was found before completing the request (maybe you ran out of disk space while doing so).\n",
    "\n",
    "This is a common style, and it is considered idiomatic.\n",
    "\n",
    "Another useful scenario in which multiple return values are handy is illustrated in the following piece of code in which we have a function that returns the value at the given slice index, and the next position:\n",
    "\n",
    "```go\n",
    "func nextInt(b []byte, i int) (int, int) {\n",
    "  for ; i < len(b) && !isDigit(b[i]); i++ {    \n",
    "  }\n",
    "  x := 0\n",
    "  for ; i < len(b) && isDigit(b[i]); i++ {\n",
    "    x = x*10 + int(b[i]) - '0'\n",
    "  }\n",
    "  return x, i\n",
    "}\n",
    "```\n",
    "\n",
    "That function can then be used to scan the numbers in an input slice using:\n",
    "\n",
    "```go\n",
    "for i := 0; i < len(b); {\n",
    "  x, i = nextInt(b, i)\n",
    "  fmt.Println(x)\n",
    "}\n",
    "```"
   ]
  },
  {
   "attachments": {},
   "cell_type": "markdown",
   "metadata": {},
   "source": [
    "### Named Result Parameters\n",
    "\n",
    "In Go, the return parameters can be given names and used as regular variables:\n",
    "\n",
    "```go\n",
    "func nextInt(b []byte, pos int) (value, nextPos int) {\n",
    "  ...\n",
    "}\n",
    "```\n",
    "\n",
    "When named, they're initialized to the zero values for their types, and if the function use a return statement with no arguments, the current values of the result parameters are used as the returned values.\n",
    "\n",
    "It is considered idiomatic to do so, as they can make the code shorter and clearer &mdash; they are documentation."
   ]
  },
  {
   "attachments": {},
   "cell_type": "markdown",
   "metadata": {},
   "source": [
    "### Defer\n",
    "\n",
    "Go's defer statement schedules a function call (the *deferred* function) to be run immediately before the function executing the defer returns.\n",
    "\n",
    "It's an unusual, but effective way to deal with situations such as resources that must be released regardless of which path a function takes to return.\n",
    "\n",
    "The canonical example is closing a file:\n",
    "\n",
    "```go\n",
    "func Contents(filename string) (string, error) {\n",
    "  f, err := os.Open(filename)\n",
    "  if err != nil {\n",
    "    return \"\", err\n",
    "  }\n",
    "  defer f.Close()   // f.Close will run right before exiting Contents\n",
    "\n",
    "  var result []byte\n",
    "  buf := make([]byte, 100)\n",
    "  for {\n",
    "    n, err := f.Read(buf[0:])\n",
    "    result = append(result, buf[0:n]...)\n",
    "    if err != nil {\n",
    "      if err == io.EOF {\n",
    "        break\n",
    "      }\n",
    "      return \"\", err  // f will be closed thanks to defer\n",
    "    }\n",
    "  }\n",
    "  return string(result), nil // f will be closed thanks to defer\n",
    "}\n",
    "```\n",
    "\n",
    "Using defer in this way has several advantages in terms of readability and maintainability:\n",
    "+ it guarantees that the file will be closed, independently of how many branches you have in your code.\n",
    "+ the `Close` is kept near the `Open` statement."
   ]
  },
  {
   "attachments": {},
   "cell_type": "markdown",
   "metadata": {},
   "source": [
    "The arguments to the deferred function are evaluated when the `defer` statement is executed, not when the called to the deferred function is executed.\n",
    "\n",
    "Deferred functions are executed in LIFO order.\n",
    "\n",
    "As a result of the previous paragraphs the snippet:\n",
    "\n",
    "```go\n",
    "for i := 0; i < 5; i++ {\n",
    "  defer fmt.Printf(\"%v \", i)\n",
    "}\n",
    "```\n",
    "\n",
    "will print \"4 3 2 1 0\"."
   ]
  },
  {
   "attachments": {},
   "cell_type": "markdown",
   "metadata": {},
   "source": [
    "While peculiar, `defer` can be used to implement function-based (rather than block-based) solutions to certain problems such as error management or tracing.\n",
    "\n",
    "| EXAMPLE: |\n",
    "| :------- |\n",
    "| See [05_tracing-defer](../../Part_3-misc-mini-projects/01_mini-projects/05_tracing-defer/README.md) for a simple example of how to use `defer` for tracing the execution flow. |"
   ]
  },
  {
   "attachments": {},
   "cell_type": "markdown",
   "metadata": {},
   "source": [
    "## Data\n",
    "\n",
    "Go has two allocation primitives available as built-in functions: `new` and `make`.\n",
    "\n",
    "They do different things and apply to different types."
   ]
  },
  {
   "attachments": {},
   "cell_type": "markdown",
   "metadata": {},
   "source": [
    "### Allocation with new\n",
    "\n",
    "`new` is a built-in function that allocates memory but does not initialize it, that is, it is not a constructor.\n",
    "\n",
    "In technical terms, `new(T)` allocates zeroed storage for a new item of type `T` and returns its address, a value of type `*T` (it returns a pointer to a newly allocated zero value of type T).\n",
    "\n",
    "Many data structures are designed in a way that exploit the zeroed memory to their benefit. For example you either do:\n",
    "\n",
    "```go\n",
    "p := new(SyncedBuffer)\n",
    "var v SyncedBuffer\n",
    "```\n",
    "\n",
    "and start using `p` and `v` without further arrangement."
   ]
  },
  {
   "attachments": {},
   "cell_type": "markdown",
   "metadata": {},
   "source": [
    "### Constructors and composite literals\n",
    "\n",
    "Sometimes the zero value is not enough and an initializing constructor function is necessary:\n",
    "\n",
    "```go\n",
    "func NewFile(fd int, name string) *File {\n",
    "  if fd < 0 {\n",
    "    return nil\n",
    "  }\n",
    "  f := new(File)\n",
    "  f.fd = fd\n",
    "  f.name = name\n",
    "  f.dirinfo = nil\n",
    "  f.nepipe = 0\n",
    "  return f\n",
    "}\n",
    "```\n",
    "\n",
    "In Go, such a verbose initialization can be simplified using composite literal:\n",
    "\n",
    "```go\n",
    "func NewFile(fd int, name string) *File {\n",
    "  if fd < 0 {\n",
    "    return nil\n",
    "  }\n",
    "  f := File{fd, name, nil, 0}\n",
    "  return &f\n",
    "}\n",
    "```\n",
    "\n",
    "And that's one of the reasons you don't typically see that many `new(T)` in the wild.\n",
    "\n",
    "Note also that unlike C, it's perfectly fine to return the address of a function's local variable. The storage associated will survive after the function returns. In fact, you can also take the address of a composite literal and return it as it allocates a fresh instance each time it is evaluated:\n",
    "\n",
    "```go\n",
    "func NewFile(fd int, name string) *File {\n",
    "  if fd < 0 {\n",
    "    return nil\n",
    "  }\n",
    "  return &File{fd, name, nil, 0}\n",
    "}\n",
    "```\n"
   ]
  },
  {
   "attachments": {},
   "cell_type": "markdown",
   "metadata": {},
   "source": [
    "\n",
    "The fields of a composite literal are laid out in order and must all be present as seen in `File{fd, name, nil, 0}`.\n",
    "\n",
    "However, you can use labels to put the fields in any order, and in that case, you can also benefit from the zero values of the corresponding fields:\n",
    "\n",
    "```go\n",
    "func NewFile(fd int, name string) *File {\n",
    "  if fd < 0 {\n",
    "    return nil\n",
    "  }\n",
    "  return &File{fd: fd, name: name}\n",
    "}\n",
    "```\n",
    "\n",
    "If the composite literal contains no fields you can either do `new(File)` or `&File{}` and you'll obtain the same results."
   ]
  },
  {
   "attachments": {},
   "cell_type": "markdown",
   "metadata": {},
   "source": [
    "Composite literals can also be created for arrays, slices, and maps, with the field labels being indices or map keys as appropriate.\n",
    "\n",
    "```go\n",
    "const (\n",
    "\tEnone int = iota\n",
    "\tEio\n",
    "\tEinval\n",
    ")\n",
    "\n",
    "func main() {\n",
    "  // array: [no error, eio, invalid argument]\n",
    "\ta := [...]string {Enone: \"no error\", Eio: \"eio\", Einval: \"invalid argument\" }\n",
    "\n",
    "  // slice: [no error, eio, invalid argument]\n",
    "\ts := []string {Enone: \"no error\", Eio: \"eio\", Einval: \"invalid argument\" }\n",
    "\n",
    "  // map[0: no erro, 1: eio, 2: invalid argument]\n",
    "\tm := map[int]string{Enone: \"no error\", Eio: \"eio\", Einval: \"invalid argument\" }\n",
    "}\n",
    "```"
   ]
  },
  {
   "attachments": {},
   "cell_type": "markdown",
   "metadata": {},
   "source": [
    "### Allocation with make"
   ]
  },
  {
   "attachments": {},
   "cell_type": "markdown",
   "metadata": {},
   "source": [
    "The built-in function `make(T, args)` serves a purpose different from `new(T)`.\n",
    "\n",
    "It creates slices, maps, and channels only, and it returns an initialized (not zeroed) value of type `T` (not `*T`).\n",
    "\n",
    "The reason for the distinction is that these three types represent under the covers references to data structures that must be initialized before use.\n",
    "\n",
    "A slice for example is a three-item descriptor, containing a pointer to the data inside an array, the length, and the capacity. Until those items are initialized the slice is `nil`, not a zeroed memory area.\n",
    "\n",
    "As a result, a call to `make` initializes the internal data structure and prepares the value for its use:\n",
    "\n",
    "```go\n",
    "// allocates an array of 100 ints and create a slice data structure\n",
    "// with length = 10 and capacity of 100 pointing to the first 10 elements of the array\n",
    "make([]int, 10, 100)\n",
    "```\n",
    "\n",
    "In contrast, `new([]int)` returns a pointer to a nil slice value. Statements such as:\n",
    "\n",
    "```go\n",
    "var p *[]int = new([]int)\n",
    "```\n",
    "\n",
    "are rarely useful.\n",
    "\n",
    "| NOTE: |\n",
    "| :---- |\n",
    "| Remember that `make` applies only to maps, slices, and channels, and that does not return a pointer.<br>If you need the pointer allocate with `new` or better yet, take the address of the variable explicitly |"
   ]
  },
  {
   "attachments": {},
   "cell_type": "markdown",
   "metadata": {},
   "source": [
    "### Arrays\n",
    "\n",
    "Arrays are useful when planning the detailed layout of memory and can be used to avoid unnecessary allocation.\n",
    "\n",
    "In practice, they're used primarily as the building blocks for slices.\n",
    "\n",
    "You should know that:\n",
    "+ unlike in C, arrays are values. Assigning one array to another copies all the elements.\n",
    "+ If you pass an array to a function, you will receive a copy of the array, not a pointer to it.\n",
    "+ The size of an array is part of its type. The types `[10]int` and `[20]int` are different.\n",
    "\n",
    "While you can pass an array by address to a function to get a C-like behavior:\n",
    "\n",
    "```go\n",
    "func Sum(a *[3]float64) (sum float64) {\n",
    "  for _, v := range *a {\n",
    "    sum += v\n",
    "  }\n",
    "  return\n",
    "}\n",
    "\n",
    "array := [...]float64{3.0, 5.5, 9.6}\n",
    "x := Sum(&array)\n",
    "```\n",
    "\n",
    "That is not considered idiomatic, and slices should be preferred instead."
   ]
  },
  {
   "attachments": {},
   "cell_type": "markdown",
   "metadata": {},
   "source": [
    "### Slices\n",
    "\n",
    "Slices wrap arrays to give more general, powerful, and convenient interface to sequences of data. Except for items with explicit dimensions such as transformation matrices, most array programming in Go is done with slices rather than arrays.\n",
    "\n",
    "Slices hold references to an underlying array, and if you assign one slice to another, both refer to the same array.\n",
    "\n",
    "If a function takes a slice argument, changes made to the elements of the slice will be visible to the caller, analogous to passing a pointer to the underlying array.\n",
    "\n",
    "As a result, the signature of a `Read` method can look like:\n",
    "\n",
    "```go\n",
    "func (f *File) Read(buf []byte) (n int, err error) {\n",
    "  ...\n",
    "}\n",
    "```\n",
    "\n",
    "That is, you don't need to pass a pointer to buf.\n",
    "\n",
    "To read into the first 32 bytes of a larger buffer you can do:\n",
    "\n",
    "```go\n",
    "n, err := f.Read(buf[0:32])\n",
    "```\n"
   ]
  },
  {
   "attachments": {},
   "cell_type": "markdown",
   "metadata": {},
   "source": [
    "The length of a slice may be changed as long as it still fits with the limits of the underlying array.\n",
    "\n",
    "The capacity of the slice, accesible by `cap`, reports the maximum length the slice may assume.\n",
    "\n",
    "The following function appends data to a slice. If the data exceeds the capacity, the slice is reallocated, and the resulting slice is returned. Note that `len` and `cap` are applied to the `nil` slice (as you can rightfully do), and they return 0.\n",
    "\n",
    "```go\n",
    "func Append(slice, data []byte) []byte {\n",
    "  l := len(slice)\n",
    "  if l + len(data) > cap(slice) {\n",
    "    // Allocated double what's needed for future growth\n",
    "    newSlice := make([]byte, (l+len(data))* 2)\n",
    "    copy(newSlice, slice) // copy is predeclared and works for any slice type\n",
    "    slice = newSlice\n",
    "  }\n",
    "  slice = slice[0:l + len(data)] // enlarge to l + len(data)\n",
    "  copy(slice[l:], data)          // copy the new data\n",
    "  return slice                   // return the modified slice\n",
    "}\n",
    "```\n",
    "\n",
    "Note that we must return the slice because `Append` can modify the elements of `slice`, but the slice itself (the run-time data structure holding the pointer, length, and capacity) is passed by value, so it will revert back to the original underlying backing array, length, and capacity if we returned what's passed as argument."
   ]
  },
  {
   "attachments": {},
   "cell_type": "markdown",
   "metadata": {},
   "source": [
    "### Two-dimensional slices\n",
    "\n",
    "To create 2D arrays or slices you need to define an array of arrays or slice of slices:\n",
    "\n",
    "```go\n",
    "type Transform[3][3]float64 // 3x3 array\n",
    "type LinesOfText [][]byte   // a slice of byte slices\n",
    "```\n",
    "\n",
    "As slices are variable-length, it is possible to have each inner slice be a different length:\n",
    "\n",
    "```go\n",
    "text := LinesOfText{\n",
    "  []byte(\"Now is the time\"),\n",
    "  []byte(\"for all good gophers\"),\n",
    "  []byte(\"to bring some fun to the party\"),\n",
    "}\n",
    "```\n",
    "\n",
    "Sometimes it is necessary to allocate a 2D slice (for example, when processing images as a matrix of pixels).\n",
    "This can be done by either allocating each slice independently, or alternatively to allocate a single array and point the individual slices to it.\n",
    "\n",
    "An example of the first method:\n",
    "\n",
    "```go\n",
    "picture := make([][]uint8, YSize)\n",
    "for i := range picture {\n",
    "  picture[i] = make([]uint8, XSize)\n",
    "}\n",
    "```\n",
    "\n",
    "An example of the second method:\n",
    "\n",
    "```go\n",
    "picture := make([][]uint8, YSize)\n",
    "\n",
    "// Allocate one large slice to hold all the pixels\n",
    "pixels := make([]uint8, XSize*YSize)\n",
    "\n",
    "// Loop over the rows, slicing each row from the front of the remaining pixels slice\n",
    "for i := range picture {\n",
    "  picture[i], pixels = pixels[:XSize], pixels[XSize:]\n",
    "}\n",
    "```"
   ]
  },
  {
   "attachments": {},
   "cell_type": "markdown",
   "metadata": {},
   "source": [
    "### Maps\n",
    "\n",
    "In Go, maps are a convenient built-in data structure that associate values of one type (the key) with values of another type (the element or value).\n",
    "\n",
    "The key can be of any type for which the equality operator is defined (integers, floating point, complex numbers, strings, pointers, interfaces, structs, and arrays). \n",
    "\n",
    "| NOTE: |\n",
    "| :---- |\n",
    "| Slices cannot be used as map keys because equality is not defined on them. |\n",
    "\n",
    "Maps hold references to an underlying data structure. As a result, if you pass a map to a function that changes the contents of the map, the changes will be visible in the caller.\n",
    "\n",
    "Maps can be built using the composite literal syntax:\n",
    "\n",
    "```go\n",
    "var timeZone = map[string]int{\n",
    "  \"UTC\": 0*60*60,\n",
    "  \"EST\": -5*60*60,\n",
    "  \"CST\": -6*60*60,\n",
    "}\n",
    "```\n",
    "\n",
    "Assigning and fetching maps looks syntactically just like doing the same for arrays and slices:\n",
    "\n",
    "```go\n",
    "offset := timeZone[\"EST\"]\n",
    "```\n",
    "\n",
    "An attempts to fetch a map value with a key that is not present will return the zero value for the type of the entries in the map:\n",
    "\n",
    "```go\n",
    "attended := map[string]bool{\n",
    "  \"Harry\": false,\n",
    "  \"Mark\":  true,\n",
    "  \"John\": true,\n",
    "}\n",
    "\n",
    "if attended[person] {\n",
    "  fmt.Println(person, \"was at the meeting\")\n",
    "}\n",
    "```\n",
    "\n",
    "If you need to distinguish a missing entry from the zero value you can do:\n",
    "\n",
    "```go\n",
    "var seconds int\n",
    "var ok bool\n",
    "seconds, ok = timeZone[tz]\n",
    "```\n",
    "\n",
    "| NOTE: |\n",
    "| :---- |\n",
    "| This idiom is called the \"*comma ok*\" idiom. |\n",
    "\n",
    "```go\n",
    "func offset(tz string) int {\n",
    "  if seconds, ok := timeZone[tz]; ok {\n",
    "    return seconds\n",
    "  }\n",
    "  log.Println(\"unknown time zone\", tz)\n",
    "  return 0\n",
    "}\n",
    "```\n",
    "\n",
    "To delete a map entry, you can use the delete built-in function:\n",
    "\n",
    "```go\n",
    "delete(timeZone, \"PDT\")\n",
    "```"
   ]
  },
  {
   "attachments": {},
   "cell_type": "markdown",
   "metadata": {},
   "source": [
    "### Printing\n",
    "\n",
    "Formatted printing in Go is similar to C but richer and more general.\n",
    "\n",
    "The functions live in the `\"fmt\"` package and have capitalized names such as `fmt.Printf`, `fmt.Fprintf`, and `fmt.Sprintf`.\n",
    "\n",
    "For each of `Printf`, `Fprintf`, and `Sprintf`, there is an instance of `Print` and `Println` so that you don't have to provide a format string.\n",
    "\n",
    "The `Println` version inserts a blank between arguments and append a newline to the output.\n",
    "\n",
    "The `Print` version add blanks only if the operand on neither side is a string."
   ]
  },
  {
   "attachments": {},
   "cell_type": "markdown",
   "metadata": {},
   "source": [
    "The formatted print functions `fmt.Fprintf` and friends take any object implementing the `io.Writer` interface as the first argument. The variables, `os.Stdout` and `os.Stderr` are familiar instances."
   ]
  },
  {
   "attachments": {},
   "cell_type": "markdown",
   "metadata": {},
   "source": [
    "While you can use `\"%d\"` for numbers, `\"%x\"` for hex, etc. if you want the default conversion you can use the *catchall* format `\"%v\"`. This even works for arrays, slices, structs, and maps.\n",
    "\n",
    "When printing a struct, the modified format `\"%+v\"` prints also the structure with their names, and the `\"%#v\"` prints the value in full Go syntax.\n",
    "\n",
    "```go\n",
    "type T struct {\n",
    "  a int\n",
    "  b float64\n",
    "  c string\n",
    "}\n",
    "\n",
    "t := &T{7, -2.35, \"abc\\tdef\"}\n",
    "fmt.Printf(\"%v\", t)  // &{7 -2.35 abc    def}\n",
    "fmt.Printf(\"%+v\", t) // &{a:7 b:-2.35 c:abc    def}\n",
    "fmt.Printf(\"%#v\", t) // &{a:7, b:-2.35, c:\"abc\\tdef\"}\n",
    "```\n",
    "\n",
    "The quoted format is available through `\"%q\"` when applied to a `string` or `[]byte`. The alternate format `\"%#q\"` will use backquotes if possible.\n",
    "\n",
    "The format `\"%x\"` produces a long hex string, and `\"% x\"` puts a space between bytes.\n",
    "\n",
    "The format `%T` prints the type of a value."
   ]
  },
  {
   "attachments": {},
   "cell_type": "markdown",
   "metadata": {},
   "source": [
    "To control the default format for a for a custom type, you just need to define a method satisfying the stringer interface:\n",
    "\n",
    "```go\n",
    "func (t *T) String() string {\n",
    "  return fmt.Sprintf(\"...\")\n",
    "}\n",
    "```"
   ]
  },
  {
   "attachments": {},
   "cell_type": "markdown",
   "metadata": {},
   "source": [
    "If you need to print values of type `T` as well as pointers to `T` (that is, `*T`), the receiver for String must be of value type."
   ]
  },
  {
   "attachments": {},
   "cell_type": "markdown",
   "metadata": {},
   "source": [
    "You must not construct a `String` method by calling `Sprintf` in a way that will recur ito your `String` method indefinitely.\n",
    "\n",
    "This can happen if the `Sprintf` call attempts to print the receiver directly as a string, which in turn will invoke the method again:\n",
    "\n",
    "```go\n",
    "type MyString string\n",
    "\n",
    "func (m MyString) String() string {\n",
    "  return fmt.Sprintf(\"MyString=%s\", m)  // will recur forever\n",
    "}\n",
    "```\n",
    "\n",
    "A simple way to fix this is to make sure we're not invoking our custom `String` method:\n",
    "\n",
    "```go\n",
    "func (m MyString) String() string {\n",
    "  return fmt.Sprintf(\"MyString=%s\", string(m))\n",
    "}\n",
    "```"
   ]
  },
  {
   "attachments": {},
   "cell_type": "markdown",
   "metadata": {},
   "source": [
    "Another printing technique is to pass a a print routine's arguments directly to another similar routine.\n",
    "\n",
    "The signature of such print routines are typically:\n",
    "\n",
    "```go\n",
    "func Printf(format string, v ...interface{}) (n int, err error)\n",
    "```\n",
    "\n",
    "Thus, you can do:\n",
    "\n",
    "```go\n",
    "func Println(v ...interface{}) {\n",
    "  std.Output(2, fmt.Sprintln(...v))\n",
    "}\n",
    "```\n",
    "\n",
    "| NOTE: |\n",
    "| :---- |\n",
    "| The syntax `...v` tells the compiler to treat `v` as a list of arguments, instead of as a single array/slice argument. |"
   ]
  },
  {
   "attachments": {},
   "cell_type": "markdown",
   "metadata": {},
   "source": [
    "### Append"
   ]
  },
  {
   "attachments": {},
   "cell_type": "markdown",
   "metadata": {},
   "source": [
    "## Initialization"
   ]
  },
  {
   "attachments": {},
   "cell_type": "markdown",
   "metadata": {},
   "source": [
    "### Constants"
   ]
  },
  {
   "attachments": {},
   "cell_type": "markdown",
   "metadata": {},
   "source": [
    "### Variables"
   ]
  },
  {
   "attachments": {},
   "cell_type": "markdown",
   "metadata": {},
   "source": [
    "### The init function"
   ]
  },
  {
   "attachments": {},
   "cell_type": "markdown",
   "metadata": {},
   "source": [
    "## Methods"
   ]
  },
  {
   "attachments": {},
   "cell_type": "markdown",
   "metadata": {},
   "source": [
    "### Pointers vs. Values"
   ]
  },
  {
   "attachments": {},
   "cell_type": "markdown",
   "metadata": {},
   "source": [
    "## Interfaces and other types"
   ]
  },
  {
   "attachments": {},
   "cell_type": "markdown",
   "metadata": {},
   "source": [
    "### Interfaces"
   ]
  },
  {
   "attachments": {},
   "cell_type": "markdown",
   "metadata": {},
   "source": [
    "### Conversions"
   ]
  },
  {
   "attachments": {},
   "cell_type": "markdown",
   "metadata": {},
   "source": [
    "### Interface conversions and type assertions"
   ]
  },
  {
   "attachments": {},
   "cell_type": "markdown",
   "metadata": {},
   "source": [
    "### Generality"
   ]
  },
  {
   "attachments": {},
   "cell_type": "markdown",
   "metadata": {},
   "source": [
    "### Interfaces and methods"
   ]
  },
  {
   "attachments": {},
   "cell_type": "markdown",
   "metadata": {},
   "source": [
    "## The blank identifier"
   ]
  },
  {
   "attachments": {},
   "cell_type": "markdown",
   "metadata": {},
   "source": [
    "### The blank identifier in multiple assignment"
   ]
  },
  {
   "attachments": {},
   "cell_type": "markdown",
   "metadata": {},
   "source": [
    "### Unused imports and variables"
   ]
  },
  {
   "attachments": {},
   "cell_type": "markdown",
   "metadata": {},
   "source": [
    "### Import for side effect"
   ]
  },
  {
   "attachments": {},
   "cell_type": "markdown",
   "metadata": {},
   "source": [
    "### Interface checks"
   ]
  },
  {
   "attachments": {},
   "cell_type": "markdown",
   "metadata": {},
   "source": [
    "## Embedding"
   ]
  },
  {
   "attachments": {},
   "cell_type": "markdown",
   "metadata": {},
   "source": [
    "## Concurrency"
   ]
  },
  {
   "attachments": {},
   "cell_type": "markdown",
   "metadata": {},
   "source": [
    "### Share by communicating"
   ]
  },
  {
   "attachments": {},
   "cell_type": "markdown",
   "metadata": {},
   "source": [
    "### Goroutines"
   ]
  },
  {
   "attachments": {},
   "cell_type": "markdown",
   "metadata": {},
   "source": [
    "### Channels"
   ]
  },
  {
   "attachments": {},
   "cell_type": "markdown",
   "metadata": {},
   "source": [
    "### Channels of channels"
   ]
  },
  {
   "attachments": {},
   "cell_type": "markdown",
   "metadata": {},
   "source": [
    "### Parallelization"
   ]
  },
  {
   "attachments": {},
   "cell_type": "markdown",
   "metadata": {},
   "source": [
    "### A leaky buffer"
   ]
  },
  {
   "attachments": {},
   "cell_type": "markdown",
   "metadata": {},
   "source": [
    "## Errors"
   ]
  },
  {
   "attachments": {},
   "cell_type": "markdown",
   "metadata": {},
   "source": [
    "### Panic"
   ]
  },
  {
   "attachments": {},
   "cell_type": "markdown",
   "metadata": {},
   "source": [
    "### Recover"
   ]
  },
  {
   "attachments": {},
   "cell_type": "markdown",
   "metadata": {},
   "source": [
    "## A web server"
   ]
  }
 ],
 "metadata": {
  "kernelspec": {
   "display_name": "base",
   "language": "python",
   "name": "python3"
  },
  "language_info": {
   "codemirror_mode": {
    "name": "ipython",
    "version": 3
   },
   "file_extension": ".py",
   "mimetype": "text/x-python",
   "name": "python",
   "nbconvert_exporter": "python",
   "pygments_lexer": "ipython3",
   "version": "3.9.13"
  },
  "orig_nbformat": 4,
  "vscode": {
   "interpreter": {
    "hash": "7a2c4b191d1ae843dde5cb5f4d1f62fa892f6b79b0f9392a84691e890e33c5a4"
   }
  }
 },
 "nbformat": 4,
 "nbformat_minor": 2
}
