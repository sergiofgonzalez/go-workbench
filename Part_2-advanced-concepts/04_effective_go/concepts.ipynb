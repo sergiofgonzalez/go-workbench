{
 "cells": [
  {
   "attachments": {},
   "cell_type": "markdown",
   "metadata": {},
   "source": [
    "# 04: Effective Go\n",
    "\n",
    "These are notes from https://go.dev/doc/effective_go\n",
    "\n",
    "## Objectives \n",
    "\n",
    "TBD"
   ]
  },
  {
   "attachments": {},
   "cell_type": "markdown",
   "metadata": {},
   "source": [
    "## Introduction\n",
    "\n",
    "This guide will let you understand Go's properties and idioms. Additionally, it will be explained Go's conventions relative to naming, formatting, program construction, etc.\n",
    "\n",
    "| NOTE: |\n",
    "| :---- |\n",
    "| This [guide](https://go.dev/doc/effective_go) was written in 2009, and hasn't been updated much since. While it continues to be useful, a few of the examples will feel outdated. |"
   ]
  },
  {
   "attachments": {},
   "cell_type": "markdown",
   "metadata": {},
   "source": [
    "## Formatting\n",
    "\n",
    "Go includes the *gofmt* program, available as `go fmt` that reads a Go program and emits the source in a standard style of indentation and vertical alignment, retaining and if necessary reformatting comments.\n",
    "\n",
    "For example:\n",
    "\n",
    "The *untidied*:\n",
    "```go\n",
    "type T struct {\n",
    "\tname string // name of the object\n",
    "\tvalue int // its value\n",
    "}\n",
    "```\n",
    "\n",
    "Will be transformed by *gofmt* into:\n",
    "\n",
    "```go\n",
    "type T struct {\n",
    "\tname  string // name of the object\n",
    "\tvalue int    // its value\n",
    "}\n",
    "```\n",
    "\n",
    "| NOTE: |\n",
    "| :---- |\n",
    "| You must configure VSCode with `gofmt` in the settings. |\n",
    "\n",
    "Additionally:\n",
    "+ Tabs are used for indentation, and *gofmt* emits them by default. Spaces should be used only if you must.\n",
    "\n",
    "    Because of this, it's not that important whether you set your tab size to 2, 4 or 8. I use two because it makes the code more compact horizontally.\n",
    "\n",
    "+ There is no length limit in Go. If a line feels too long, wrap it and indent with an extra tab.\n",
    "\n",
    "+ Go needs fewer parentheses than C and Java."
   ]
  },
  {
   "attachments": {},
   "cell_type": "markdown",
   "metadata": {},
   "source": [
    "## Commentary\n",
    "\n",
    "Go supports C-style `/* */` block comments and C++-style `//` line comments, with the latter being the norm."
   ]
  },
  {
   "attachments": {},
   "cell_type": "markdown",
   "metadata": {},
   "source": [
    "## Names\n",
    "\n",
    "Names in Go are extremely important, as they even have semantic effects (e.g., the visibility of a name outside of a package is determined by whether its first character is upper case)."
   ]
  },
  {
   "attachments": {},
   "cell_type": "markdown",
   "metadata": {},
   "source": [
    "### Package names\n",
    "\n",
    "When a package name is imported, the package name becomes the accessor for the contents.\n",
    "\n",
    "That is, after:\n",
    "\n",
    "```go\n",
    "import \"bytes\"\n",
    "```\n",
    "\n",
    "you can do `bytes.Buffer`.\n",
    "\n",
    "By convention, packages are given lowercase, single-word names; there should be no need for underscore or mixedcaps. The package names should be short, concise, and evocative.\n",
    "\n",
    "Another convention is that the package name is the base name of its source directory. For example, a package in `src/encoding/base64` will be imported as `import \"encoding/base64\"` and the package name will be `base64` and not `encoding_base64` or similar.\n",
    "\n",
    "Additionally, think of the end-users: when exposing a function in your package use a concise name like `Reader` instead of `BufReader`, as the users will refer to it as `bufio.Reader`.\n",
    "\n",
    "Similarly, when creating new instances of a particular type defined in a package, it is recommended to use something like `New()` instead of `NewRing()` if the package only exports a single type (as it should). This is because the end-users will code `ring.New()` to refer to it.\n",
    "\n",
    "In Go, short names with a helpful doc comment is preferred over a long name:\n",
    "\n",
    "```go\n",
    "// discouraged\n",
    "once.DoOrWaitUntilDone(setup)\n",
    "\n",
    "// preferred\n",
    "once.Do(setup) // blocks until setup is completed\n",
    "```"
   ]
  },
  {
   "attachments": {},
   "cell_type": "markdown",
   "metadata": {},
   "source": [
    "### Getters\n",
    "\n",
    "Go doesn't provide automatic support for getters and setters. \n",
    "\n",
    "This doesn't mean that you cannot use them, but it's not consider idiomatic, nor necessary to put `Get` into the getter's name.\n",
    "\n",
    "In Go, it's preferred to use the name of the object (uppercase, exported) instead of `GetField()`, while for the setter it is OK to use `SetField()`\n",
    "\n",
    "```go\n",
    "// Person is a struct used in the sample\n",
    "type Person struct {\n",
    "\tname string // name of the object\n",
    "\tage  int\n",
    "}\n",
    "\n",
    "// Name is the Person.name getter\n",
    "func (p *Person) Name() string {\n",
    "\treturn p.name\n",
    "}\n",
    "\n",
    "// Age is the Person.age getter\n",
    "func (p *Person) Age() int {\n",
    "\treturn p.age\n",
    "}\n",
    "\n",
    "// SetName is the Person.name setter\n",
    "func (p *Person) SetName(name string) {\n",
    "\tp.name = name\n",
    "}\n",
    "\n",
    "// Age is the Person.name setter\n",
    "func (p *Person) SetAge(age int) {\n",
    "\tp.age = age\n",
    "}\n",
    "\n",
    "func main() {\n",
    "\tvar p Person\n",
    "\n",
    "\tp.SetName(\"Jason Isaacs\")\n",
    "\tp.SetAge(55)\n",
    "\n",
    "\tfmt.Println(p)\n",
    "\n",
    "\tfmt.Printf(\"Hello to %v\\n\", p.Name())\n",
    "}\n",
    "```"
   ]
  },
  {
   "attachments": {},
   "cell_type": "markdown",
   "metadata": {},
   "source": [
    "### Interface names\n",
    "\n",
    "By convention, one-method interfaces are named by the method name plus an *-er* suffix or similar:\n",
    "\n",
    "```go\n",
    "type Reader interface {\n",
    "  Read(f *File, b []byte) (n int, err error)\n",
    "}\n",
    "```\n",
    "\n",
    "There are a number of such names (`Reader`, `Writer`, `Formatter`, `CloseNotifier`...) and it's productive to honor them and the function names they capture.\n",
    "\n",
    "There are also canonical signatures and meanings such as `String()`, `Error()`, `Close()`, `Flush()`, etc.\n",
    "\n",
    "To avoid confusion, don't give your method such names unless it has the same signature and meaning.\n",
    "\n",
    "Conversely, if your type implements a method with the same meaning as a method on a well-known type, give it the same name and signature (e.g., call your string converter method `String()` and not `ToString()`).\n",
    "\n",
    "```go\n",
    "// Person is a struct used in the sample\n",
    "type Person struct {\n",
    "\tname string // name of the object\n",
    "\tage  int\n",
    "}\n",
    "\n",
    "func (p *Person) String() string {\n",
    "\treturn fmt.Sprintf(\"%q (%v)\", p.name, p.age)\n",
    "}\n",
    "\n",
    "func main() {\n",
    "\tvar p *Person = &Person{\"Jason Isaacs\", 56}\n",
    "\n",
    "\tfmt.Println(p)\n",
    "}\n",
    "```"
   ]
  },
  {
   "attachments": {},
   "cell_type": "markdown",
   "metadata": {},
   "source": [
    "### MixedCaps\n",
    "\n",
    "The convention in Go is to use MixedCaps or mixedCaps rather than underscores to write multiWord names."
   ]
  },
  {
   "attachments": {},
   "cell_type": "markdown",
   "metadata": {},
   "source": [
    "## Semicolons\n",
    "\n",
    "Go's formal grammar uses semicolons to terminate statements, but unlike C, those semicolons do not appear in the source &mdash; the lexer includes them automatically as it scans the source code.\n",
    "\n",
    "However, the rules the lexer uses imposes certain conventions, such as having to put the opening brace of a control structure in the same line and not on the next line:\n",
    "\n",
    "```go\n",
    "// Correct\n",
    "if i < f() {\n",
    "  g()\n",
    "}\n",
    "\n",
    "// WRONG!\n",
    "if i < f()\n",
    "{\n",
    "  g()\n",
    "}\n",
    "```\n",
    "\n",
    "| NOTE: |\n",
    "| :---- |\n",
    "| The compiler and IDE will warn you of that even with an \"unexpected newline\" error. |"
   ]
  },
  {
   "attachments": {},
   "cell_type": "markdown",
   "metadata": {},
   "source": [
    "## Control structures\n",
    "\n",
    "In Go:\n",
    "+ There is no `do` or `while` loop, but there is a generalized form of `for` that fits the bill.\n",
    "+ `switch` is far more flexible than in other programming languages.\n",
    "+ `if` and `switch` accept an optional initialization statement (like the one you have in `for` loops).\n",
    "+ `break` and `continue` support an optional label to identify what to break or continue.\n",
    "+ There is a type `switch`\n",
    "+ There is a `select` multiway communication multiplexer.\n"
   ]
  },
  {
   "attachments": {},
   "cell_type": "markdown",
   "metadata": {},
   "source": [
    "### If\n",
    "\n",
    "In Go a simple `if` looks like:\n",
    "\n",
    "```go\n",
    "if x > 0 {\n",
    "  return y\n",
    "}\n",
    "```\n",
    "\n",
    "That is, you need to use the braces no matten how simple the if body is.\n",
    "\n",
    "\"If\" statement in Go supports an initialization statement:\n",
    "\n",
    "```go\n",
    "if err := file.Chmod(0664); err != nil {\n",
    "  log.Print(err)\n",
    "  return err\n",
    "}\n",
    "```\n",
    "\n",
    "In Go, it is also considered idiomatic to code if statements that doesn't flow into the next statement &mdash; that is, the body ends in break, continue, goto, or return:\n",
    "\n",
    "```go\n",
    "f, err := os.Open(name)\n",
    "if err != nil {\n",
    "  return err\n",
    "}\n",
    "\n",
    "codeUsing(f)\n",
    "```\n",
    "\n",
    "The following code shows another example in which you will find no \"else\" statements. In it, flow control runs does the page, eliminating error cases as they arise:\n",
    "\n",
    "```go\n",
    "f, err := os.Open(name)\n",
    "if err != nil {\n",
    "  return err  // Couldn't open the file\n",
    "}\n",
    "\n",
    "d, err := f.Stat()  // redeclaration of err? (see below)\n",
    "if err != nil {\n",
    "  f.Close()\n",
    "  return err  // Couldn't stat the file\n",
    "}\n",
    "\n",
    "codeUsing(f, d)\n",
    "```"
   ]
  },
  {
   "attachments": {},
   "cell_type": "markdown",
   "metadata": {},
   "source": [
    "### Redeclaration and assignment\n",
    "\n",
    "In the last example, we see that we do:\n",
    "\n",
    "```go\n",
    "f, err := os.Open(name)\n",
    "```\n",
    "\n",
    "and a few lines later:\n",
    "\n",
    "```go\n",
    "d, err := f.Stat()\n",
    "```\n",
    "\n",
    "The duplication of `err` is legal: `err` is declared by the first statement, and only re-assigned in the second (that is, the call to `f.Stat()` does not declares a new variable, it just gives it a new value).\n",
    "\n",
    "In a `:=` declaration, a variable `v` may appear even if it has already been declared, provided that:\n",
    "\n",
    "+ this declaration is in the same scope as the existing declaration of `v`. If `v` is already declared in an outer scope, the declaration will create a new variable,\n",
    "\n",
    "+ the corresponding value in the initialization is assignable to `v`, and\n",
    "\n",
    "+ there is at least one other variable that is created by the declaration."
   ]
  },
  {
   "attachments": {},
   "cell_type": "markdown",
   "metadata": {},
   "source": [
    "### For"
   ]
  },
  {
   "attachments": {},
   "cell_type": "markdown",
   "metadata": {},
   "source": [
    "### Switch"
   ]
  },
  {
   "attachments": {},
   "cell_type": "markdown",
   "metadata": {},
   "source": [
    "### Type Switch"
   ]
  },
  {
   "attachments": {},
   "cell_type": "markdown",
   "metadata": {},
   "source": [
    "## Functions"
   ]
  },
  {
   "attachments": {},
   "cell_type": "markdown",
   "metadata": {},
   "source": [
    "### Multiple Return Values"
   ]
  },
  {
   "attachments": {},
   "cell_type": "markdown",
   "metadata": {},
   "source": [
    "### Named Result Parameters"
   ]
  },
  {
   "attachments": {},
   "cell_type": "markdown",
   "metadata": {},
   "source": [
    "### Defer"
   ]
  },
  {
   "attachments": {},
   "cell_type": "markdown",
   "metadata": {},
   "source": [
    "## Data"
   ]
  },
  {
   "attachments": {},
   "cell_type": "markdown",
   "metadata": {},
   "source": [
    "### Allocation with new"
   ]
  },
  {
   "attachments": {},
   "cell_type": "markdown",
   "metadata": {},
   "source": [
    "### Constructors and composite literals"
   ]
  },
  {
   "attachments": {},
   "cell_type": "markdown",
   "metadata": {},
   "source": [
    "### Allocation with make"
   ]
  },
  {
   "attachments": {},
   "cell_type": "markdown",
   "metadata": {},
   "source": [
    "### Arrays"
   ]
  },
  {
   "attachments": {},
   "cell_type": "markdown",
   "metadata": {},
   "source": [
    "### Slices"
   ]
  },
  {
   "attachments": {},
   "cell_type": "markdown",
   "metadata": {},
   "source": [
    "### Two-dimensional slices"
   ]
  },
  {
   "attachments": {},
   "cell_type": "markdown",
   "metadata": {},
   "source": [
    "### Maps"
   ]
  },
  {
   "attachments": {},
   "cell_type": "markdown",
   "metadata": {},
   "source": [
    "### Printing"
   ]
  },
  {
   "attachments": {},
   "cell_type": "markdown",
   "metadata": {},
   "source": [
    "### Append"
   ]
  },
  {
   "attachments": {},
   "cell_type": "markdown",
   "metadata": {},
   "source": [
    "## Initialization"
   ]
  },
  {
   "attachments": {},
   "cell_type": "markdown",
   "metadata": {},
   "source": [
    "### Constants"
   ]
  },
  {
   "attachments": {},
   "cell_type": "markdown",
   "metadata": {},
   "source": [
    "### Variables"
   ]
  },
  {
   "attachments": {},
   "cell_type": "markdown",
   "metadata": {},
   "source": [
    "### The init function"
   ]
  },
  {
   "attachments": {},
   "cell_type": "markdown",
   "metadata": {},
   "source": [
    "## Methods"
   ]
  },
  {
   "attachments": {},
   "cell_type": "markdown",
   "metadata": {},
   "source": [
    "### Pointers vs. Values"
   ]
  },
  {
   "attachments": {},
   "cell_type": "markdown",
   "metadata": {},
   "source": [
    "## Interfaces and other types"
   ]
  },
  {
   "attachments": {},
   "cell_type": "markdown",
   "metadata": {},
   "source": [
    "### Interfaces"
   ]
  },
  {
   "attachments": {},
   "cell_type": "markdown",
   "metadata": {},
   "source": [
    "### Conversions"
   ]
  },
  {
   "attachments": {},
   "cell_type": "markdown",
   "metadata": {},
   "source": [
    "### Interface conversions and type assertions"
   ]
  },
  {
   "attachments": {},
   "cell_type": "markdown",
   "metadata": {},
   "source": [
    "### Generality"
   ]
  },
  {
   "attachments": {},
   "cell_type": "markdown",
   "metadata": {},
   "source": [
    "### Interfaces and methods"
   ]
  },
  {
   "attachments": {},
   "cell_type": "markdown",
   "metadata": {},
   "source": [
    "## The blank identifier"
   ]
  },
  {
   "attachments": {},
   "cell_type": "markdown",
   "metadata": {},
   "source": [
    "### The blank identifier in multiple assignment"
   ]
  },
  {
   "attachments": {},
   "cell_type": "markdown",
   "metadata": {},
   "source": [
    "### Unused imports and variables"
   ]
  },
  {
   "attachments": {},
   "cell_type": "markdown",
   "metadata": {},
   "source": [
    "### Import for side effect"
   ]
  },
  {
   "attachments": {},
   "cell_type": "markdown",
   "metadata": {},
   "source": [
    "### Interface checks"
   ]
  },
  {
   "attachments": {},
   "cell_type": "markdown",
   "metadata": {},
   "source": [
    "## Embedding"
   ]
  },
  {
   "attachments": {},
   "cell_type": "markdown",
   "metadata": {},
   "source": [
    "## Concurrency"
   ]
  },
  {
   "attachments": {},
   "cell_type": "markdown",
   "metadata": {},
   "source": [
    "### Share by communicating"
   ]
  },
  {
   "attachments": {},
   "cell_type": "markdown",
   "metadata": {},
   "source": [
    "### Goroutines"
   ]
  },
  {
   "attachments": {},
   "cell_type": "markdown",
   "metadata": {},
   "source": [
    "### Channels"
   ]
  },
  {
   "attachments": {},
   "cell_type": "markdown",
   "metadata": {},
   "source": [
    "### Channels of channels"
   ]
  },
  {
   "attachments": {},
   "cell_type": "markdown",
   "metadata": {},
   "source": [
    "### Parallelization"
   ]
  },
  {
   "attachments": {},
   "cell_type": "markdown",
   "metadata": {},
   "source": [
    "### A leaky buffer"
   ]
  },
  {
   "attachments": {},
   "cell_type": "markdown",
   "metadata": {},
   "source": [
    "## Errors"
   ]
  },
  {
   "attachments": {},
   "cell_type": "markdown",
   "metadata": {},
   "source": [
    "### Panic"
   ]
  },
  {
   "attachments": {},
   "cell_type": "markdown",
   "metadata": {},
   "source": [
    "### Recover"
   ]
  },
  {
   "attachments": {},
   "cell_type": "markdown",
   "metadata": {},
   "source": [
    "## A web server"
   ]
  }
 ],
 "metadata": {
  "kernelspec": {
   "display_name": "base",
   "language": "python",
   "name": "python3"
  },
  "language_info": {
   "codemirror_mode": {
    "name": "ipython",
    "version": 3
   },
   "file_extension": ".py",
   "mimetype": "text/x-python",
   "name": "python",
   "nbconvert_exporter": "python",
   "pygments_lexer": "ipython3",
   "version": "3.9.13"
  },
  "orig_nbformat": 4,
  "vscode": {
   "interpreter": {
    "hash": "7a2c4b191d1ae843dde5cb5f4d1f62fa892f6b79b0f9392a84691e890e33c5a4"
   }
  }
 },
 "nbformat": 4,
 "nbformat_minor": 2
}
