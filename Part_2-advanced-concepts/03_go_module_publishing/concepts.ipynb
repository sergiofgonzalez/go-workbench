{
 "cells": [
  {
   "attachments": {},
   "cell_type": "markdown",
   "metadata": {},
   "source": [
    "# 03: Steps for publishing a Go module\n",
    "\n",
    "These are notes from https://go.dev/doc/modules/publishing\n",
    "\n",
    "## Objectives \n",
    "\n",
    "Learn how to publish versioned Go modules."
   ]
  },
  {
   "attachments": {},
   "cell_type": "markdown",
   "metadata": {},
   "source": [
    "## Introduction\n",
    "\n",
    "Publishing a Go module so that it is available for other developers through Go tools it's extremely easy.\n",
    "\n",
    "After having published the module, developers importing its packages will be able to resolve a dependency on the module running commands such as `go get`."
   ]
  },
  {
   "attachments": {},
   "cell_type": "markdown",
   "metadata": {},
   "source": [
    "## Publishing steps\n",
    "\n",
    "1. Open a command prompt and change to your module's root directory in the local repository.\n",
    "\n",
    "2. Run `go mod tidy`, which removes any dependencies the module might have accumulated that are not longer necessary.\n",
    "\n",
    "3. Run `go test ./...` to make sure everything is working.\n",
    "\n",
    "4. Tag the project with a new version number using `git tag`:\n",
    "\n",
    "    ```bash\n",
    "    git commit -m \"mymodule: changes for v0.1.0\"\n",
    "    git tag v0.1.0\n",
    "    ```\n",
    "\n",
    "5. Push the tag to the remote (e.g., `origin`):\n",
    "\n",
    "    ```bash\n",
    "    git push origin v0.1.0\n",
    "    ```\n",
    "\n",
    "6. Make the module available by running the `go list` command to make Go to update its index of modules with information about the module you're publishing:\n",
    "\n",
    "    ```bash\n",
    "    GOPROXY=proxy.golang.org go list -m github.com/sergiofgonzalez/mymodule@v0.1.0\n",
    "    ```\n",
    "\n",
    "    Note: preceding the `go list` command with `GOPROXY` will ensure your request reaches the proxy.\n",
    "\n",
    "7. Now developers interested in your module can do `go get github.com/sergiofgonzalez/mymodule@v0.1.0`. The package will also be available using from https://pkg.go.dev"
   ]
  }
 ],
 "metadata": {
  "kernelspec": {
   "display_name": "base",
   "language": "python",
   "name": "python3"
  },
  "language_info": {
   "codemirror_mode": {
    "name": "ipython",
    "version": 3
   },
   "file_extension": ".py",
   "mimetype": "text/x-python",
   "name": "python",
   "nbconvert_exporter": "python",
   "pygments_lexer": "ipython3",
   "version": "3.9.13"
  },
  "orig_nbformat": 4,
  "vscode": {
   "interpreter": {
    "hash": "7a2c4b191d1ae843dde5cb5f4d1f62fa892f6b79b0f9392a84691e890e33c5a4"
   }
  }
 },
 "nbformat": 4,
 "nbformat_minor": 2
}
