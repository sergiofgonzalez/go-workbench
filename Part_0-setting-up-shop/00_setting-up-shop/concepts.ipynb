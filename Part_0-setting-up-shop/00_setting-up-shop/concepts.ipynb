{
 "cells": [
  {
   "attachments": {},
   "cell_type": "markdown",
   "metadata": {},
   "source": [
    "# 00: Setting up shop with go\n",
    "\n",
    "## Contents\n",
    "\n",
    "+ Installing and verifying\n",
    "+ Setting up VSCode for Go development\n",
    "+ Your first Go program"
   ]
  },
  {
   "attachments": {},
   "cell_type": "markdown",
   "metadata": {},
   "source": [
    "## Installing Go\n",
    "\n",
    "To install Go follow the instructions for your platform in https://go.dev/.\n",
    "\n",
    "Essentially, you will need to download, untar, and configure your path so that the Go binaries are found.\n",
    "\n",
    "Once installed you should be able to do:"
   ]
  },
  {
   "cell_type": "code",
   "execution_count": 1,
   "metadata": {},
   "outputs": [
    {
     "name": "stdout",
     "output_type": "stream",
     "text": [
      "go version go1.19.5 linux/amd64\n"
     ]
    }
   ],
   "source": [
    "%%bash\n",
    "\n",
    "go version"
   ]
  },
  {
   "attachments": {},
   "cell_type": "markdown",
   "metadata": {},
   "source": [
    "## Upgrading Go\n",
    "\n",
    "The recommended way to upgrade Go version is:\n",
    "\n",
    "1. Download the latest version from https://go.dev/doc/install\n",
    "\n",
    "2. Remove any previous installations\n",
    "\n",
    "    ```bash\n",
    "    sudo rm -rf /usr/local/go\n",
    "    ```\n",
    "\n",
    "3. Install the newer version using tar:\n",
    "\n",
    "    ```bash\n",
    "     sudo tar -C /usr/local -xzvf go1.20.linux-amd64.tar.gz\n",
    "    ```\n",
    "\n",
    "You can run the file [install+upgrade-go.sh](./install%2Bupgrade-go.sh) which contains all these actions in an automated fashion."
   ]
  },
  {
   "attachments": {},
   "cell_type": "markdown",
   "metadata": {},
   "source": [
    "## Setting up VSCode for Go development\n",
    "\n",
    "You can visit https://code.visualstudio.com/docs/languages/go for the latest information.\n",
    "\n",
    "In summary you should:\n",
    "+ Install the VSCode\n",
    "+ Install the Go extension, followed by any additional required prompts like the Go language server.\n",
    "+ It is then recommended to enable better syntax highlighting using `\"gopls\": { \"ui.semanticTokens\": true }`.\n",
    "+ For standardization sake, is also usefult to configure `golint` as the Go linting tool.\n",
    "\n",
    "\n",
    "Go comes with a lot of tooling packaged with the distribution: linters, formatters, test runners, etc.\n",
    "\n",
    "By default, VSCode comes with the `formatOnSave` enabled.\n",
    "\n",
    "VSCode will do its best with IntelliSense to provide autocompletion for Go.\n",
    "\n",
    "Remember that:\n",
    "+ Ctrl+Space &mdash; trigger suggestions manually\n",
    "+ Ctrl+Shift+ Space &mdash; function signature help\n",
    "\n",
    "After that, you can follow the\n",
    "[YouTube video](https://www.youtube.com/watch?v=1MXIGYrMk80) which is recommended on the VSCode page, but please note that it's a bit more advanced than a hello world, but would let you validate a few of the Go capabilities.\n",
    "\n",
    "After the video you can go through the page to understand the capabilities of the VSCode Go extension.\n",
    "\n",
    "The tasks are:\n",
    "+ Install Go Extension\n",
    "+ Create a new module `greeter`, write a function on it\n",
    "+ Create in the root a `main.go` that invokes the function created in the `greeter` module\n",
    "+ Run `go run main.go` to see it running\n"
   ]
  },
  {
   "attachments": {},
   "cell_type": "markdown",
   "metadata": {},
   "source": [
    "## Validating the installation with a contrived example\n",
    "\n",
    "This is a walktrhough of the example in [YouTube video](https://www.youtube.com/watch?v=1MXIGYrMk80). This is more complicated than a simple Hello, world!, but will let you validate that the installation and VSCode configuration is OK.\n",
    "\n",
    "Do not pay too much attention to the underlying details, and just make sure all of the steps can be successfully accomplished."
   ]
  },
  {
   "attachments": {},
   "cell_type": "markdown",
   "metadata": {},
   "source": [
    "### Create a directory to host your Go project\n",
    "\n",
    "Create a directory `01_hello-go` where you will host your solution."
   ]
  },
  {
   "attachments": {},
   "cell_type": "markdown",
   "metadata": {},
   "source": [
    "### Create a module\n",
    "\n",
    "Modules are Go's distribution units. You can create a module by running:\n",
    "\n",
    "```bash\n",
    "go mod init example.com/01_hello-go\n",
    "```\n",
    "\n",
    "| NOTE: |\n",
    "| :---- |\n",
    "| It is recommended to run that on its VSCode instance so that all the Go tooling runs correctly. |\n",
    "\n",
    "After that, you will find that a `go.mod` file has been created."
   ]
  },
  {
   "attachments": {},
   "cell_type": "markdown",
   "metadata": {},
   "source": [
    "### Create a Go package\n",
    "\n",
    "Next we create a Go package, which is a folder that contains Go code. You can create the folder manually from VSCode.\n",
    "\n",
    "For the purposes of the example, create a folder named `mascot/` and a file within it called `mascot.go`.\n",
    "\n",
    "At that point, the Go extension will kick in, and might require to install or update some Go related tools."
   ]
  },
  {
   "attachments": {},
   "cell_type": "markdown",
   "metadata": {},
   "source": [
    "### Writing your first few Go lines\n",
    "\n",
    "Now you can start populating the `mascot/mascot.go` file doing:\n",
    "+ declaring the package using `package` keyword\n",
    "+ declaring a function `BestMascot` that does not receive anything and returns the `string` \"Tux\".\n",
    "\n",
    "The final code should be:\n",
    "\n",
    "```go\n",
    "package mascot\n",
    "\n",
    "\n",
    "// BestMascot returns the name of the best mascot\n",
    "func BestMascot() string {\n",
    "\treturn \"Tux\"\n",
    "}\n",
    "```"
   ]
  },
  {
   "attachments": {},
   "cell_type": "markdown",
   "metadata": {},
   "source": [
    "### Writing your first main.go\n",
    "\n",
    "The entry point for a Go application is typically a `main()` function that directs the execution of the program.\n",
    "\n",
    "To do that, you need to create a `main.go` at the root of the Go module, and then:\n",
    "+ declare the package using `package` (the suggested name `main` will work).\n",
    "+ declare a `main()` function that doesn't take parameters and doesn't return anything (note the capitalization).\n",
    "+ Use the standard library to print the value returned by the `BestMascot()` function, using `fmt.Println()`\n",
    "\n",
    "This will validate that package imports are automatically added to the file you're writing.\n",
    "\n",
    "The final source code will look like:\n",
    "\n",
    "```go\n",
    "package main\n",
    "\n",
    "import (\n",
    "\t\"fmt\"\n",
    "\n",
    "\t\"example.com/01_hello-go/mascot\"\n",
    ")\n",
    "\n",
    "func main() {\n",
    "\tfmt.Println(mascot.BestMascot())\n",
    "}\n",
    "```\n"
   ]
  },
  {
   "attachments": {},
   "cell_type": "markdown",
   "metadata": {},
   "source": [
    "### Running your program\n",
    "\n",
    "You'll be able to run it using:\n",
    "\n",
    "```bash\n",
    "go run main.go\n",
    "```"
   ]
  },
  {
   "attachments": {},
   "cell_type": "markdown",
   "metadata": {},
   "source": [
    "### Using your first 3rd party package\n",
    "\n",
    "Now you can use the `quote` package to also print some random quote in your `main.go` program.\n",
    "\n",
    "As I already downloded it before, it was suggested by VSCode, and the only thing pending was use the \"Quick Fix\" option to explictly depend on it, so that I can use it. Behind the scene, VSCode will run `go get package rsc.io/quote`\n",
    "\n",
    "The final code should look like:\n",
    "\n",
    "```go\n",
    "package main\n",
    "\n",
    "import (\n",
    "\t\"fmt\"\n",
    "\n",
    "\t\"example.com/01_hello-go/mascot\"\n",
    "\t\"rsc.io/quote\"\n",
    ")\n",
    "\n",
    "func main() {\n",
    "\tfmt.Println(mascot.BestMascot())\n",
    "\tfmt.Println(quote.Go())\n",
    "}\n",
    "```\n",
    "\n",
    "This will update the existing `go.mod` with the declaration of the 3rd party deps, and also a `go.sum` (a kind of a package-lock.json) will be created.\n",
    "\n",
    "You can validate it using:\n",
    "\n",
    "```bash\n",
    "go run main.go\n",
    "```"
   ]
  },
  {
   "attachments": {},
   "cell_type": "markdown",
   "metadata": {},
   "source": [
    "### Writing your first tests\n",
    "\n",
    "Create a `mascot_test.go` in the `mascot/` package.\n",
    "\n",
    "Tests are a bit more complicated to write, so you can just copy the following snippet, which just checks that we're returning a particular string from our code:\n",
    "\n",
    "```go\n",
    "package mascot_test\n",
    "\n",
    "import (\n",
    "\t\"testing\"\n",
    "\n",
    "\t\"example.com/01_hello-go/mascot\"\n",
    ")\n",
    "\n",
    "func TestMascot(t *testing.T) {\n",
    "\tif mascot.BestMascot() != \"Go Gopher!\" {\n",
    "\t\tt.Fatal(\"Wrong mascot!\")\n",
    "\t}\n",
    "}\n",
    "```\n",
    "\n",
    "With this, we will validate that VSCode detects our tests and that those can be ran from VSCode itself and not from the terminal."
   ]
  },
  {
   "attachments": {},
   "cell_type": "markdown",
   "metadata": {},
   "source": [
    "## Additional learning materials/ToDos\n",
    "\n",
    "+ [X] Go getting started and tour\n",
    "+ [X] Go through [The Go Programming Language Specification](https://go.dev/ref/spec)\n",
    "+ [X] Library that pretty prints bytes in their correct unit (MB, GB, etc.)\n",
    "+ [X] Go through https://go.dev/doc/effective_go\n",
    "+ [-] Go through the official tutorials at https://go.dev/doc/\n",
    "+ [-] Do examples from Learn Go with pocket-sized projects\n",
    "+ [-] Learn Go TDD https://quii.gitbook.io/learn-go-with-tests/\n",
    "+ [ ] Learn about `go doc` in https://go.dev/blog/godoc\n",
    "+ [ ] Effective Go book 2nd, ed.\n",
    "+ [ ] Go through https://go.dev/blog/slices-intro\n",
    "+ [ ] You don't know Go book\n",
    "\n",
    "\n"
   ]
  }
 ],
 "metadata": {
  "kernelspec": {
   "display_name": "base",
   "language": "python",
   "name": "python3"
  },
  "language_info": {
   "codemirror_mode": {
    "name": "ipython",
    "version": 3
   },
   "file_extension": ".py",
   "mimetype": "text/x-python",
   "name": "python",
   "nbconvert_exporter": "python",
   "pygments_lexer": "ipython3",
   "version": "3.9.13"
  },
  "orig_nbformat": 4,
  "vscode": {
   "interpreter": {
    "hash": "7a2c4b191d1ae843dde5cb5f4d1f62fa892f6b79b0f9392a84691e890e33c5a4"
   }
  }
 },
 "nbformat": 4,
 "nbformat_minor": 2
}
