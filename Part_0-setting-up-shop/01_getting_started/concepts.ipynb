{
 "cells": [
  {
   "attachments": {},
   "cell_type": "markdown",
   "metadata": {},
   "source": [
    "# 01: Getting started with Go\n",
    "\n",
    "This section is a summary of https://go.dev/doc/tutorial/getting-started\n",
    "\n",
    "## Objectives\n",
    "\n",
    "+ Validate Go installation\n",
    "+ Write some Go code\n",
    "+ Call code in an external package"
   ]
  },
  {
   "attachments": {},
   "cell_type": "markdown",
   "metadata": {},
   "source": [
    "## Getting started with Hello, world!\n",
    "\n",
    "The first thing is to validate we have Go installed:"
   ]
  },
  {
   "cell_type": "code",
   "execution_count": 1,
   "metadata": {},
   "outputs": [
    {
     "name": "stdout",
     "output_type": "stream",
     "text": [
      "go version go1.20 linux/amd64\n"
     ]
    }
   ],
   "source": [
    "%%bash\n",
    "\n",
    "go version"
   ]
  },
  {
   "attachments": {},
   "cell_type": "markdown",
   "metadata": {},
   "source": [
    "Then, we need to create a directory for the source code:"
   ]
  },
  {
   "cell_type": "code",
   "execution_count": 2,
   "metadata": {},
   "outputs": [],
   "source": [
    "%%bash\n",
    "\n",
    "mkdir -p 01_hello-world/hello\n",
    "\n"
   ]
  },
  {
   "attachments": {},
   "cell_type": "markdown",
   "metadata": {},
   "source": [
    "Then, you need to enable dependency tracking for your code.\n",
    "\n",
    "When your code imports functionalities, those are handled through your code's own **module**. That module is defined by a `go.mod` file that tracks the modules provides those functionalities, which are known as **packages**.\n",
    "\n",
    "| NOTE: |\n",
    "| :---- |\n",
    "| The `go.mod` file should be included in Git. |\n",
    "\n",
    "To enable this, you have to use the `go mode init` command passing the name of the module, which should be the module's *module path*.\n",
    "\n",
    "| NOTE: |\n",
    "| :---- |\n",
    "| In real development (and not in hello, world! samples) the module path should be the repository location where your source code will be kept as in `github.com/sergiofgonzalez/mymodule`.<br>If you plane to publish your module for others to use, the module path must be a location from which Go tools can download your module. |\n",
    "\n",
    "For our simple case, we can run:\n",
    "\n",
    "```bash\n",
    "go mod init example/hello\n",
    "```\n",
    "\n",
    "This will create the `go.mod` file with the required information."
   ]
  },
  {
   "attachments": {},
   "cell_type": "markdown",
   "metadata": {},
   "source": [
    "Right after that, you can proceed to write your hello, world! program.\n",
    "\n",
    "You should start by creating a `hello.go` file in the root of the `hello/` directory, declaring the package as `main` and with a `main()` function that outputs the message.\n",
    "\n",
    "| NOTE: |\n",
    "| :---- |\n",
    "| At this point, it is recommended that you open your own VSCode instance, so that the `gopls` can work correctly.<br>VSCode support multimodules, but it is out of the scope of this tutorial (see https://github.com/golang/tools/blob/master/gopls/doc/workspace.md). |"
   ]
  },
  {
   "attachments": {},
   "cell_type": "markdown",
   "metadata": {},
   "source": [
    "The source code for such a program will be:\n",
    "\n",
    "```go\n",
    "package main\n",
    "\n",
    "import \"fmt\"\n",
    "\n",
    "\n",
    "func main() {\n",
    "\tfmt.Println(\"Hello, world!\")\n",
    "}\n",
    "```"
   ]
  },
  {
   "attachments": {},
   "cell_type": "markdown",
   "metadata": {},
   "source": [
    "Once typed, you can run your program by doing:\n",
    "\n",
    "```bash\n",
    "go run .\n",
    "```\n",
    "\n",
    "You can also try `go help` to obtain a list of additional commands you can use with `go`.\n",
    "\n",
    "| EXAMPLE: |\n",
    "| :------- |\n",
    "| See [01_hello-world](01_hello-world) for a runnable example. |"
   ]
  },
  {
   "attachments": {},
   "cell_type": "markdown",
   "metadata": {},
   "source": [
    "In order to make it more exciting, we will include a call to an external package to illustrate how easy it is.\n",
    "\n",
    "| EXAMPLE: |\n",
    "| :------- |\n",
    "| See [02_hello-world](02_hello-world) for a runnable example. |\n",
    "\n",
    "The journey to start using a 3rd party code to call should start in [pkg.go.dev](https://pkg.go.dev/search).\n",
    "\n",
    "From there, look for a \"quote\" package.\n",
    "\n",
    "![pkg.go.dev](images/pkg.go.dev.png)\n",
    "\n",
    "Once located the package, click on it, and note that in the Index section of the documentation you have the *exposed* functions you can call from your code.\n",
    "\n",
    "![Quote docs](images/quote-docs.png)\n",
    "\n",
    "We will use `Go()` function, which according to the documentation returns a Go proverb.\n",
    "\n",
    "Also at the top of the page, note that `quote` is included as part of the `rsc.io/quote/v4` module.\n",
    "\n",
    "Then update your code, so that instead of the proverbial \"hello, world!\" you're printing the output of the `Go()` from the `quote` module:\n",
    "\n",
    "```go\n",
    "package main\n",
    "\n",
    "import (\n",
    "\t\"fmt\"\n",
    "\n",
    "\t\"rsc.io/quote/v4\"\n",
    ")\n",
    "\n",
    "\n",
    "func main() {\n",
    "\tfmt.Println(quote.Go())\n",
    "}\n",
    "```"
   ]
  },
  {
   "attachments": {},
   "cell_type": "markdown",
   "metadata": {},
   "source": [
    "At this point, you need to add the `quote` module as a requirement, as well as a `go.sum` file that will be used in *authenticating the module*.\n",
    "\n",
    "That can be done in one shot with:\n",
    "\n",
    "```go\n",
    "go mod tidy\n",
    "```\n",
    "\n",
    "That command will be in charge of locate and download the `rsc.io/quote/v4` module that contains the package (functionality) you want to use."
   ]
  },
  {
   "attachments": {},
   "cell_type": "markdown",
   "metadata": {},
   "source": [
    "Right after that you can do `go run .` again, and your program will print the Go proverb. "
   ]
  }
 ],
 "metadata": {
  "kernelspec": {
   "display_name": "base",
   "language": "python",
   "name": "python3"
  },
  "language_info": {
   "codemirror_mode": {
    "name": "ipython",
    "version": 3
   },
   "file_extension": ".py",
   "mimetype": "text/x-python",
   "name": "python",
   "nbconvert_exporter": "python",
   "pygments_lexer": "ipython3",
   "version": "3.9.13"
  },
  "orig_nbformat": 4,
  "vscode": {
   "interpreter": {
    "hash": "7a2c4b191d1ae843dde5cb5f4d1f62fa892f6b79b0f9392a84691e890e33c5a4"
   }
  }
 },
 "nbformat": 4,
 "nbformat_minor": 2
}
