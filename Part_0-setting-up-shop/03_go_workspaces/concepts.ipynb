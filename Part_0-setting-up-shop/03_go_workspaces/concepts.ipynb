{
 "cells": [
  {
   "attachments": {},
   "cell_type": "markdown",
   "metadata": {},
   "source": [
    "# 03: Go workspaces\n",
    "\n",
    "This section is a summary of https://go.dev/doc/tutorial/workspaces\n",
    "\n",
    "## Objectives \n",
    "+ Learn the basics of multi-module workspaces\n"
   ]
  },
  {
   "attachments": {},
   "cell_type": "markdown",
   "metadata": {},
   "source": [
    "## Summary\n",
    "\n",
    "Multi-module workspaces in Go lets you work in multiple modules at the same time while letting the Go command how to work with them when building and running those."
   ]
  },
  {
   "attachments": {},
   "cell_type": "markdown",
   "metadata": {},
   "source": [
    "## Working with multi-modules\n",
    "\n",
    "Let's start by creating a `example.com/hello` module for your code. Then, add a dependency on the `golang.org/x/example` module by using:\n",
    "\n",
    "```bash\n",
    "go get golang.org/x/example\n",
    "```\n",
    "\n",
    "Right after that, you can create a `hello.go` in the `hello/` directory with the following contents:\n",
    "\n",
    "```go\n",
    "package main\n",
    "\n",
    "import (\n",
    "\t\"fmt\"\n",
    "\n",
    "\t\"golang.org/x/example/stringutil\"\n",
    ")\n",
    "\n",
    "func main() {\n",
    "\tfmt.Println(stringutil.Reverse(\"Hello to Jason Isaacs!\"))\n",
    "}\n",
    "```"
   ]
  },
  {
   "attachments": {},
   "cell_type": "markdown",
   "metadata": {},
   "source": [
    "Now let's initialize the workspace. In the workspace directory (that is, in `01_workspace/`) run:\n",
    "\n",
    "```bash\n",
    "go work init ./hello\n",
    "```\n",
    "\n",
    "A `go.work` file will be created with some basic information about the workspace telling Go which version of the Go to use and where is the main module that should be used when running a build.\n",
    "\n",
    "As a result, from the `01_workspace` directory you'll be able to do:\n",
    "\n",
    "```bash\n",
    "go run example.com/hello\n",
    "!scaasI nosaJ ot olleH\n",
    "```"
   ]
  },
  {
   "attachments": {},
   "cell_type": "markdown",
   "metadata": {},
   "source": [
    "Let's now add a local copy of the `golang.org/x/example` module to the workspace. We'll then proceed to modify it, and use it in our program.\n",
    "\n",
    "From the workspace directory `01_workspace/`, clone the `golang.org/x/example`:\n",
    "\n",
    "```bash\n",
    "git clone https://go.googlesource.com/example\n",
    "Cloning into 'example'...\n",
    "remote: Total 204 (delta 49), reused 204 (delta 49)\n",
    "Receiving objects: 100% (204/204), 459.42 KiB | 4.14 MiB/s, done.\n",
    "Resolving deltas: 100% (49/49), done.\n",
    "```"
   ]
  },
  {
   "attachments": {},
   "cell_type": "markdown",
   "metadata": {},
   "source": [
    "As we intend to customize it, we need to add it to our workspace:\n",
    "\n",
    "```bash\n",
    "go work use ./example\n",
    "```\n",
    "\n",
    "That will modify the existing `go.work` file to include this new module we'll be working on.\n",
    "\n",
    "Let's create a new file named `toupper.go` in the `example/stringutil/` directory. There, we will create a `ToUpper()` function as seen below:\n",
    "\n",
    "```go\n",
    "package stringutil\n",
    "\n",
    "import \"unicode\"\n",
    "\n",
    "// ToUpper returns the string resulting from capitalizing all the characters of the string received\n",
    "func ToUpper(s string) string {\n",
    "\tr := []rune(s)\n",
    "\tfor i := range r {\n",
    "\t\tr[i] = unicode.ToUpper(r[i])\n",
    "\t}\n",
    "\n",
    "\treturn string(r)\n",
    "}\n",
    "```\n",
    "\n",
    "In the code we have:\n",
    "+ declared an exported function `ToUpper()`\n",
    "\n",
    "+ use the `rune(s)` to transform the string into an array of runes (the term use in Go to refer to code points in Unicode).\n",
    "\n",
    "+ Use a for loop to iterate over the runes, using `unicode.ToUpper()` to transform each rune into its capitalized equivalent.\n",
    "\n",
    "+ Convert back the array of runes into a string using `string(r)`"
   ]
  },
  {
   "attachments": {},
   "cell_type": "markdown",
   "metadata": {},
   "source": [
    "Now, let's modify the `hello` program to use this function:\n",
    "\n",
    "```go\n",
    "package main\n",
    "\n",
    "import (\n",
    "\t\"fmt\"\n",
    "\n",
    "\t\"golang.org/x/example/stringutil\"\n",
    ")\n",
    "\n",
    "func main() {\n",
    "\t// Was:\n",
    "\t// fmt.Println(stringutil.Reverse(\"Hello to Jason Isaacs!\"))\n",
    "\n",
    "\tfmt.Println(stringutil.ToUpper(\"Hello to Jason Isaacs!\"))\n",
    "}\n",
    "```\n",
    "\n",
    "After the modification you can do:\n",
    "\n",
    "```bash\n",
    "go run example.com/hello\n",
    "HELLO TO JASON ISAACS!\n",
    "```\n",
    "\n",
    "See how the `go command` has been able to find the module that we had customized just because it was added to the workspace.\n",
    "\n",
    "Note that this is also an alternative to the `go mode edit --replace` command we used when learning how to call modules in the [Creating Modules](../02_creating_modules/concepts.ipynb) tutorial.\n",
    "```"
   ]
  },
  {
   "attachments": {},
   "cell_type": "markdown",
   "metadata": {},
   "source": [
    "Note that when we're done with the development, we should be making a release of the module, for example 0.1.0, and then do:\n",
    "\n",
    "```bash\n",
    "cd hello\n",
    "go get golang.org/x/example@v0.1.0\n",
    "```\n",
    "\n",
    "so that the `go` command can properly resolve the modules outside the workspace."
   ]
  },
  {
   "attachments": {},
   "cell_type": "markdown",
   "metadata": {},
   "source": [
    "Apart from the commands seen above you can do:\n",
    "\n",
    "+ `go work use [-r] [dir]` adds a use directive to the `go.work` file for `dir/`, or removes it if it doesn't exist. The `-r` flag examines the subdirs recursively.\n",
    "\n",
    "+ `go work edit` edits the `go.work` file similarly to `go mod edit`.\n",
    "\n",
    "+ `go work sync` syncs dependencies\n",
    "\n",
    "You can learn more about workspaces [here](https://go.dev/ref/mod#workspaces)\n",
    "\n",
    "| EXAMPLE: |\n",
    "| :------- |\n",
    "| See [01_workspace](01_workspace/) for a runnable example. |"
   ]
  }
 ],
 "metadata": {
  "kernelspec": {
   "display_name": "base",
   "language": "python",
   "name": "python3"
  },
  "language_info": {
   "codemirror_mode": {
    "name": "ipython",
    "version": 3
   },
   "file_extension": ".py",
   "mimetype": "text/x-python",
   "name": "python",
   "nbconvert_exporter": "python",
   "pygments_lexer": "ipython3",
   "version": "3.9.13"
  },
  "orig_nbformat": 4,
  "vscode": {
   "interpreter": {
    "hash": "7a2c4b191d1ae843dde5cb5f4d1f62fa892f6b79b0f9392a84691e890e33c5a4"
   }
  }
 },
 "nbformat": 4,
 "nbformat_minor": 2
}
